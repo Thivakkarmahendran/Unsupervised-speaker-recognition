{
 "cells": [
  {
   "cell_type": "code",
   "execution_count": 8,
   "metadata": {},
   "outputs": [],
   "source": [
    "#imports\n",
    "import numpy as np\n",
    "import matplotlib.pyplot as plt\n",
    "\n",
    "#audio\n",
    "from pydub import AudioSegment\n",
    "from pydub.utils import make_chunks\n",
    "\n",
    "#audio feature extraction library\n",
    "import librosa\n",
    "from librosa import feature\n",
    "\n",
    "#model\n",
    "import tensorflow as tf\n",
    "from sklearn.model_selection import train_test_split\n",
    "import soundfile as sf\n",
    "\n",
    "import keras\n",
    "from keras.layers import Dense\n",
    "from keras.models import Sequential\n",
    "from keras.layers import Flatten\n",
    "from keras.layers.embeddings import Embedding\n",
    "\n",
    "#Other\n",
    "import os\n",
    "from glob import glob\n",
    "import time\n",
    "import pickle"
   ]
  },
  {
   "cell_type": "code",
   "execution_count": 9,
   "metadata": {},
   "outputs": [],
   "source": [
    "speakers = [\"Obama\", \"Hillary\", \"Ivanka\", \"Trump\", \"No Speaker\", \"Modi\", \"Xi-Jinping\", \"Chadwick-Boseman\"]"
   ]
  },
  {
   "cell_type": "code",
   "execution_count": 10,
   "metadata": {},
   "outputs": [],
   "source": [
    "def findAllAudioFilePaths():\n",
    "    audioFilesPaths = [y for x in os.walk(\"Dataset/Youtube Speech Dataset/Dataset\") for y in glob(os.path.join(x[0], '*.wav'))]\n",
    "    return audioFilesPaths"
   ]
  },
  {
   "cell_type": "code",
   "execution_count": 11,
   "metadata": {},
   "outputs": [],
   "source": [
    "def speakerToLabel(speakerName):\n",
    "    #index = speakers.index(speakerName)\n",
    "    \n",
    "    #if(index == -1):\n",
    "    #    print(\"Speaker not found: {}\".format(speakerName))\n",
    "    \n",
    "    if(speakerName == \"No Speaker\"):\n",
    "        return 0\n",
    "    else:\n",
    "        return 1\n",
    "    \n",
    "    \n",
    "    #return index"
   ]
  },
  {
   "cell_type": "code",
   "execution_count": 12,
   "metadata": {},
   "outputs": [],
   "source": [
    "def getSpeakerAndAudio(audioPaths):\n",
    "    audio_Paths = []\n",
    "    labels = []\n",
    "    uniqueSpeakers = {}\n",
    "\n",
    "    for audioPath in audioPaths:\n",
    "        speakerName = audioPath.split(\"/\")[3]\n",
    "\n",
    "        audioLength = librosa.get_duration(filename=audioPath)\n",
    "        \n",
    "        if audioLength == 1.0:\n",
    "            audio_Paths.append(audioPath)\n",
    "            labels.append(speakerToLabel(speakerName))\n",
    "            uniqueSpeakers[speakerName] = uniqueSpeakers.get(speakerName, 0) + 1\n",
    "        else:\n",
    "            print(\"Audio clip discarded, actual length = {}\".format(audioLength))\n",
    "    \n",
    "    return audio_Paths, labels, uniqueSpeakers"
   ]
  },
  {
   "cell_type": "code",
   "execution_count": 13,
   "metadata": {},
   "outputs": [],
   "source": [
    " #https://towardsdatascience.com/how-i-understood-what-features-to-consider-while-training-audio-files-eedfb6e9002b\n",
    "        \n",
    "def getFeatures(audio_Paths):\n",
    "    \n",
    "    data_X = []\n",
    "    \n",
    "    for path in audio_Paths:\n",
    "        \n",
    "        audioFeatureArray = []        \n",
    "        y, sr = librosa.load(path)\n",
    "        \n",
    "        #mfcc\n",
    "        mfccArray = librosa.feature.mfcc(y=y, sr=sr)\n",
    "        audioFeatureArray.append(mfccArray.flatten())\n",
    "        audioFeatureNumpyArray = np.array(audioFeatureArray)\n",
    "        \n",
    "        #zero_crossing_rate\n",
    "        zeroCrossingArray = librosa.feature.zero_crossing_rate(y=y)\n",
    "        np.append(audioFeatureNumpyArray, zeroCrossingArray.flatten())\n",
    "        \n",
    "        #spectral_rolloff\n",
    "        spectralRollOffArray = librosa.feature.spectral_rolloff(y=y, sr=sr)\n",
    "        np.append(audioFeatureNumpyArray, spectralRollOffArray.flatten())\n",
    "        \n",
    "        #pitch and magnitude\n",
    "        pitchArray, magnitudeArray = librosa.piptrack(y=y, sr=sr)\n",
    "        np.append(audioFeatureNumpyArray, pitchArray.flatten())\n",
    "        np.append(audioFeatureNumpyArray, magnitudeArray.flatten())\n",
    "        \n",
    "        \n",
    "        data_X.append(audioFeatureNumpyArray.flatten())\n",
    "        \n",
    "        \n",
    "    return data_X"
   ]
  },
  {
   "cell_type": "code",
   "execution_count": 14,
   "metadata": {},
   "outputs": [],
   "source": [
    "%%script false --no-raise-error #makes this code not run\n",
    "\n",
    "print(\"This code cell should not run\")\n",
    "\n",
    "audioPaths = findAllAudioFilePaths()\n",
    "audio_Paths, labels, uniqueSpeakers = getSpeakerAndAudio(audioPaths)\n",
    " \n",
    "\n",
    "print(\"\")\n",
    "print(\"-------------------------\")\n",
    "for speaker in uniqueSpeakers: \n",
    "    print(\"Speaker: {}, length: {} minutes\".format(speaker, int(uniqueSpeakers[speaker])/60 )) \n",
    "print(\"-------------------------\")\n",
    "print(\"\")\n",
    "\n",
    "\n",
    "print(\"Total Dataset size: {}\".format(len(audio_Paths)))\n",
    "\n",
    "startTime = time.time()\n",
    "data_X = getFeatures(audio_Paths)\n",
    "endTime = time.time()\n",
    "\n",
    "print(\"Time to extract Features {} minutes\".format( (endTime-startTime)/60))\n",
    "\n",
    "print(\"X data: {}\".format(len(data_X)))\n",
    "print(\"Y data: {}\".format(len(labels)))\n",
    "\n",
    "\n",
    "############\n",
    "print(\"\")\n",
    "\n",
    "print(\"Creating Dataset X pickel\")\n",
    "pickle_dataX = open(\"dataX.pickle\",\"wb\")\n",
    "pickle.dump(data_X, pickle_dataX)\n",
    "pickle_dataX.close()\n",
    "\n",
    "print(\"Creating Dataset Y pickel\")\n",
    "pickle_dataY = open(\"dataY.pickle\",\"wb\")\n",
    "pickle.dump(labels, pickle_dataY)\n",
    "pickle_dataY.close()\n",
    "############"
   ]
  },
  {
   "cell_type": "code",
   "execution_count": 15,
   "metadata": {},
   "outputs": [
    {
     "name": "stdout",
     "output_type": "stream",
     "text": [
      "Loading Dataset X from pickel\n",
      "Loading Dataset Y from pickel\n"
     ]
    }
   ],
   "source": [
    "#######\n",
    "print(\"Loading Dataset X from pickel\")\n",
    "pickle_dataX = open(\"dataX.pickle\",\"rb\")\n",
    "data_X = pickle.load(pickle_dataX)\n",
    "\n",
    "print(\"Loading Dataset Y from pickel\")\n",
    "pickle_dataY = open(\"dataY.pickle\",\"rb\")\n",
    "labels = pickle.load(pickle_dataY)\n",
    "#######\n",
    "\n",
    "\n",
    "train_X, test_X, train_Y, test_Y = train_test_split(data_X, labels, test_size=0.2)\n",
    "\n",
    "train_x = np.array(train_X)\n",
    "train_y = np.array(train_Y)\n",
    "test_x = np.array(test_X)\n",
    "test_y = np.array(test_Y)\n",
    "\n",
    "train_y = tf.keras.utils.to_categorical(train_y)\n",
    "test_y = tf.keras.utils.to_categorical(test_y)\n"
   ]
  },
  {
   "cell_type": "code",
   "execution_count": 23,
   "metadata": {},
   "outputs": [],
   "source": [
    "# create a model\n",
    "#from tf.keras.layers import Dense\n",
    "\n",
    "def create_model():\n",
    "    model = tf.keras.Sequential()\n",
    "    \n",
    "    \"\"\"\"\n",
    "    model.add(tf.keras.layers.Dense(12,input_shape= train_x.shape, activation='relu'))\n",
    "    model.add(tf.keras.layers.Dense(8, activation='relu'))\n",
    "    model.add(tf.keras.layers.Dense(len(speakers), activation=\"softmax\"))\n",
    "    \"\"\"\n",
    "    \n",
    "    model.add(Dense(128, input_shape= train_x.shape, activation='relu'))\n",
    "    #model.add(Dense(64, activation='relu'))\n",
    "    #model.add(Dense(32, activation='relu'))\n",
    "    model.add(Dense(16, activation='relu'))\n",
    "    model.add(Dense(2, activation=\"sigmoid\"))\n",
    "    \n",
    "    model.compile(optimizer=tf.keras.optimizers.Adam(lr=3e-4)\n",
    "            , loss = \"binary_crossentropy\"\n",
    "            , metrics = [\"accuracy\"])\n",
    "                          \n",
    "    \n",
    "    \n",
    "    return model"
   ]
  },
  {
   "cell_type": "code",
   "execution_count": 24,
   "metadata": {},
   "outputs": [
    {
     "name": "stdout",
     "output_type": "stream",
     "text": [
      "Epoch 1/19\n",
      "WARNING:tensorflow:Model was constructed with shape (None, 11847, 880) for input Tensor(\"dense_10_input:0\", shape=(None, 11847, 880), dtype=float32), but it was called on an input with incompatible shape (None, 880).\n",
      "WARNING:tensorflow:Model was constructed with shape (None, 11847, 880) for input Tensor(\"dense_10_input:0\", shape=(None, 11847, 880), dtype=float32), but it was called on an input with incompatible shape (None, 880).\n",
      "370/371 [============================>.] - ETA: 0s - loss: 0.3939 - accuracy: 0.9785WARNING:tensorflow:Model was constructed with shape (None, 11847, 880) for input Tensor(\"dense_10_input:0\", shape=(None, 11847, 880), dtype=float32), but it was called on an input with incompatible shape (None, 880).\n",
      "371/371 [==============================] - 1s 2ms/step - loss: 0.3937 - accuracy: 0.9785 - val_loss: 0.0628 - val_accuracy: 0.9976\n",
      "Epoch 2/19\n",
      "371/371 [==============================] - 1s 1ms/step - loss: 0.0310 - accuracy: 0.9983 - val_loss: 0.0097 - val_accuracy: 0.9993\n",
      "Epoch 3/19\n",
      "371/371 [==============================] - 1s 1ms/step - loss: 0.0071 - accuracy: 0.9992 - val_loss: 0.0044 - val_accuracy: 0.9993\n",
      "Epoch 4/19\n",
      "371/371 [==============================] - 1s 1ms/step - loss: 0.0045 - accuracy: 0.9993 - val_loss: 0.0039 - val_accuracy: 0.9993\n",
      "Epoch 5/19\n",
      "371/371 [==============================] - 0s 1ms/step - loss: 0.0036 - accuracy: 0.9993 - val_loss: 0.0041 - val_accuracy: 0.9993\n",
      "Epoch 6/19\n",
      "371/371 [==============================] - 1s 1ms/step - loss: 0.0037 - accuracy: 0.9993 - val_loss: 0.0036 - val_accuracy: 0.9993\n",
      "Epoch 7/19\n",
      "371/371 [==============================] - 1s 1ms/step - loss: 0.0222 - accuracy: 0.9984 - val_loss: 0.0045 - val_accuracy: 0.9993\n",
      "Epoch 8/19\n",
      "371/371 [==============================] - 1s 2ms/step - loss: 0.0067 - accuracy: 0.9981 - val_loss: 0.0040 - val_accuracy: 0.9993\n",
      "Epoch 9/19\n",
      "371/371 [==============================] - 1s 1ms/step - loss: 0.0039 - accuracy: 0.9992 - val_loss: 0.0036 - val_accuracy: 0.9993\n",
      "Epoch 10/19\n",
      "371/371 [==============================] - 1s 2ms/step - loss: 0.0039 - accuracy: 0.9992 - val_loss: 0.0036 - val_accuracy: 0.9993\n",
      "Epoch 11/19\n",
      "371/371 [==============================] - 1s 1ms/step - loss: 0.0038 - accuracy: 0.9992 - val_loss: 0.0035 - val_accuracy: 0.9993\n",
      "Epoch 12/19\n",
      "371/371 [==============================] - 1s 1ms/step - loss: 0.0040 - accuracy: 0.9992 - val_loss: 0.0036 - val_accuracy: 0.9993\n",
      "Epoch 13/19\n",
      "371/371 [==============================] - 1s 1ms/step - loss: 0.0084 - accuracy: 0.9967 - val_loss: 0.0040 - val_accuracy: 0.9990\n",
      "Epoch 14/19\n",
      "371/371 [==============================] - 1s 2ms/step - loss: 0.0041 - accuracy: 0.9992 - val_loss: 0.0034 - val_accuracy: 0.9993\n",
      "Epoch 15/19\n",
      "371/371 [==============================] - 1s 1ms/step - loss: 0.0040 - accuracy: 0.9992 - val_loss: 0.0034 - val_accuracy: 0.9993\n",
      "Epoch 16/19\n",
      "371/371 [==============================] - 1s 1ms/step - loss: 0.0039 - accuracy: 0.9992 - val_loss: 0.0036 - val_accuracy: 0.9993\n",
      "Epoch 17/19\n",
      "371/371 [==============================] - 1s 1ms/step - loss: 0.0058 - accuracy: 0.9992 - val_loss: 0.0034 - val_accuracy: 0.9993\n",
      "Epoch 18/19\n",
      "371/371 [==============================] - 1s 2ms/step - loss: 0.0035 - accuracy: 0.9992 - val_loss: 0.0034 - val_accuracy: 0.9993\n",
      "Epoch 19/19\n",
      "371/371 [==============================] - 1s 1ms/step - loss: 0.0040 - accuracy: 0.9992 - val_loss: 0.0035 - val_accuracy: 0.9993\n"
     ]
    },
    {
     "data": {
      "image/png": "[encoded data removed]",
      "text/plain": [
       "<Figure size 432x288 with 1 Axes>"
      ]
     },
     "metadata": {
      "needs_background": "light"
     },
     "output_type": "display_data"
    },
    {
     "data": {
      "image/png": "[encoded data removed]",
      "text/plain": [
       "<Figure size 432x288 with 1 Axes>"
      ]
     },
     "metadata": {
      "needs_background": "light"
     },
     "output_type": "display_data"
    }
   ],
   "source": [
    "model = create_model()\n",
    "\n",
    "model.fit(x=train_x, y=train_y, epochs=19, verbose=1,  validation_data=(test_x, test_y))\n",
    "\n",
    "\n",
    "\n",
    "# Plot history: Loss\n",
    "plt.plot(model.history.history['loss'], label=\"train\")\n",
    "plt.plot(model.history.history['val_loss'], label=\"test\")\n",
    "plt.title('Validation loss history')\n",
    "plt.ylabel('Loss value')\n",
    "plt.xlabel('No. epoch')\n",
    "plt.legend(loc=\"upper right\")\n",
    "plt.show()\n",
    "\n",
    "# Plot history: Accuracy\n",
    "plt.plot(model.history.history['accuracy'], label=\"train\")\n",
    "plt.plot(model.history.history['val_accuracy'], label=\"test\")\n",
    "plt.title('Validation accuracy history')\n",
    "plt.ylabel('Accuracy value (%)')\n",
    "plt.xlabel('No. epoch')\n",
    "plt.legend(loc=\"upper left\")\n",
    "plt.show()"
   ]
  },
  {
   "cell_type": "code",
   "execution_count": 25,
   "metadata": {},
   "outputs": [
    {
     "name": "stdout",
     "output_type": "stream",
     "text": [
      "Model: \"sequential_2\"\n",
      "_________________________________________________________________\n",
      "Layer (type)                 Output Shape              Param #   \n",
      "=================================================================\n",
      "dense_10 (Dense)             (None, 11847, 128)        112768    \n",
      "_________________________________________________________________\n",
      "dense_11 (Dense)             (None, 11847, 16)         2064      \n",
      "_________________________________________________________________\n",
      "dense_12 (Dense)             (None, 11847, 2)          34        \n",
      "=================================================================\n",
      "Total params: 114,866\n",
      "Trainable params: 114,866\n",
      "Non-trainable params: 0\n",
      "_________________________________________________________________\n"
     ]
    }
   ],
   "source": [
    "model.summary()"
   ]
  },
  {
   "cell_type": "code",
   "execution_count": 19,
   "metadata": {},
   "outputs": [
    {
     "name": "stdout",
     "output_type": "stream",
     "text": [
      "WARNING:tensorflow:From /Users/thivakkarmahendran/opt/anaconda3/lib/python3.7/site-packages/tensorflow/python/training/tracking/tracking.py:111: Model.state_updates (from tensorflow.python.keras.engine.training) is deprecated and will be removed in a future version.\n",
      "Instructions for updating:\n",
      "This property should not be used in TensorFlow 2.0, as updates are applied automatically.\n",
      "WARNING:tensorflow:From /Users/thivakkarmahendran/opt/anaconda3/lib/python3.7/site-packages/tensorflow/python/training/tracking/tracking.py:111: Layer.updates (from tensorflow.python.keras.engine.base_layer) is deprecated and will be removed in a future version.\n",
      "Instructions for updating:\n",
      "This property should not be used in TensorFlow 2.0, as updates are applied automatically.\n",
      "INFO:tensorflow:Assets written to: Trained Model/assets\n"
     ]
    }
   ],
   "source": [
    "#save the model t\n",
    "model.save('Trained Model')"
   ]
  },
  {
   "cell_type": "code",
   "execution_count": null,
   "metadata": {},
   "outputs": [],
   "source": []
  }
 ],
 "metadata": {
  "kernelspec": {
   "display_name": "Python 3",
   "language": "python",
   "name": "python3"
  },
  "language_info": {
   "codemirror_mode": {
    "name": "ipython",
    "version": 3
   },
   "file_extension": ".py",
   "mimetype": "text/x-python",
   "name": "python",
   "nbconvert_exporter": "python",
   "pygments_lexer": "ipython3",
   "version": "3.7.4"
  }
 },
 "nbformat": 4,
 "nbformat_minor": 4
}
