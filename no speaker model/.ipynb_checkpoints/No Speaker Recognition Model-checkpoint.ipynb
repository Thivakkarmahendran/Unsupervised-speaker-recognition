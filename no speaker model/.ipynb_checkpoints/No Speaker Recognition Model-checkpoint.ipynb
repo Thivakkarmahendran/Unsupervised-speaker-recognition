{
 "cells": [
  {
   "cell_type": "code",
   "execution_count": 30,
   "metadata": {},
   "outputs": [],
   "source": [
    "#imports\n",
    "import numpy as np\n",
    "import matplotlib.pyplot as plt\n",
    "\n",
    "#audio\n",
    "from pydub import AudioSegment\n",
    "from pydub.utils import make_chunks\n",
    "\n",
    "#audio feature extraction library\n",
    "import librosa\n",
    "from librosa import feature\n",
    "\n",
    "#model\n",
    "import tensorflow as tf\n",
    "from sklearn.model_selection import train_test_split\n",
    "import soundfile as sf\n",
    "\n",
    "import keras\n",
    "from keras.layers import Dense\n",
    "from keras.models import Sequential\n",
    "from keras.layers import Flatten\n",
    "from keras.layers.embeddings import Embedding\n",
    "\n",
    "#Other\n",
    "import os\n",
    "from glob import glob\n",
    "import time\n",
    "import pickle"
   ]
  },
  {
   "cell_type": "code",
   "execution_count": 31,
   "metadata": {},
   "outputs": [],
   "source": [
    "speakers = [\"Obama\", \"Hillary\", \"Ivanka\", \"Trump\", \"No Speaker\", \"Modi\", \"Xi-Jinping\", \"Chadwick-Boseman\"]"
   ]
  },
  {
   "cell_type": "code",
   "execution_count": 32,
   "metadata": {},
   "outputs": [],
   "source": [
    "def findAllAudioFilePaths():\n",
    "    audioFilesPaths = [y for x in os.walk(\"Dataset/Youtube Speech Dataset/Dataset\") for y in glob(os.path.join(x[0], '*.wav'))]\n",
    "    return audioFilesPaths"
   ]
  },
  {
   "cell_type": "code",
   "execution_count": 33,
   "metadata": {},
   "outputs": [],
   "source": [
    "def speakerToLabel(speakerName):\n",
    "    #index = speakers.index(speakerName)\n",
    "    \n",
    "    #if(index == -1):\n",
    "    #    print(\"Speaker not found: {}\".format(speakerName))\n",
    "    \n",
    "    if(speakerName == \"No Speaker\"):\n",
    "        return 0\n",
    "    else:\n",
    "        return 1\n",
    "    \n",
    "    \n",
    "    #return index"
   ]
  },
  {
   "cell_type": "code",
   "execution_count": 34,
   "metadata": {},
   "outputs": [],
   "source": [
    "def getSpeakerAndAudio(audioPaths):\n",
    "    audio_Paths = []\n",
    "    labels = []\n",
    "    uniqueSpeakers = {}\n",
    "\n",
    "    for audioPath in audioPaths:\n",
    "        speakerName = audioPath.split(\"/\")[3]\n",
    "\n",
    "        audioLength = librosa.get_duration(filename=audioPath)\n",
    "        \n",
    "        if audioLength == 1.0:\n",
    "            audio_Paths.append(audioPath)\n",
    "            labels.append(speakerToLabel(speakerName))\n",
    "            uniqueSpeakers[speakerName] = uniqueSpeakers.get(speakerName, 0) + 1\n",
    "        else:\n",
    "            print(\"Audio clip discarded, actual length = {}\".format(audioLength))\n",
    "    \n",
    "    return audio_Paths, labels, uniqueSpeakers"
   ]
  },
  {
   "cell_type": "code",
   "execution_count": 35,
   "metadata": {},
   "outputs": [],
   "source": [
    " #https://towardsdatascience.com/how-i-understood-what-features-to-consider-while-training-audio-files-eedfb6e9002b\n",
    "        \n",
    "def getFeatures(audio_Paths):\n",
    "    \n",
    "    data_X = []\n",
    "    \n",
    "    for path in audio_Paths:\n",
    "        \n",
    "        audioFeatureArray = []        \n",
    "        y, sr = librosa.load(path)\n",
    "        \n",
    "        #mfcc\n",
    "        mfccArray = librosa.feature.mfcc(y=y, sr=sr)\n",
    "        audioFeatureArray.append(mfccArray.flatten())\n",
    "        audioFeatureNumpyArray = np.array(audioFeatureArray)\n",
    "        \n",
    "        #zero_crossing_rate\n",
    "        zeroCrossingArray = librosa.feature.zero_crossing_rate(y=y)\n",
    "        np.append(audioFeatureNumpyArray, zeroCrossingArray.flatten())\n",
    "        \n",
    "        #spectral_rolloff\n",
    "        spectralRollOffArray = librosa.feature.spectral_rolloff(y=y, sr=sr)\n",
    "        np.append(audioFeatureNumpyArray, spectralRollOffArray.flatten())\n",
    "        \n",
    "        #pitch and magnitude\n",
    "        pitchArray, magnitudeArray = librosa.piptrack(y=y, sr=sr)\n",
    "        np.append(audioFeatureNumpyArray, pitchArray.flatten())\n",
    "        np.append(audioFeatureNumpyArray, magnitudeArray.flatten())\n",
    "        \n",
    "        \n",
    "        data_X.append(audioFeatureNumpyArray.flatten())\n",
    "        \n",
    "        \n",
    "    return data_X"
   ]
  },
  {
   "cell_type": "code",
   "execution_count": 36,
   "metadata": {},
   "outputs": [],
   "source": [
    "%%script false --no-raise-error #makes this code not run\n",
    "\n",
    "print(\"This code cell should not run\")\n",
    "\n",
    "audioPaths = findAllAudioFilePaths()\n",
    "audio_Paths, labels, uniqueSpeakers = getSpeakerAndAudio(audioPaths)\n",
    " \n",
    "\n",
    "print(\"\")\n",
    "print(\"-------------------------\")\n",
    "for speaker in uniqueSpeakers: \n",
    "    print(\"Speaker: {}, length: {} minutes\".format(speaker, int(uniqueSpeakers[speaker])/60 )) \n",
    "print(\"-------------------------\")\n",
    "print(\"\")\n",
    "\n",
    "\n",
    "print(\"Total Dataset size: {}\".format(len(audio_Paths)))\n",
    "\n",
    "startTime = time.time()\n",
    "data_X = getFeatures(audio_Paths)\n",
    "endTime = time.time()\n",
    "\n",
    "print(\"Time to extract Features {} minutes\".format( (endTime-startTime)/60))\n",
    "\n",
    "print(\"X data: {}\".format(len(data_X)))\n",
    "print(\"Y data: {}\".format(len(labels)))\n",
    "\n",
    "\n",
    "############\n",
    "print(\"\")\n",
    "\n",
    "print(\"Creating Dataset X pickel\")\n",
    "pickle_dataX = open(\"dataX.pickle\",\"wb\")\n",
    "pickle.dump(data_X, pickle_dataX)\n",
    "pickle_dataX.close()\n",
    "\n",
    "print(\"Creating Dataset Y pickel\")\n",
    "pickle_dataY = open(\"dataY.pickle\",\"wb\")\n",
    "pickle.dump(labels, pickle_dataY)\n",
    "pickle_dataY.close()\n",
    "############"
   ]
  },
  {
   "cell_type": "code",
   "execution_count": 37,
   "metadata": {},
   "outputs": [
    {
     "name": "stdout",
     "output_type": "stream",
     "text": [
      "Loading Dataset X from pickel\n",
      "Loading Dataset Y from pickel\n"
     ]
    }
   ],
   "source": [
    "#######\n",
    "print(\"Loading Dataset X from pickel\")\n",
    "pickle_dataX = open(\"dataX.pickle\",\"rb\")\n",
    "data_X = pickle.load(pickle_dataX)\n",
    "\n",
    "print(\"Loading Dataset Y from pickel\")\n",
    "pickle_dataY = open(\"dataY.pickle\",\"rb\")\n",
    "labels = pickle.load(pickle_dataY)\n",
    "#######\n",
    "\n",
    "\n",
    "train_X, test_X, train_Y, test_Y = train_test_split(data_X, labels, test_size=0.2)\n",
    "\n",
    "train_x = np.array(train_X)\n",
    "train_y = np.array(train_Y)\n",
    "test_x = np.array(test_X)\n",
    "test_y = np.array(test_Y)\n",
    "\n",
    "train_y = tf.keras.utils.to_categorical(train_y)\n",
    "test_y = tf.keras.utils.to_categorical(test_y)\n"
   ]
  },
  {
   "cell_type": "code",
   "execution_count": 38,
   "metadata": {},
   "outputs": [],
   "source": [
    "# create a model\n",
    "#from tf.keras.layers import Dense\n",
    "\n",
    "def create_model():\n",
    "    model = tf.keras.Sequential()\n",
    "    \n",
    "    \"\"\"\"\n",
    "    model.add(tf.keras.layers.Dense(12,input_shape= train_x.shape, activation='relu'))\n",
    "    model.add(tf.keras.layers.Dense(8, activation='relu'))\n",
    "    model.add(tf.keras.layers.Dense(len(speakers), activation=\"softmax\"))\n",
    "    \"\"\"\n",
    "    \n",
    "    model.add(Dense(128, input_shape= train_x.shape, activation='relu'))\n",
    "    model.add(Dense(64, activation='relu'))\n",
    "    model.add(Dense(32, activation='relu'))\n",
    "    model.add(Dense(16, activation='relu'))\n",
    "    model.add(Dense(len(speakers), activation=\"softmax\"))\n",
    "    \n",
    "    model.compile(optimizer=tf.keras.optimizers.Adam(lr=3e-4)\n",
    "            , loss = \"categorical_crossentropy\"\n",
    "            , metrics = [\"accuracy\"])\n",
    "                          \n",
    "    \n",
    "    \n",
    "    return model"
   ]
  },
  {
   "cell_type": "code",
   "execution_count": 39,
   "metadata": {},
   "outputs": [
    {
     "name": "stdout",
     "output_type": "stream",
     "text": [
      "Epoch 1/50\n",
      "WARNING:tensorflow:Model was constructed with shape (None, 11847, 880) for input Tensor(\"dense_5_input:0\", shape=(None, 11847, 880), dtype=float32), but it was called on an input with incompatible shape (None, 880).\n",
      "WARNING:tensorflow:Model was constructed with shape (None, 11847, 880) for input Tensor(\"dense_5_input:0\", shape=(None, 11847, 880), dtype=float32), but it was called on an input with incompatible shape (None, 880).\n",
      "350/371 [===========================>..] - ETA: 0s - loss: 1.4206 - accuracy: 0.6768WARNING:tensorflow:Model was constructed with shape (None, 11847, 880) for input Tensor(\"dense_5_input:0\", shape=(None, 11847, 880), dtype=float32), but it was called on an input with incompatible shape (None, 880).\n",
      "371/371 [==============================] - 1s 2ms/step - loss: 1.3671 - accuracy: 0.6868 - val_loss: 0.3351 - val_accuracy: 0.8845\n",
      "Epoch 2/50\n",
      "371/371 [==============================] - 1s 2ms/step - loss: 0.2697 - accuracy: 0.9073 - val_loss: 0.1865 - val_accuracy: 0.9446\n",
      "Epoch 3/50\n",
      "371/371 [==============================] - 1s 2ms/step - loss: 0.1557 - accuracy: 0.9508 - val_loss: 0.1451 - val_accuracy: 0.9591\n",
      "Epoch 4/50\n",
      "371/371 [==============================] - 1s 2ms/step - loss: 0.1071 - accuracy: 0.9670 - val_loss: 0.1189 - val_accuracy: 0.9652\n",
      "Epoch 5/50\n",
      "371/371 [==============================] - 1s 2ms/step - loss: 0.0795 - accuracy: 0.9769 - val_loss: 0.1017 - val_accuracy: 0.9787\n",
      "Epoch 6/50\n",
      "371/371 [==============================] - 1s 2ms/step - loss: 0.0671 - accuracy: 0.9808 - val_loss: 0.0740 - val_accuracy: 0.9821\n",
      "Epoch 7/50\n",
      "371/371 [==============================] - 1s 2ms/step - loss: 0.0612 - accuracy: 0.9832 - val_loss: 0.0787 - val_accuracy: 0.9791\n",
      "Epoch 8/50\n",
      "371/371 [==============================] - 1s 2ms/step - loss: 0.0474 - accuracy: 0.9878 - val_loss: 0.0694 - val_accuracy: 0.9828\n",
      "Epoch 9/50\n",
      "371/371 [==============================] - 1s 2ms/step - loss: 0.0529 - accuracy: 0.9853 - val_loss: 0.1773 - val_accuracy: 0.9365\n",
      "Epoch 10/50\n",
      "371/371 [==============================] - 1s 2ms/step - loss: 0.0332 - accuracy: 0.9901 - val_loss: 0.0701 - val_accuracy: 0.9838\n",
      "Epoch 11/50\n",
      "371/371 [==============================] - 1s 2ms/step - loss: 0.1242 - accuracy: 0.9685 - val_loss: 0.1139 - val_accuracy: 0.9733\n",
      "Epoch 12/50\n",
      "371/371 [==============================] - 1s 2ms/step - loss: 0.0794 - accuracy: 0.9597 - val_loss: 0.0749 - val_accuracy: 0.9875\n",
      "Epoch 13/50\n",
      "371/371 [==============================] - 1s 2ms/step - loss: 0.0599 - accuracy: 0.9890 - val_loss: 0.0703 - val_accuracy: 0.9855\n",
      "Epoch 14/50\n",
      "371/371 [==============================] - 1s 2ms/step - loss: 0.0212 - accuracy: 0.9954 - val_loss: 0.0566 - val_accuracy: 0.9882\n",
      "Epoch 15/50\n",
      "371/371 [==============================] - 1s 2ms/step - loss: 0.0382 - accuracy: 0.9918 - val_loss: 0.0663 - val_accuracy: 0.9855\n",
      "Epoch 16/50\n",
      "371/371 [==============================] - 1s 2ms/step - loss: 0.0187 - accuracy: 0.9945 - val_loss: 0.0984 - val_accuracy: 0.9811\n",
      "Epoch 17/50\n",
      "371/371 [==============================] - 1s 2ms/step - loss: 0.0494 - accuracy: 0.9867 - val_loss: 0.0870 - val_accuracy: 0.9845\n",
      "Epoch 18/50\n",
      "371/371 [==============================] - 1s 2ms/step - loss: 0.0282 - accuracy: 0.9922 - val_loss: 0.0650 - val_accuracy: 0.9882\n",
      "Epoch 19/50\n",
      "371/371 [==============================] - 1s 2ms/step - loss: 0.0228 - accuracy: 0.9939 - val_loss: 0.0696 - val_accuracy: 0.9808\n",
      "Epoch 20/50\n",
      "371/371 [==============================] - 1s 2ms/step - loss: 0.0185 - accuracy: 0.9959 - val_loss: 0.0626 - val_accuracy: 0.9885\n",
      "Epoch 21/50\n",
      "371/371 [==============================] - 1s 2ms/step - loss: 0.0298 - accuracy: 0.9919 - val_loss: 0.0574 - val_accuracy: 0.9902\n",
      "Epoch 22/50\n",
      "371/371 [==============================] - 1s 2ms/step - loss: 0.0313 - accuracy: 0.9945 - val_loss: 0.1393 - val_accuracy: 0.9764\n",
      "Epoch 23/50\n",
      "371/371 [==============================] - 1s 2ms/step - loss: 0.0199 - accuracy: 0.9955 - val_loss: 0.0708 - val_accuracy: 0.9862\n",
      "Epoch 24/50\n",
      "371/371 [==============================] - 1s 2ms/step - loss: 0.0299 - accuracy: 0.9937 - val_loss: 0.0457 - val_accuracy: 0.9899\n",
      "Epoch 25/50\n",
      "371/371 [==============================] - 1s 2ms/step - loss: 0.0503 - accuracy: 0.9885 - val_loss: 0.0843 - val_accuracy: 0.9808\n",
      "Epoch 26/50\n",
      "371/371 [==============================] - 1s 2ms/step - loss: 0.0212 - accuracy: 0.9956 - val_loss: 0.0576 - val_accuracy: 0.9878\n",
      "Epoch 27/50\n",
      "371/371 [==============================] - 1s 2ms/step - loss: 0.0317 - accuracy: 0.9918 - val_loss: 0.1286 - val_accuracy: 0.9878\n",
      "Epoch 28/50\n",
      "371/371 [==============================] - 1s 2ms/step - loss: 0.0704 - accuracy: 0.9977 - val_loss: 0.1161 - val_accuracy: 0.9905\n",
      "Epoch 29/50\n",
      "371/371 [==============================] - 1s 2ms/step - loss: 0.0619 - accuracy: 0.9981 - val_loss: 0.1032 - val_accuracy: 0.9922\n",
      "Epoch 30/50\n",
      "371/371 [==============================] - 1s 2ms/step - loss: 0.0465 - accuracy: 0.9977 - val_loss: 0.0752 - val_accuracy: 0.9885\n",
      "Epoch 31/50\n",
      "371/371 [==============================] - 1s 2ms/step - loss: 0.0480 - accuracy: 0.9903 - val_loss: 0.0746 - val_accuracy: 0.9862\n",
      "Epoch 32/50\n",
      "371/371 [==============================] - 1s 2ms/step - loss: 0.0346 - accuracy: 0.9900 - val_loss: 0.0664 - val_accuracy: 0.9889\n",
      "Epoch 33/50\n",
      "371/371 [==============================] - 1s 2ms/step - loss: 0.0324 - accuracy: 0.9937 - val_loss: 0.1657 - val_accuracy: 0.9757\n",
      "Epoch 34/50\n",
      "371/371 [==============================] - 1s 2ms/step - loss: 0.0287 - accuracy: 0.9949 - val_loss: 0.0692 - val_accuracy: 0.9919\n",
      "Epoch 35/50\n",
      "371/371 [==============================] - 1s 2ms/step - loss: 0.0282 - accuracy: 0.9934 - val_loss: 0.0574 - val_accuracy: 0.9909\n",
      "Epoch 36/50\n",
      "371/371 [==============================] - 1s 2ms/step - loss: 0.0139 - accuracy: 0.9968 - val_loss: 0.0463 - val_accuracy: 0.9919\n",
      "Epoch 37/50\n",
      "371/371 [==============================] - 1s 2ms/step - loss: 0.0115 - accuracy: 0.9986 - val_loss: 0.0516 - val_accuracy: 0.9912\n",
      "Epoch 38/50\n",
      "371/371 [==============================] - 1s 2ms/step - loss: 0.0275 - accuracy: 0.9948 - val_loss: 0.0437 - val_accuracy: 0.9916\n",
      "Epoch 39/50\n",
      "371/371 [==============================] - 1s 2ms/step - loss: 0.0162 - accuracy: 0.9963 - val_loss: 0.0593 - val_accuracy: 0.9922\n",
      "Epoch 40/50\n",
      "371/371 [==============================] - 1s 2ms/step - loss: 0.0456 - accuracy: 0.9970 - val_loss: 0.0768 - val_accuracy: 0.9943\n",
      "Epoch 41/50\n",
      "371/371 [==============================] - 1s 2ms/step - loss: 0.0448 - accuracy: 0.9980 - val_loss: 0.0892 - val_accuracy: 0.9909\n",
      "Epoch 42/50\n",
      "371/371 [==============================] - 1s 2ms/step - loss: 0.0419 - accuracy: 0.9943 - val_loss: 0.0477 - val_accuracy: 0.9922\n",
      "Epoch 43/50\n",
      "371/371 [==============================] - 1s 2ms/step - loss: 0.0271 - accuracy: 0.9931 - val_loss: 0.0757 - val_accuracy: 0.9848\n",
      "Epoch 44/50\n",
      "371/371 [==============================] - 1s 2ms/step - loss: 0.0389 - accuracy: 0.9976 - val_loss: 0.0862 - val_accuracy: 0.9899\n",
      "Epoch 45/50\n",
      "371/371 [==============================] - 1s 2ms/step - loss: 0.0396 - accuracy: 0.9963 - val_loss: 0.0672 - val_accuracy: 0.9929\n",
      "Epoch 46/50\n",
      "371/371 [==============================] - 1s 2ms/step - loss: 0.0307 - accuracy: 0.9986 - val_loss: 0.0702 - val_accuracy: 0.9929\n",
      "Epoch 47/50\n",
      "371/371 [==============================] - 1s 2ms/step - loss: 0.0270 - accuracy: 0.9992 - val_loss: 0.0703 - val_accuracy: 0.9922\n",
      "Epoch 48/50\n",
      "371/371 [==============================] - 1s 2ms/step - loss: 0.0243 - accuracy: 0.9992 - val_loss: 0.0698 - val_accuracy: 0.9926\n",
      "Epoch 49/50\n",
      "371/371 [==============================] - 1s 2ms/step - loss: 0.0223 - accuracy: 0.9992 - val_loss: 0.0680 - val_accuracy: 0.9922\n",
      "Epoch 50/50\n",
      "371/371 [==============================] - 1s 2ms/step - loss: 0.0204 - accuracy: 0.9992 - val_loss: 0.0670 - val_accuracy: 0.9926\n"
     ]
    },
    {
     "data": {
      "image/png": "[encoded data removed]",
      "text/plain": [
       "<Figure size 432x288 with 1 Axes>"
      ]
     },
     "metadata": {
      "needs_background": "light"
     },
     "output_type": "display_data"
    },
    {
     "data": {
      "image/png": "[encoded data removed]",
      "text/plain": [
       "<Figure size 432x288 with 1 Axes>"
      ]
     },
     "metadata": {
      "needs_background": "light"
     },
     "output_type": "display_data"
    }
   ],
   "source": [
    "model = create_model()\n",
    "\n",
    "model.fit(x=train_x, y=train_y, epochs=50, verbose=1,  validation_data=(test_x, test_y))\n",
    "\n",
    "\n",
    "\n",
    "# Plot history: Loss\n",
    "plt.plot(model.history.history['loss'], label=\"train\")\n",
    "plt.plot(model.history.history['val_loss'], label=\"test\")\n",
    "plt.title('Validation loss history')\n",
    "plt.ylabel('Loss value')\n",
    "plt.xlabel('No. epoch')\n",
    "plt.legend(loc=\"upper right\")\n",
    "plt.show()\n",
    "\n",
    "# Plot history: Accuracy\n",
    "plt.plot(model.history.history['accuracy'], label=\"train\")\n",
    "plt.plot(model.history.history['val_accuracy'], label=\"test\")\n",
    "plt.title('Validation accuracy history')\n",
    "plt.ylabel('Accuracy value (%)')\n",
    "plt.xlabel('No. epoch')\n",
    "plt.legend(loc=\"upper left\")\n",
    "plt.show()"
   ]
  },
  {
   "cell_type": "code",
   "execution_count": 40,
   "metadata": {},
   "outputs": [
    {
     "name": "stdout",
     "output_type": "stream",
     "text": [
      "Model: \"sequential_2\"\n",
      "_________________________________________________________________\n",
      "Layer (type)                 Output Shape              Param #   \n",
      "=================================================================\n",
      "dense_5 (Dense)              (None, 11847, 128)        112768    \n",
      "_________________________________________________________________\n",
      "dense_6 (Dense)              (None, 11847, 64)         8256      \n",
      "_________________________________________________________________\n",
      "dense_7 (Dense)              (None, 11847, 32)         2080      \n",
      "_________________________________________________________________\n",
      "dense_8 (Dense)              (None, 11847, 16)         528       \n",
      "_________________________________________________________________\n",
      "dense_9 (Dense)              (None, 11847, 8)          136       \n",
      "=================================================================\n",
      "Total params: 123,768\n",
      "Trainable params: 123,768\n",
      "Non-trainable params: 0\n",
      "_________________________________________________________________\n"
     ]
    }
   ],
   "source": [
    "model.summary()"
   ]
  },
  {
   "cell_type": "code",
   "execution_count": 42,
   "metadata": {},
   "outputs": [
    {
     "name": "stdout",
     "output_type": "stream",
     "text": [
      "WARNING:tensorflow:From /Users/thivakkarmahendran/opt/anaconda3/lib/python3.7/site-packages/tensorflow/python/training/tracking/tracking.py:111: Model.state_updates (from tensorflow.python.keras.engine.training) is deprecated and will be removed in a future version.\n",
      "Instructions for updating:\n",
      "This property should not be used in TensorFlow 2.0, as updates are applied automatically.\n",
      "WARNING:tensorflow:From /Users/thivakkarmahendran/opt/anaconda3/lib/python3.7/site-packages/tensorflow/python/training/tracking/tracking.py:111: Layer.updates (from tensorflow.python.keras.engine.base_layer) is deprecated and will be removed in a future version.\n",
      "Instructions for updating:\n",
      "This property should not be used in TensorFlow 2.0, as updates are applied automatically.\n",
      "INFO:tensorflow:Assets written to: Trained Model/assets\n"
     ]
    }
   ],
   "source": [
    "#save the model t\n",
    "model.save('Trained Model')"
   ]
  },
  {
   "cell_type": "code",
   "execution_count": null,
   "metadata": {},
   "outputs": [],
   "source": []
  }
 ],
 "metadata": {
  "kernelspec": {
   "display_name": "Python 3",
   "language": "python",
   "name": "python3"
  },
  "language_info": {
   "codemirror_mode": {
    "name": "ipython",
    "version": 3
   },
   "file_extension": ".py",
   "mimetype": "text/x-python",
   "name": "python",
   "nbconvert_exporter": "python",
   "pygments_lexer": "ipython3",
   "version": "3.7.4"
  }
 },
 "nbformat": 4,
 "nbformat_minor": 4
}
