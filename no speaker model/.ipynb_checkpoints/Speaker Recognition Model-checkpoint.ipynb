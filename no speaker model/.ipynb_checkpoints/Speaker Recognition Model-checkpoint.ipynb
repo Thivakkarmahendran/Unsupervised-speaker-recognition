{
 "cells": [
  {
   "cell_type": "code",
   "execution_count": 9,
   "metadata": {},
   "outputs": [],
   "source": [
    "#imports\n",
    "import numpy as np\n",
    "import matplotlib.pyplot as plt\n",
    "\n",
    "#audio\n",
    "from pydub import AudioSegment\n",
    "from pydub.utils import make_chunks\n",
    "\n",
    "#audio feature extraction library\n",
    "import librosa\n",
    "from librosa import feature\n",
    "\n",
    "#model\n",
    "import tensorflow as tf\n",
    "from sklearn.model_selection import train_test_split\n",
    "import soundfile as sf\n",
    "\n",
    "#Other\n",
    "import os\n",
    "from glob import glob\n",
    "import time\n",
    "import pickle"
   ]
  },
  {
   "cell_type": "code",
   "execution_count": 10,
   "metadata": {},
   "outputs": [],
   "source": [
    "speakers = [\"Obama\", \"Hillary\", \"Ivanka\", \"Trump\", \"No Speaker\", \"Modi\", \"Xi-Jinping\", \"Chadwick-Boseman\"]"
   ]
  },
  {
   "cell_type": "code",
   "execution_count": 11,
   "metadata": {},
   "outputs": [],
   "source": [
    "def findAllAudioFilePaths():\n",
    "    audioFilesPaths = [y for x in os.walk(\"Dataset/Youtube Speech Dataset/Dataset\") for y in glob(os.path.join(x[0], '*.wav'))]\n",
    "    return audioFilesPaths"
   ]
  },
  {
   "cell_type": "code",
   "execution_count": 12,
   "metadata": {},
   "outputs": [],
   "source": [
    "def speakerToLabel(speakerName):\n",
    "    index = speakers.index(speakerName)\n",
    "    \n",
    "    if(index == -1):\n",
    "        print(\"Speaker not found: {}\".format(speakerName))\n",
    "    \n",
    "    return index"
   ]
  },
  {
   "cell_type": "code",
   "execution_count": 13,
   "metadata": {},
   "outputs": [],
   "source": [
    "def getSpeakerAndAudio(audioPaths):\n",
    "    audio_Paths = []\n",
    "    labels = []\n",
    "    uniqueSpeakers = {}\n",
    "\n",
    "    for audioPath in audioPaths:\n",
    "        speakerName = audioPath.split(\"/\")[3]\n",
    "\n",
    "        audioLength = librosa.get_duration(filename=audioPath)\n",
    "        \n",
    "        if audioLength == 1.0:\n",
    "            audio_Paths.append(audioPath)\n",
    "            labels.append(speakerToLabel(speakerName))\n",
    "            uniqueSpeakers[speakerName] = uniqueSpeakers.get(speakerName, 0) + 1\n",
    "        else:\n",
    "            print(\"Audio clip discarded, actual length = {}\".format(audioLength))\n",
    "    \n",
    "    return audio_Paths, labels, uniqueSpeakers"
   ]
  },
  {
   "cell_type": "code",
   "execution_count": 14,
   "metadata": {},
   "outputs": [],
   "source": [
    " #https://towardsdatascience.com/how-i-understood-what-features-to-consider-while-training-audio-files-eedfb6e9002b\n",
    "        \n",
    "def getFeatures(audio_Paths):\n",
    "    \n",
    "    data_X = []\n",
    "    \n",
    "    for path in audio_Paths:\n",
    "        \n",
    "        audioFeatureArray = []        \n",
    "        y, sr = librosa.load(path)\n",
    "        \n",
    "        #mfcc\n",
    "        mfccArray = librosa.feature.mfcc(y=y, sr=sr)\n",
    "        audioFeatureArray.append(mfccArray.flatten())\n",
    "        audioFeatureNumpyArray = np.array(audioFeatureArray)\n",
    "        \n",
    "        #zero_crossing_rate\n",
    "        zeroCrossingArray = librosa.feature.zero_crossing_rate(y=y)\n",
    "        np.append(audioFeatureNumpyArray, zeroCrossingArray.flatten())\n",
    "        \n",
    "        #spectral_rolloff\n",
    "        spectralRollOffArray = librosa.feature.spectral_rolloff(y=y, sr=sr)\n",
    "        np.append(audioFeatureNumpyArray, spectralRollOffArray.flatten())\n",
    "        \n",
    "        #pitch and magnitude\n",
    "        pitchArray, magnitudeArray = librosa.piptrack(y=y, sr=sr)\n",
    "        np.append(audioFeatureNumpyArray, pitchArray.flatten())\n",
    "        np.append(audioFeatureNumpyArray, magnitudeArray.flatten())\n",
    "        \n",
    "        \n",
    "        data_X.append(audioFeatureNumpyArray.flatten())\n",
    "        \n",
    "        \n",
    "    return data_X"
   ]
  },
  {
   "cell_type": "code",
   "execution_count": 15,
   "metadata": {},
   "outputs": [],
   "source": [
    "%%script false --no-raise-error #makes this code not run\n",
    "\n",
    "print(\"This code cell should not run\")\n",
    "\n",
    "audioPaths = findAllAudioFilePaths()\n",
    "audio_Paths, labels, uniqueSpeakers = getSpeakerAndAudio(audioPaths)\n",
    " \n",
    "\n",
    "print(\"\")\n",
    "print(\"-------------------------\")\n",
    "for speaker in uniqueSpeakers: \n",
    "    print(\"Speaker: {}, length: {} minutes\".format(speaker, int(uniqueSpeakers[speaker])/60 )) \n",
    "print(\"-------------------------\")\n",
    "print(\"\")\n",
    "\n",
    "\n",
    "print(\"Total Dataset size: {}\".format(len(audio_Paths)))\n",
    "\n",
    "startTime = time.time()\n",
    "data_X = getFeatures(audio_Paths)\n",
    "endTime = time.time()\n",
    "\n",
    "print(\"Time to extract Features {} minutes\".format( (endTime-startTime)/60))\n",
    "\n",
    "print(\"X data: {}\".format(len(data_X)))\n",
    "print(\"Y data: {}\".format(len(labels)))\n",
    "\n",
    "\n",
    "############\n",
    "print(\"\")\n",
    "\n",
    "print(\"Creating Dataset X pickel\")\n",
    "pickle_dataX = open(\"dataX.pickle\",\"wb\")\n",
    "pickle.dump(data_X, pickle_dataX)\n",
    "pickle_dataX.close()\n",
    "\n",
    "print(\"Creating Dataset Y pickel\")\n",
    "pickle_dataY = open(\"dataY.pickle\",\"wb\")\n",
    "pickle.dump(labels, pickle_dataY)\n",
    "pickle_dataY.close()\n",
    "############"
   ]
  },
  {
   "cell_type": "code",
   "execution_count": 16,
   "metadata": {},
   "outputs": [
    {
     "name": "stdout",
     "output_type": "stream",
     "text": [
      "Loading Dataset X from pickel\n",
      "Loading Dataset Y from pickel\n"
     ]
    }
   ],
   "source": [
    "#######\n",
    "print(\"Loading Dataset X from pickel\")\n",
    "pickle_dataX = open(\"dataX.pickle\",\"rb\")\n",
    "data_X = pickle.load(pickle_dataX)\n",
    "\n",
    "print(\"Loading Dataset Y from pickel\")\n",
    "pickle_dataY = open(\"dataY.pickle\",\"rb\")\n",
    "labels = pickle.load(pickle_dataY)\n",
    "#######\n",
    "\n",
    "\n",
    "train_X, test_X, train_Y, test_Y = train_test_split(data_X, labels, test_size=0.2)\n",
    "\n",
    "train_x = np.array(train_X)\n",
    "train_y = np.array(train_Y)\n",
    "test_x = np.array(test_X)\n",
    "test_y = np.array(test_Y)\n",
    "\n",
    "train_y = tf.keras.utils.to_categorical(train_y)\n",
    "test_y = tf.keras.utils.to_categorical(test_y)\n"
   ]
  },
  {
   "cell_type": "code",
   "execution_count": 17,
   "metadata": {},
   "outputs": [],
   "source": [
    "# create a model\n",
    "#from tf.keras.layers import Dense\n",
    "\n",
    "def create_model():\n",
    "    model = tf.keras.Sequential()\n",
    "    \n",
    "    \"\"\"\"\n",
    "    model.add(tf.keras.layers.Dense(12,input_shape= train_x.shape, activation='relu'))\n",
    "    model.add(tf.keras.layers.Dense(8, activation='relu'))\n",
    "    model.add(tf.keras.layers.Dense(len(speakers), activation=\"softmax\"))\n",
    "    \"\"\"\"\n",
    "    \n",
    "    model.add(Dense(128, input_shape= train_x.shape, activation='relu'))\n",
    "    model.add(Dense(64, activation='relu'))\n",
    "    model.add(Dense(32, activation='relu'))\n",
    "    model.add(Dense(16, activation='relu'))\n",
    "    model.add(Dense(len(speakers), activation=\"softmax\"))\n",
    "    \n",
    "    model.compile(optimizer=tf.keras.optimizers.Adam(lr=3e-4)\n",
    "            , loss = \"categorical_crossentropy\"\n",
    "            , metrics = [\"accuracy\"])\n",
    "                          \n",
    "    \n",
    "    \n",
    "    return model"
   ]
  },
  {
   "cell_type": "code",
   "execution_count": 36,
   "metadata": {},
   "outputs": [
    {
     "name": "stdout",
     "output_type": "stream",
     "text": [
      "Epoch 1/50\n",
      "WARNING:tensorflow:Model was constructed with shape (None, 11847, 880) for input Tensor(\"dense_48_input:0\", shape=(None, 11847, 880), dtype=float32), but it was called on an input with incompatible shape (None, 880).\n",
      "WARNING:tensorflow:Model was constructed with shape (None, 11847, 880) for input Tensor(\"dense_48_input:0\", shape=(None, 11847, 880), dtype=float32), but it was called on an input with incompatible shape (None, 880).\n",
      "371/371 [==============================] - ETA: 0s - loss: 3.3706 - accuracy: 0.2432WARNING:tensorflow:Model was constructed with shape (None, 11847, 880) for input Tensor(\"dense_48_input:0\", shape=(None, 11847, 880), dtype=float32), but it was called on an input with incompatible shape (None, 880).\n",
      "371/371 [==============================] - 1s 2ms/step - loss: 3.3706 - accuracy: 0.2432 - val_loss: 2.0312 - val_accuracy: 0.2559\n",
      "Epoch 2/50\n",
      "371/371 [==============================] - 0s 1ms/step - loss: 1.9677 - accuracy: 0.2830 - val_loss: 1.9042 - val_accuracy: 0.2984\n",
      "Epoch 3/50\n",
      "371/371 [==============================] - 0s 1ms/step - loss: 1.8763 - accuracy: 0.3046 - val_loss: 1.8523 - val_accuracy: 0.3079\n",
      "Epoch 4/50\n",
      "371/371 [==============================] - 0s 1ms/step - loss: 1.8227 - accuracy: 0.3186 - val_loss: 1.8008 - val_accuracy: 0.3207\n",
      "Epoch 5/50\n",
      "371/371 [==============================] - 0s 1ms/step - loss: 1.7391 - accuracy: 0.3486 - val_loss: 1.6807 - val_accuracy: 0.3552\n",
      "Epoch 6/50\n",
      "371/371 [==============================] - 1s 1ms/step - loss: 1.5290 - accuracy: 0.4738 - val_loss: 1.4605 - val_accuracy: 0.5196\n",
      "Epoch 7/50\n",
      "371/371 [==============================] - 0s 1ms/step - loss: 1.4014 - accuracy: 0.5248 - val_loss: 1.4004 - val_accuracy: 0.5294\n",
      "Epoch 8/50\n",
      "371/371 [==============================] - 0s 1ms/step - loss: 1.3477 - accuracy: 0.5337 - val_loss: 1.3466 - val_accuracy: 0.5230\n",
      "Epoch 9/50\n",
      "371/371 [==============================] - 0s 1ms/step - loss: 1.3013 - accuracy: 0.5338 - val_loss: 1.3135 - val_accuracy: 0.5314\n",
      "Epoch 10/50\n",
      "371/371 [==============================] - 0s 1ms/step - loss: 1.2677 - accuracy: 0.5344 - val_loss: 1.2815 - val_accuracy: 0.5294\n",
      "Epoch 11/50\n",
      "371/371 [==============================] - 0s 1ms/step - loss: 1.2359 - accuracy: 0.5353 - val_loss: 1.2573 - val_accuracy: 0.5344\n",
      "Epoch 12/50\n",
      "371/371 [==============================] - 0s 1ms/step - loss: 1.2135 - accuracy: 0.5374 - val_loss: 1.2280 - val_accuracy: 0.5317\n",
      "Epoch 13/50\n",
      "371/371 [==============================] - 1s 1ms/step - loss: 1.1870 - accuracy: 0.5375 - val_loss: 1.2051 - val_accuracy: 0.5267\n",
      "Epoch 14/50\n",
      "371/371 [==============================] - 0s 1ms/step - loss: 1.1689 - accuracy: 0.5379 - val_loss: 1.1864 - val_accuracy: 0.5267\n",
      "Epoch 15/50\n",
      "371/371 [==============================] - 0s 1ms/step - loss: 1.1540 - accuracy: 0.5389 - val_loss: 1.1816 - val_accuracy: 0.5338\n",
      "Epoch 16/50\n",
      "371/371 [==============================] - 0s 1ms/step - loss: 1.1387 - accuracy: 0.5416 - val_loss: 1.1638 - val_accuracy: 0.5284\n",
      "Epoch 17/50\n",
      "371/371 [==============================] - 0s 1ms/step - loss: 1.1263 - accuracy: 0.5409 - val_loss: 1.1505 - val_accuracy: 0.5317\n",
      "Epoch 18/50\n",
      "371/371 [==============================] - 0s 1ms/step - loss: 1.1117 - accuracy: 0.5409 - val_loss: 1.1621 - val_accuracy: 0.5219\n",
      "Epoch 19/50\n",
      "371/371 [==============================] - 0s 1ms/step - loss: 1.1015 - accuracy: 0.5435 - val_loss: 1.1366 - val_accuracy: 0.5267\n",
      "Epoch 20/50\n",
      "371/371 [==============================] - 0s 1ms/step - loss: 1.0867 - accuracy: 0.5433 - val_loss: 1.1522 - val_accuracy: 0.5270\n",
      "Epoch 21/50\n",
      "371/371 [==============================] - 1s 1ms/step - loss: 1.0587 - accuracy: 0.5605 - val_loss: 1.0851 - val_accuracy: 0.5763\n",
      "Epoch 22/50\n",
      "371/371 [==============================] - 1s 1ms/step - loss: 0.9817 - accuracy: 0.6120 - val_loss: 0.9921 - val_accuracy: 0.6226\n",
      "Epoch 23/50\n",
      "371/371 [==============================] - 1s 2ms/step - loss: 0.9359 - accuracy: 0.6340 - val_loss: 0.9627 - val_accuracy: 0.6283\n",
      "Epoch 24/50\n",
      "371/371 [==============================] - 0s 1ms/step - loss: 0.8946 - accuracy: 0.6511 - val_loss: 0.9174 - val_accuracy: 0.6425\n",
      "Epoch 25/50\n",
      "371/371 [==============================] - 0s 1ms/step - loss: 0.8638 - accuracy: 0.6608 - val_loss: 0.8865 - val_accuracy: 0.6577\n",
      "Epoch 26/50\n",
      "371/371 [==============================] - 0s 1ms/step - loss: 0.7925 - accuracy: 0.6705 - val_loss: 0.8253 - val_accuracy: 0.6465\n",
      "Epoch 27/50\n",
      "371/371 [==============================] - 1s 1ms/step - loss: 0.7559 - accuracy: 0.6719 - val_loss: 0.7846 - val_accuracy: 0.6631\n",
      "Epoch 28/50\n",
      "371/371 [==============================] - 1s 1ms/step - loss: 0.7127 - accuracy: 0.6799 - val_loss: 0.7502 - val_accuracy: 0.6624\n",
      "Epoch 29/50\n",
      "371/371 [==============================] - 0s 1ms/step - loss: 0.6829 - accuracy: 0.6841 - val_loss: 0.7165 - val_accuracy: 0.6735\n",
      "Epoch 30/50\n",
      "371/371 [==============================] - 0s 1ms/step - loss: 0.6599 - accuracy: 0.6886 - val_loss: 0.7238 - val_accuracy: 0.6735\n",
      "Epoch 31/50\n",
      "371/371 [==============================] - 0s 1ms/step - loss: 0.6429 - accuracy: 0.7532 - val_loss: 0.6849 - val_accuracy: 0.7600\n",
      "Epoch 32/50\n",
      "371/371 [==============================] - 0s 1ms/step - loss: 0.6212 - accuracy: 0.7693 - val_loss: 0.6746 - val_accuracy: 0.7667\n",
      "Epoch 33/50\n",
      "371/371 [==============================] - 0s 1ms/step - loss: 0.6067 - accuracy: 0.7733 - val_loss: 0.6585 - val_accuracy: 0.7687\n",
      "Epoch 34/50\n",
      "371/371 [==============================] - 0s 1ms/step - loss: 0.5998 - accuracy: 0.7776 - val_loss: 0.6352 - val_accuracy: 0.7806\n",
      "Epoch 35/50\n",
      "371/371 [==============================] - 0s 1ms/step - loss: 0.5695 - accuracy: 0.7891 - val_loss: 0.6341 - val_accuracy: 0.7860\n",
      "Epoch 36/50\n",
      "371/371 [==============================] - 1s 2ms/step - loss: 0.5664 - accuracy: 0.7912 - val_loss: 0.6190 - val_accuracy: 0.7856\n",
      "Epoch 37/50\n",
      "371/371 [==============================] - 1s 2ms/step - loss: 0.5483 - accuracy: 0.7979 - val_loss: 0.5888 - val_accuracy: 0.7907\n",
      "Epoch 38/50\n",
      "371/371 [==============================] - 0s 1ms/step - loss: 0.5278 - accuracy: 0.8025 - val_loss: 0.5882 - val_accuracy: 0.7961\n",
      "Epoch 39/50\n",
      "371/371 [==============================] - 0s 1ms/step - loss: 0.5177 - accuracy: 0.8048 - val_loss: 0.5919 - val_accuracy: 0.7887\n",
      "Epoch 40/50\n",
      "371/371 [==============================] - 0s 1ms/step - loss: 0.5215 - accuracy: 0.8043 - val_loss: 0.5702 - val_accuracy: 0.7995\n",
      "Epoch 41/50\n",
      "371/371 [==============================] - 0s 1ms/step - loss: 0.5014 - accuracy: 0.8081 - val_loss: 0.5811 - val_accuracy: 0.7954\n",
      "Epoch 42/50\n",
      "371/371 [==============================] - 0s 1ms/step - loss: 0.4925 - accuracy: 0.8093 - val_loss: 0.5598 - val_accuracy: 0.7995\n",
      "Epoch 43/50\n",
      "371/371 [==============================] - 0s 1ms/step - loss: 0.4795 - accuracy: 0.8152 - val_loss: 0.5901 - val_accuracy: 0.8035\n",
      "Epoch 44/50\n",
      "371/371 [==============================] - 0s 1ms/step - loss: 0.4729 - accuracy: 0.8177 - val_loss: 0.5550 - val_accuracy: 0.7991\n",
      "Epoch 45/50\n",
      "371/371 [==============================] - 0s 1ms/step - loss: 0.4689 - accuracy: 0.8221 - val_loss: 0.5245 - val_accuracy: 0.8130\n",
      "Epoch 46/50\n",
      "371/371 [==============================] - 0s 1ms/step - loss: 0.4401 - accuracy: 0.8364 - val_loss: 0.4778 - val_accuracy: 0.8393\n",
      "Epoch 47/50\n",
      "371/371 [==============================] - 0s 1ms/step - loss: 0.4207 - accuracy: 0.8476 - val_loss: 0.4868 - val_accuracy: 0.8403\n",
      "Epoch 48/50\n",
      "371/371 [==============================] - 0s 1ms/step - loss: 0.4102 - accuracy: 0.8508 - val_loss: 0.4800 - val_accuracy: 0.8454\n",
      "Epoch 49/50\n",
      "371/371 [==============================] - 0s 1ms/step - loss: 0.3954 - accuracy: 0.8611 - val_loss: 0.4808 - val_accuracy: 0.8552\n",
      "Epoch 50/50\n",
      "371/371 [==============================] - 0s 1ms/step - loss: 0.3880 - accuracy: 0.8703 - val_loss: 0.4542 - val_accuracy: 0.8609\n",
      "[0.2433527410030365, 0.320334255695343, 0.33493712544441223, 0.33738499879837036, 0.3394952416419983]\n"
     ]
    },
    {
     "data": {
      "image/png": "[encoded data removed]",
      "text/plain": [
       "<Figure size 432x288 with 1 Axes>"
      ]
     },
     "metadata": {
      "needs_background": "light"
     },
     "output_type": "display_data"
    },
    {
     "data": {
      "image/png": "[encoded data removed]",
      "text/plain": [
       "<Figure size 432x288 with 1 Axes>"
      ]
     },
     "metadata": {
      "needs_background": "light"
     },
     "output_type": "display_data"
    }
   ],
   "source": [
    "model = create_model()\n",
    "\n",
    "model.fit(x=train_x, y=train_y, epochs=50, verbose=1,  validation_data=(test_x, test_y))\n",
    "\n",
    "print(history.history['accuracy'])\n",
    "\n",
    "\n",
    "# Plot history: Loss\n",
    "plt.plot(model.history.history['loss'], label=\"train\")\n",
    "plt.plot(model.history.history['val_loss'], label=\"test\")\n",
    "plt.title('Validation loss history')\n",
    "plt.ylabel('Loss value')\n",
    "plt.xlabel('No. epoch')\n",
    "plt.legend(loc=\"upper right\")\n",
    "plt.show()\n",
    "\n",
    "# Plot history: Accuracy\n",
    "plt.plot(model.history.history['accuracy'], label=\"train\")\n",
    "plt.plot(model.history.history['val_accuracy'], label=\"test\")\n",
    "plt.title('Validation accuracy history')\n",
    "plt.ylabel('Accuracy value (%)')\n",
    "plt.xlabel('No. epoch')\n",
    "plt.legend(loc=\"upper left\")\n",
    "plt.show()"
   ]
  },
  {
   "cell_type": "code",
   "execution_count": 19,
   "metadata": {},
   "outputs": [
    {
     "name": "stdout",
     "output_type": "stream",
     "text": [
      "Model: \"sequential\"\n",
      "_________________________________________________________________\n",
      "Layer (type)                 Output Shape              Param #   \n",
      "=================================================================\n",
      "dense (Dense)                (None, 11847, 12)         10572     \n",
      "_________________________________________________________________\n",
      "dense_1 (Dense)              (None, 11847, 8)          104       \n",
      "_________________________________________________________________\n",
      "dense_2 (Dense)              (None, 11847, 8)          72        \n",
      "=================================================================\n",
      "Total params: 10,748\n",
      "Trainable params: 10,748\n",
      "Non-trainable params: 0\n",
      "_________________________________________________________________\n"
     ]
    }
   ],
   "source": [
    "model.summary()"
   ]
  },
  {
   "cell_type": "code",
   "execution_count": 20,
   "metadata": {},
   "outputs": [
    {
     "name": "stdout",
     "output_type": "stream",
     "text": [
      "WARNING:tensorflow:From /Users/thivakkarmahendran/opt/anaconda3/lib/python3.7/site-packages/tensorflow/python/training/tracking/tracking.py:111: Model.state_updates (from tensorflow.python.keras.engine.training) is deprecated and will be removed in a future version.\n",
      "Instructions for updating:\n",
      "This property should not be used in TensorFlow 2.0, as updates are applied automatically.\n",
      "WARNING:tensorflow:From /Users/thivakkarmahendran/opt/anaconda3/lib/python3.7/site-packages/tensorflow/python/training/tracking/tracking.py:111: Layer.updates (from tensorflow.python.keras.engine.base_layer) is deprecated and will be removed in a future version.\n",
      "Instructions for updating:\n",
      "This property should not be used in TensorFlow 2.0, as updates are applied automatically.\n",
      "INFO:tensorflow:Assets written to: Trained Model/assets\n"
     ]
    }
   ],
   "source": [
    "#save the model t\n",
    "#model.save('Trained Model')"
   ]
  },
  {
   "cell_type": "code",
   "execution_count": null,
   "metadata": {},
   "outputs": [],
   "source": []
  }
 ],
 "metadata": {
  "kernelspec": {
   "display_name": "Python 3",
   "language": "python",
   "name": "python3"
  },
  "language_info": {
   "codemirror_mode": {
    "name": "ipython",
    "version": 3
   },
   "file_extension": ".py",
   "mimetype": "text/x-python",
   "name": "python",
   "nbconvert_exporter": "python",
   "pygments_lexer": "ipython3",
   "version": "3.7.4"
  }
 },
 "nbformat": 4,
 "nbformat_minor": 4
}
