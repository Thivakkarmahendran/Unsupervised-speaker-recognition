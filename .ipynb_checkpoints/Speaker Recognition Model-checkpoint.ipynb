{
 "cells": [
  {
   "cell_type": "code",
   "execution_count": 1,
   "metadata": {},
   "outputs": [],
   "source": [
    "#imports\n",
    "from pydub import AudioSegment\n",
    "from pydub.utils import make_chunks\n",
    "import os\n",
    "from glob import glob\n",
    "import time\n",
    "\n",
    "#audio feature extraction library\n",
    "import librosa\n",
    "from librosa import feature\n",
    "\n",
    "import numpy as np\n",
    "import matplotlib.pyplot as plt\n",
    "\n",
    "#model\n",
    "import tensorflow as tf\n",
    "from spela.spectrogram import Spectrogram \n",
    "from spela.melspectrogram import Melspectrogram\n",
    "\n",
    "from sklearn.model_selection import train_test_split\n",
    "import soundfile as sf"
   ]
  },
  {
   "cell_type": "code",
   "execution_count": 2,
   "metadata": {},
   "outputs": [],
   "source": [
    "def findAllAudioFilePaths():\n",
    "    audioFilesPaths = [y for x in os.walk(\"Dataset/Youtube Speech Dataset/Dataset\") for y in glob(os.path.join(x[0], '*.wav'))]\n",
    "    return audioFilesPaths"
   ]
  },
  {
   "cell_type": "code",
   "execution_count": 3,
   "metadata": {},
   "outputs": [],
   "source": [
    "speakers = [\"Obama\", \"Hillary\", \"Ivanka\", \"Trump\", \"No Speaker\", \"Modi\", \"Xi-Jinping\", \"Chadwick-Boseman\"]\n",
    "\n",
    "def speakerToLabel(speakerName):\n",
    "    index = speakers.index(speakerName)\n",
    "    \n",
    "    if(index == -1):\n",
    "        print(\"Speaker not found: {}\".format(speakerName))\n",
    "    \n",
    "    return index"
   ]
  },
  {
   "cell_type": "code",
   "execution_count": 4,
   "metadata": {},
   "outputs": [],
   "source": [
    "def getSpeakerAndAudio(audioPaths):\n",
    "    audio_Paths = []\n",
    "    labels = []\n",
    "    uniqueSpeakers = {}\n",
    "\n",
    "    for audioPath in audioPaths:\n",
    "        speakerName = audioPath.split(\"/\")[3]\n",
    "\n",
    "        audioLength = librosa.get_duration(filename=audioPath)\n",
    "        \n",
    "        if audioLength == 1.0:\n",
    "            audio_Paths.append(audioPath)\n",
    "            labels.append(speakerToLabel(speakerName))\n",
    "            uniqueSpeakers[speakerName] = uniqueSpeakers.get(speakerName, 0) + 1\n",
    "        else:\n",
    "            print(\"Audio clip discarded, actual length = {}\".format(audioLength))\n",
    "    \n",
    "    return audio_Paths, labels, uniqueSpeakers"
   ]
  },
  {
   "cell_type": "code",
   "execution_count": 5,
   "metadata": {},
   "outputs": [],
   "source": [
    " #https://towardsdatascience.com/how-i-understood-what-features-to-consider-while-training-audio-files-eedfb6e9002b\n",
    "        \n",
    "\n",
    "def getFeatures(audio_Paths):\n",
    "    \n",
    "    data_X = []\n",
    "    \n",
    "    for path in audio_Paths:\n",
    "        \n",
    "        audioFeatureArray = []        \n",
    "        y, sr = librosa.load(path)\n",
    "        \n",
    "        #mfcc\n",
    "        mfccArray = librosa.feature.mfcc(y=y, sr=sr)\n",
    "        audioFeatureArray.append(mfccArray.flatten())\n",
    "        audioFeatureNumpyArray = np.array(audioFeatureArray)\n",
    "        \n",
    "        \n",
    "        #zero_crossing_rate\n",
    "        zeroCrossingArray = librosa.feature.zero_crossing_rate(y=y)\n",
    "        np.append(audioFeatureNumpyArray, zeroCrossingArray.flatten())\n",
    "        \n",
    "        #spectral_rolloff\n",
    "        spectralRollOffArray = librosa.feature.spectral_rolloff(y=y, sr=sr)\n",
    "        np.append(audioFeatureNumpyArray, spectralRollOffArray.flatten())\n",
    "        \n",
    "        data_X.append(audioFeatureNumpyArray.flatten())\n",
    "        \n",
    "        \n",
    "    return data_X"
   ]
  },
  {
   "cell_type": "code",
   "execution_count": 6,
   "metadata": {},
   "outputs": [
    {
     "name": "stdout",
     "output_type": "stream",
     "text": [
      "Audio clip discarded, actual length = 0.221\n",
      "Audio clip discarded, actual length = 0.1519954648526077\n",
      "Audio clip discarded, actual length = 0.4819954648526077\n",
      "Audio clip discarded, actual length = 0.66\n",
      "Audio clip discarded, actual length = 0.3\n",
      "Audio clip discarded, actual length = 0.6059863945578231\n",
      "Audio clip discarded, actual length = 0.12598639455782312\n",
      "Audio clip discarded, actual length = 0.7489795918367347\n",
      "\n",
      "-------------------------\n",
      "Speaker: No Speaker, length: 39.63333333333333 minutes\n",
      "Speaker: Hillary, length: 57.53333333333333 minutes\n",
      "Speaker: Ivanka, length: 17.916666666666668 minutes\n",
      "Speaker: Xi-Jinping, length: 11.183333333333334 minutes\n",
      "Speaker: Modi, length: 32.4 minutes\n",
      "Speaker: Chadwick-Boseman, length: 27.083333333333332 minutes\n",
      "Speaker: Obama, length: 19.466666666666665 minutes\n",
      "Speaker: Trump, length: 41.6 minutes\n",
      "-------------------------\n",
      "\n",
      "Total Dataset size: 14809\n",
      "Time to extract Features 12.859560283025106 minutes\n",
      "X data: 14809\n",
      "Y data: 14809\n"
     ]
    }
   ],
   "source": [
    "audioPaths = findAllAudioFilePaths()\n",
    "audio_Paths, labels, uniqueSpeakers = getSpeakerAndAudio(audioPaths)\n",
    " \n",
    "    \n",
    "#print(\"Speakers: {}\".format(uniqueSpeakers))\n",
    "\n",
    "print(\"\")\n",
    "print(\"-------------------------\")\n",
    "for speaker in uniqueSpeakers: \n",
    "    print(\"Speaker: {}, length: {} minutes\".format(speaker, int(uniqueSpeakers[speaker])/60 )) \n",
    "print(\"-------------------------\")\n",
    "print(\"\")\n",
    "\n",
    "\n",
    "print(\"Total Dataset size: {}\".format(len(audio_Paths)))\n",
    "\n",
    "startTime = time.time()\n",
    "data_X = getFeatures(audio_Paths)\n",
    "endTime = time.time()\n",
    "\n",
    "print(\"Time to extract Features {} minutes\".format( (endTime-startTime)/60))\n",
    "\n",
    "print(\"X data: {}\".format(len(data_X)))\n",
    "print(\"Y data: {}\".format(len(labels)))\n",
    "\n",
    "\n"
   ]
  },
  {
   "cell_type": "code",
   "execution_count": 7,
   "metadata": {},
   "outputs": [],
   "source": [
    "train_X, test_X, train_Y, test_Y = train_test_split(data_X, labels, test_size=0.2)\n",
    "\n",
    "train_x = np.array(train_X)\n",
    "train_y = np.array(train_Y)\n",
    "test_x = np.array(test_X)\n",
    "test_y = np.array(test_Y)\n",
    "\n",
    "train_y = tf.keras.utils.to_categorical(train_y)\n",
    "test_y = tf.keras.utils.to_categorical(test_y)\n"
   ]
  },
  {
   "cell_type": "code",
   "execution_count": 8,
   "metadata": {},
   "outputs": [],
   "source": [
    "# create a model\n",
    "#from tf.keras.layers import Dense\n",
    "\n",
    "def create_model():\n",
    "    model = tf.keras.Sequential()\n",
    "    \n",
    "    model.add(tf.keras.layers.Dense(12,input_shape= train_x.shape, activation='relu'))\n",
    "    model.add(tf.keras.layers.Dense(8, activation='relu'))\n",
    "    model.add(tf.keras.layers.Dense(len(speakers), activation=\"softmax\"))\n",
    "                          \n",
    "    model.compile(optimizer=tf.keras.optimizers.Adam(lr=3e-4)\n",
    "            , loss = \"categorical_crossentropy\"\n",
    "            , metrics = [\"accuracy\"])\n",
    "                          \n",
    "    \n",
    "    \n",
    "    return model"
   ]
  },
  {
   "cell_type": "code",
   "execution_count": 9,
   "metadata": {},
   "outputs": [
    {
     "name": "stdout",
     "output_type": "stream",
     "text": [
      "Epoch 1/50\n",
      "WARNING:tensorflow:Model was constructed with shape (None, 11847, 880) for input Tensor(\"dense_input:0\", shape=(None, 11847, 880), dtype=float32), but it was called on an input with incompatible shape (None, 880).\n",
      "WARNING:tensorflow:Model was constructed with shape (None, 11847, 880) for input Tensor(\"dense_input:0\", shape=(None, 11847, 880), dtype=float32), but it was called on an input with incompatible shape (None, 880).\n",
      "342/371 [==========================>...] - ETA: 0s - loss: 5.0507 - accuracy: 0.2670WARNING:tensorflow:Model was constructed with shape (None, 11847, 880) for input Tensor(\"dense_input:0\", shape=(None, 11847, 880), dtype=float32), but it was called on an input with incompatible shape (None, 880).\n",
      "371/371 [==============================] - 1s 1ms/step - loss: 4.8195 - accuracy: 0.2713 - val_loss: 2.0002 - val_accuracy: 0.3072\n",
      "Epoch 2/50\n",
      "371/371 [==============================] - 0s 1ms/step - loss: 1.9431 - accuracy: 0.3321 - val_loss: 1.8557 - val_accuracy: 0.3599\n",
      "Epoch 3/50\n",
      "371/371 [==============================] - 0s 1ms/step - loss: 1.8231 - accuracy: 0.3758 - val_loss: 1.7617 - val_accuracy: 0.3801\n",
      "Epoch 4/50\n",
      "371/371 [==============================] - 0s 1ms/step - loss: 1.7463 - accuracy: 0.3932 - val_loss: 1.7006 - val_accuracy: 0.3947\n",
      "Epoch 5/50\n",
      "371/371 [==============================] - 0s 1ms/step - loss: 1.6988 - accuracy: 0.4005 - val_loss: 1.6527 - val_accuracy: 0.4058\n",
      "Epoch 6/50\n",
      "371/371 [==============================] - 0s 1ms/step - loss: 1.6500 - accuracy: 0.4124 - val_loss: 1.5898 - val_accuracy: 0.4227\n",
      "Epoch 7/50\n",
      "371/371 [==============================] - 0s 1ms/step - loss: 1.5956 - accuracy: 0.4227 - val_loss: 1.5527 - val_accuracy: 0.4359\n",
      "Epoch 8/50\n",
      "371/371 [==============================] - 0s 1ms/step - loss: 1.5276 - accuracy: 0.4460 - val_loss: 1.4548 - val_accuracy: 0.4662\n",
      "Epoch 9/50\n",
      "371/371 [==============================] - 0s 1ms/step - loss: 1.4510 - accuracy: 0.4639 - val_loss: 1.5055 - val_accuracy: 0.4321\n",
      "Epoch 10/50\n",
      "371/371 [==============================] - 0s 1ms/step - loss: 1.3957 - accuracy: 0.4711 - val_loss: 1.3861 - val_accuracy: 0.4784\n",
      "Epoch 11/50\n",
      "371/371 [==============================] - 0s 1ms/step - loss: 1.2975 - accuracy: 0.5252 - val_loss: 1.2582 - val_accuracy: 0.5395\n",
      "Epoch 12/50\n",
      "371/371 [==============================] - 0s 1ms/step - loss: 1.2092 - accuracy: 0.5406 - val_loss: 1.2205 - val_accuracy: 0.5422\n",
      "Epoch 13/50\n",
      "371/371 [==============================] - 0s 1ms/step - loss: 1.1650 - accuracy: 0.5463 - val_loss: 1.1712 - val_accuracy: 0.5344\n",
      "Epoch 14/50\n",
      "371/371 [==============================] - 0s 1ms/step - loss: 1.1270 - accuracy: 0.5563 - val_loss: 1.0567 - val_accuracy: 0.5874\n",
      "Epoch 15/50\n",
      "371/371 [==============================] - 0s 1ms/step - loss: 0.9560 - accuracy: 0.6301 - val_loss: 0.9571 - val_accuracy: 0.6259\n",
      "Epoch 16/50\n",
      "371/371 [==============================] - 0s 1ms/step - loss: 0.9154 - accuracy: 0.6424 - val_loss: 0.9247 - val_accuracy: 0.6303\n",
      "Epoch 17/50\n",
      "371/371 [==============================] - 0s 1ms/step - loss: 0.8827 - accuracy: 0.6477 - val_loss: 0.9202 - val_accuracy: 0.6334\n",
      "Epoch 18/50\n",
      "371/371 [==============================] - 0s 1ms/step - loss: 0.8516 - accuracy: 0.6603 - val_loss: 0.8697 - val_accuracy: 0.6479\n",
      "Epoch 19/50\n",
      "371/371 [==============================] - 0s 1ms/step - loss: 0.8239 - accuracy: 0.6688 - val_loss: 0.8559 - val_accuracy: 0.6587\n",
      "Epoch 20/50\n",
      "371/371 [==============================] - 0s 1ms/step - loss: 0.7907 - accuracy: 0.6841 - val_loss: 0.8151 - val_accuracy: 0.6799\n",
      "Epoch 21/50\n",
      "371/371 [==============================] - 0s 1ms/step - loss: 0.7669 - accuracy: 0.6967 - val_loss: 0.8272 - val_accuracy: 0.6678\n",
      "Epoch 22/50\n",
      "371/371 [==============================] - 0s 1ms/step - loss: 0.7281 - accuracy: 0.7106 - val_loss: 0.7904 - val_accuracy: 0.6931\n",
      "Epoch 23/50\n",
      "371/371 [==============================] - 0s 1ms/step - loss: 0.7108 - accuracy: 0.7177 - val_loss: 0.7740 - val_accuracy: 0.7066\n",
      "Epoch 24/50\n",
      "371/371 [==============================] - 0s 1ms/step - loss: 0.6873 - accuracy: 0.7260 - val_loss: 0.7368 - val_accuracy: 0.7144\n",
      "Epoch 25/50\n",
      "371/371 [==============================] - 0s 1ms/step - loss: 0.6624 - accuracy: 0.7381 - val_loss: 0.7545 - val_accuracy: 0.7262\n",
      "Epoch 26/50\n",
      "371/371 [==============================] - 0s 1ms/step - loss: 0.6427 - accuracy: 0.7435 - val_loss: 0.7096 - val_accuracy: 0.7296\n",
      "Epoch 27/50\n",
      "371/371 [==============================] - 0s 1ms/step - loss: 0.6176 - accuracy: 0.7493 - val_loss: 0.6770 - val_accuracy: 0.7431\n",
      "Epoch 28/50\n",
      "371/371 [==============================] - 0s 1ms/step - loss: 0.6007 - accuracy: 0.7580 - val_loss: 0.6906 - val_accuracy: 0.7397\n",
      "Epoch 29/50\n",
      "371/371 [==============================] - 0s 1ms/step - loss: 0.5884 - accuracy: 0.7601 - val_loss: 0.6582 - val_accuracy: 0.7454\n",
      "Epoch 30/50\n",
      "371/371 [==============================] - 0s 1ms/step - loss: 0.5843 - accuracy: 0.7648 - val_loss: 0.6436 - val_accuracy: 0.7525\n",
      "Epoch 31/50\n",
      "371/371 [==============================] - 0s 1ms/step - loss: 0.5780 - accuracy: 0.7610 - val_loss: 0.6609 - val_accuracy: 0.7390\n",
      "Epoch 32/50\n",
      "371/371 [==============================] - 0s 1ms/step - loss: 0.5617 - accuracy: 0.7689 - val_loss: 0.6150 - val_accuracy: 0.7562\n",
      "Epoch 33/50\n",
      "371/371 [==============================] - 0s 1ms/step - loss: 0.5563 - accuracy: 0.7688 - val_loss: 0.6663 - val_accuracy: 0.7532\n",
      "Epoch 34/50\n",
      "371/371 [==============================] - 0s 1ms/step - loss: 0.5445 - accuracy: 0.7685 - val_loss: 0.6308 - val_accuracy: 0.7498\n",
      "Epoch 35/50\n",
      "371/371 [==============================] - 0s 1ms/step - loss: 0.5333 - accuracy: 0.7749 - val_loss: 0.6072 - val_accuracy: 0.7627\n",
      "Epoch 36/50\n",
      "371/371 [==============================] - 0s 1ms/step - loss: 0.5255 - accuracy: 0.7765 - val_loss: 0.6031 - val_accuracy: 0.7579\n",
      "Epoch 37/50\n",
      "371/371 [==============================] - 0s 1ms/step - loss: 0.5322 - accuracy: 0.7770 - val_loss: 0.6347 - val_accuracy: 0.7525\n",
      "Epoch 38/50\n",
      "371/371 [==============================] - 0s 1ms/step - loss: 0.5303 - accuracy: 0.7763 - val_loss: 0.6171 - val_accuracy: 0.7438\n",
      "Epoch 39/50\n",
      "371/371 [==============================] - 0s 1ms/step - loss: 0.5169 - accuracy: 0.7804 - val_loss: 0.6180 - val_accuracy: 0.7616\n",
      "Epoch 40/50\n",
      "371/371 [==============================] - 0s 1ms/step - loss: 0.5123 - accuracy: 0.7790 - val_loss: 0.6043 - val_accuracy: 0.7606\n",
      "Epoch 41/50\n",
      "371/371 [==============================] - 0s 1ms/step - loss: 0.5088 - accuracy: 0.7826 - val_loss: 0.5788 - val_accuracy: 0.7640\n",
      "Epoch 42/50\n",
      "371/371 [==============================] - 0s 1ms/step - loss: 0.5084 - accuracy: 0.7807 - val_loss: 0.5929 - val_accuracy: 0.7687\n",
      "Epoch 43/50\n",
      "371/371 [==============================] - 0s 1ms/step - loss: 0.5052 - accuracy: 0.7825 - val_loss: 0.5798 - val_accuracy: 0.7630\n",
      "Epoch 44/50\n",
      "371/371 [==============================] - 0s 1ms/step - loss: 0.5026 - accuracy: 0.7846 - val_loss: 0.5773 - val_accuracy: 0.7657\n",
      "Epoch 45/50\n",
      "371/371 [==============================] - 0s 1ms/step - loss: 0.4989 - accuracy: 0.7806 - val_loss: 0.5719 - val_accuracy: 0.7640\n",
      "Epoch 46/50\n",
      "371/371 [==============================] - 0s 1ms/step - loss: 0.4931 - accuracy: 0.7832 - val_loss: 0.5663 - val_accuracy: 0.7650\n",
      "Epoch 47/50\n",
      "371/371 [==============================] - 0s 1ms/step - loss: 0.4988 - accuracy: 0.7837 - val_loss: 0.5864 - val_accuracy: 0.7687\n",
      "Epoch 48/50\n",
      "371/371 [==============================] - 0s 1ms/step - loss: 0.4896 - accuracy: 0.7832 - val_loss: 0.5745 - val_accuracy: 0.7694\n",
      "Epoch 49/50\n",
      "371/371 [==============================] - 0s 1ms/step - loss: 0.4842 - accuracy: 0.7859 - val_loss: 0.6010 - val_accuracy: 0.7583\n",
      "Epoch 50/50\n",
      "371/371 [==============================] - 0s 1ms/step - loss: 0.4770 - accuracy: 0.7881 - val_loss: 0.6053 - val_accuracy: 0.7596\n"
     ]
    },
    {
     "data": {
      "text/plain": [
       "<tensorflow.python.keras.callbacks.History at 0x7f979161f050>"
      ]
     },
     "execution_count": 9,
     "metadata": {},
     "output_type": "execute_result"
    }
   ],
   "source": [
    "model = create_model()\n",
    "\n",
    "model.fit(x=train_x, y=train_y, epochs=50, validation_data=(test_x, test_y))"
   ]
  },
  {
   "cell_type": "code",
   "execution_count": 10,
   "metadata": {},
   "outputs": [
    {
     "name": "stdout",
     "output_type": "stream",
     "text": [
      "Model: \"sequential\"\n",
      "_________________________________________________________________\n",
      "Layer (type)                 Output Shape              Param #   \n",
      "=================================================================\n",
      "dense (Dense)                (None, 11847, 12)         10572     \n",
      "_________________________________________________________________\n",
      "dense_1 (Dense)              (None, 11847, 8)          104       \n",
      "_________________________________________________________________\n",
      "dense_2 (Dense)              (None, 11847, 8)          72        \n",
      "=================================================================\n",
      "Total params: 10,748\n",
      "Trainable params: 10,748\n",
      "Non-trainable params: 0\n",
      "_________________________________________________________________\n"
     ]
    }
   ],
   "source": [
    "model.summary()"
   ]
  },
  {
   "cell_type": "code",
   "execution_count": 11,
   "metadata": {},
   "outputs": [
    {
     "name": "stdout",
     "output_type": "stream",
     "text": [
      "WARNING:tensorflow:From /Users/thivakkarmahendran/opt/anaconda3/lib/python3.7/site-packages/tensorflow/python/training/tracking/tracking.py:111: Model.state_updates (from tensorflow.python.keras.engine.training) is deprecated and will be removed in a future version.\n",
      "Instructions for updating:\n",
      "This property should not be used in TensorFlow 2.0, as updates are applied automatically.\n",
      "WARNING:tensorflow:From /Users/thivakkarmahendran/opt/anaconda3/lib/python3.7/site-packages/tensorflow/python/training/tracking/tracking.py:111: Layer.updates (from tensorflow.python.keras.engine.base_layer) is deprecated and will be removed in a future version.\n",
      "Instructions for updating:\n",
      "This property should not be used in TensorFlow 2.0, as updates are applied automatically.\n",
      "INFO:tensorflow:Assets written to: Trained Model/assets\n"
     ]
    }
   ],
   "source": [
    "#save the model t\n",
    "model.save('Trained Model')"
   ]
  },
  {
   "cell_type": "code",
   "execution_count": null,
   "metadata": {},
   "outputs": [],
   "source": []
  }
 ],
 "metadata": {
  "kernelspec": {
   "display_name": "Python 3",
   "language": "python",
   "name": "python3"
  },
  "language_info": {
   "codemirror_mode": {
    "name": "ipython",
    "version": 3
   },
   "file_extension": ".py",
   "mimetype": "text/x-python",
   "name": "python",
   "nbconvert_exporter": "python",
   "pygments_lexer": "ipython3",
   "version": "3.7.4"
  }
 },
 "nbformat": 4,
 "nbformat_minor": 4
}
