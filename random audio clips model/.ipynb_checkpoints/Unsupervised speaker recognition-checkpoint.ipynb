{
 "cells": [
  {
   "cell_type": "code",
   "execution_count": 25,
   "metadata": {},
   "outputs": [],
   "source": [
    "from tensorflow import keras\n",
    "import numpy as np\n",
    "import pyaudio\n",
    "import time\n",
    "import librosa\n",
    "import os\n",
    "from glob import glob\n",
    "import scipy.cluster.hierarchy as hcluster\n",
    "import matplotlib.pyplot as plt"
   ]
  },
  {
   "cell_type": "code",
   "execution_count": 26,
   "metadata": {},
   "outputs": [],
   "source": [
    "#load model\n",
    "model = keras.models.load_model('Trained Model')\n",
    "\n",
    "#get embedding layer\n",
    "model.pop()"
   ]
  },
  {
   "cell_type": "code",
   "execution_count": 27,
   "metadata": {},
   "outputs": [],
   "source": [
    "speakers = [\"No Speaker\"]\n",
    "numClips = 23\n",
    "\n",
    "\n",
    "for i in range(numClips):\n",
    "    speakers.append(str(i+1))"
   ]
  },
  {
   "cell_type": "code",
   "execution_count": 28,
   "metadata": {},
   "outputs": [],
   "source": [
    "def getFeatures(audio_Paths):\n",
    "    \n",
    "    data_X = []\n",
    "    \n",
    "    for path in audio_Paths:\n",
    "        \n",
    "        audioLength = librosa.get_duration(filename=path)\n",
    "        \n",
    "        if audioLength != 1.0:\n",
    "            continue\n",
    "        \n",
    "        audioFeatureArray = []        \n",
    "        y, sr = librosa.load(path)\n",
    "        \n",
    "        #mfcc\n",
    "        mfccArray = librosa.feature.mfcc(y=y, sr=sr)\n",
    "        audioFeatureArray.append(mfccArray.flatten())\n",
    "        audioFeatureNumpyArray = np.array(audioFeatureArray)\n",
    "        \n",
    "        #zero_crossing_rate\n",
    "        zeroCrossingArray = librosa.feature.zero_crossing_rate(y=y)\n",
    "        np.append(audioFeatureNumpyArray, zeroCrossingArray.flatten())\n",
    "        \n",
    "        #spectral_rolloff\n",
    "        spectralRollOffArray = librosa.feature.spectral_rolloff(y=y, sr=sr)\n",
    "        np.append(audioFeatureNumpyArray, spectralRollOffArray.flatten())\n",
    "        \n",
    "        data_X.append(audioFeatureNumpyArray.flatten())\n",
    "        \n",
    "    return data_X"
   ]
  },
  {
   "cell_type": "code",
   "execution_count": 29,
   "metadata": {},
   "outputs": [],
   "source": [
    "def findAllAudioFilePaths(speaker):\n",
    "    audioFilesPaths = [y for x in os.walk(\"Dataset/Youtube Speech Dataset/Dataset/{}\".format(speaker)) for y in glob(os.path.join(x[0], '*.wav'))]\n",
    "    return audioFilesPaths"
   ]
  },
  {
   "cell_type": "code",
   "execution_count": 30,
   "metadata": {},
   "outputs": [],
   "source": [
    "def getdata(file):\n",
    "    \n",
    "    audio_Paths = findAllAudioFilePaths(file)\n",
    "\n",
    "    onePath = []\n",
    "    onePath.append(audio_Paths[0])\n",
    "    \n",
    "    audioFeatureArray = getFeatures(audio_Paths) \n",
    "    validation_x = np.array(audioFeatureArray)\n",
    "    \n",
    "    embeddingScore = model.predict(validation_x)        \n",
    "\n",
    "    return embeddingScore"
   ]
  },
  {
   "cell_type": "code",
   "execution_count": 31,
   "metadata": {},
   "outputs": [
    {
     "name": "stdout",
     "output_type": "stream",
     "text": [
      "WARNING:tensorflow:Model was constructed with shape (None, 4845, 880) for input Tensor(\"dense_input_3:0\", shape=(None, 4845, 880), dtype=float32), but it was called on an input with incompatible shape (None, 880).\n",
      "***------\n",
      "(621, 16)\n"
     ]
    }
   ],
   "source": [
    "predictScor = []\n",
    "\n",
    "numSpeaker = 4\n",
    "\n",
    "for speaker in range(numSpeaker): #speakers:\n",
    "    \n",
    "    if(speaker == 0):\n",
    "        predictScor = getdata(str(speaker+1))\n",
    "        predictScore = np.array(predictScor)\n",
    "    else:\n",
    "        \n",
    "        data = getdata(str(speaker+1))\n",
    "        predictScore = np.append(predictScore, data, axis=0)\n",
    "\n",
    "print(\"***------\")\n",
    "print(predictScore.shape)"
   ]
  },
  {
   "cell_type": "code",
   "execution_count": 32,
   "metadata": {},
   "outputs": [
    {
     "name": "stdout",
     "output_type": "stream",
     "text": [
      "threshold: 60.000000, number of clusters: 8\n",
      "threshold: 61.000000, number of clusters: 8\n",
      "threshold: 62.000000, number of clusters: 7\n",
      "threshold: 63.000000, number of clusters: 7\n",
      "threshold: 64.000000, number of clusters: 6\n",
      "threshold: 65.000000, number of clusters: 6\n",
      "threshold: 66.000000, number of clusters: 6\n",
      "threshold: 67.000000, number of clusters: 6\n",
      "threshold: 68.000000, number of clusters: 6\n",
      "threshold: 69.000000, number of clusters: 6\n",
      "threshold: 70.000000, number of clusters: 6\n",
      "threshold: 71.000000, number of clusters: 6\n",
      "threshold: 72.000000, number of clusters: 5\n",
      "threshold: 73.000000, number of clusters: 5\n"
     ]
    }
   ],
   "source": [
    "correctThreshold = 0\n",
    "\n",
    "for i in range(60, 100):\n",
    "    thresh = i\n",
    "    clusters = hcluster.fclusterdata(predictScore, thresh, criterion=\"distance\", metric='euclidean', method='centroid')\n",
    "\n",
    "    if(len(set(clusters)) == numSpeaker):\n",
    "        correctThreshold = i\n",
    "        break\n",
    "    \n",
    "    print(\"threshold: %f, number of clusters: %d\" % (thresh, len(set(clusters))))\n",
    "  "
   ]
  },
  {
   "cell_type": "code",
   "execution_count": 33,
   "metadata": {},
   "outputs": [
    {
     "name": "stdout",
     "output_type": "stream",
     "text": [
      "Threshold: 74\n",
      "[3 3 3 3 3 3 3 3 3 3 3 3 3 3 3 3 3 3 3 3 3 3 3 3 3 3 3 3 3 3 3 3 3 3 3 3 1\n",
      " 3 3 3 3 3 3 3 3 3 3 3 3 3 3 3 1 3 3 3 3 3 3 3 3 3 3 3 3 3 3 3 3 3 3 3 3 3\n",
      " 3 3 3 3 3 3 3 3 3 3 3 3 3 3 3 3 3 3 3 3 3 3 3 3 3 3 3 3 3 3 3 3 3 3 3 4 3\n",
      " 3 3 3 3 3 3 3 3 3 3 3 3 3 3 3 3 3 3 3 3 3 3 3 3 3 3 3 3 3 3 3 3 3 3 3 3 3\n",
      " 3 3 3 3 3 3 3 3 3 3 3 3 3 3 3 3 3 3 3 3 3 3 3 3 3 3 3 3 3 3 3 3 3 3 3 3 3\n",
      " 3 3 3 3 3 3 3 3 3 3 3 3 3 3 3 3 3 3 3 3 3 3 3 3 3 3 3 3 3 3 3 3 3 3 3 3 3\n",
      " 3 3 3 3 3 3 3 3 3 3 3 3 3 3 3 3 3 3 3 3 3 3 3 3 3 3 3 3 3 3 3 3 3 3 3 3 3\n",
      " 3 3 3 3 3 3 3 3 3 3 3 3 3 3 3 3 3 3 3 3 3 3 3 3 3 3 3 3 3 3 3 3 3 3 3 3 3\n",
      " 3 3 3 3 3 3 3 3 3 3 3 3 3 3 3 3 3 3 3 3 3 3 3 3 3 3 3 3 3 3 3 3 3 3 3 3 3\n",
      " 3 3 3 3 3 3 3 3 3 3 3 3 3 3 3 3 3 3 3 3 3 3 3 3 3 3 3 3 3 3 3 3 3 3 3 3 3\n",
      " 3 3 3 3 3 3 3 3 3 3 3 3 3 3 3 3 3 3 3 3 3 3 3 3 3 3 3 2 3 3 3 3 3 3 3 3 3\n",
      " 3 3 3 3 3 3 3 3 3 3 3 3 3 3 3 3 3 3 3 3 3 2 3 3 3 3 3 3 3 3 3 3 3 3 3 3 3\n",
      " 3 3 3 3 3 3 3 3 3 3 3 3 3 3 2 3 3 3 3 3 3 3 3 3 3 3 3 3 3 3 3 3 3 3 3 3 3\n",
      " 3 3 3 3 3 3 3 3 3 3 3 3 3 3 3 3 3 3 3 3 3 3 3 3 3 3 3 3 3 3 3 3 3 3 3 3 3\n",
      " 3 3 3 3 3 3 3 3 3 3 3 3 3 3 3 3 3 3 3 3 3 3 3 3 3 3 3 3 3 3 3 3 3 3 3 3 3\n",
      " 3 3 3 3 3 3 3 3 3 3 3 3 3 3 3 3 3 3 3 3 3 3 3 3 3 3 3 3 3 3 3 3 3 3 3 3 3\n",
      " 3 3 3 3 3 3 3 3 3 3 3 3 3 3 3 3 3 3 3 3 3 3 3 3 3 3 3 3 3]\n"
     ]
    }
   ],
   "source": [
    "print(\"Threshold: {}\".format(correctThreshold))\n",
    "\n",
    "clusters = hcluster.fclusterdata(predictScore, thresh, criterion=\"distance\", metric='euclidean', method='centroid')\n",
    "print(clusters)"
   ]
  },
  {
   "cell_type": "code",
   "execution_count": null,
   "metadata": {},
   "outputs": [],
   "source": []
  }
 ],
 "metadata": {
  "kernelspec": {
   "display_name": "Python 3",
   "language": "python",
   "name": "python3"
  },
  "language_info": {
   "codemirror_mode": {
    "name": "ipython",
    "version": 3
   },
   "file_extension": ".py",
   "mimetype": "text/x-python",
   "name": "python",
   "nbconvert_exporter": "python",
   "pygments_lexer": "ipython3",
   "version": "3.7.4"
  }
 },
 "nbformat": 4,
 "nbformat_minor": 4
}
