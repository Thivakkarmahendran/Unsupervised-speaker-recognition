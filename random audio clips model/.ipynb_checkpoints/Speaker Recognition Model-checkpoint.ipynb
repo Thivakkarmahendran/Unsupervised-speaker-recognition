{
 "cells": [
  {
   "cell_type": "code",
   "execution_count": 84,
   "metadata": {
    "scrolled": true
   },
   "outputs": [],
   "source": [
    "#imports\n",
    "import numpy as np\n",
    "import matplotlib.pyplot as plt\n",
    "\n",
    "#audio\n",
    "from pydub import AudioSegment\n",
    "from pydub.utils import make_chunks\n",
    "\n",
    "#audio feature extraction library\n",
    "import librosa\n",
    "from librosa import feature\n",
    "\n",
    "#model\n",
    "import tensorflow as tf\n",
    "from sklearn.model_selection import train_test_split\n",
    "import soundfile as sf\n",
    "\n",
    "import keras\n",
    "from keras.layers import Dense\n",
    "from keras.models import Sequential\n",
    "from keras.layers import Dense\n",
    "from keras.layers import Flatten\n",
    "from keras.layers.embeddings import Embedding\n",
    "\n",
    "#Other\n",
    "import os\n",
    "from glob import glob\n",
    "import time\n",
    "import pickle\n"
   ]
  },
  {
   "cell_type": "code",
   "execution_count": 85,
   "metadata": {
    "scrolled": true
   },
   "outputs": [],
   "source": [
    "speakers = [\"No Speaker\"]\n",
    "numClips = 15\n",
    "\n",
    "\n",
    "for i in range(numClips):\n",
    "    speakers.append(str(i+1))\n",
    "\n"
   ]
  },
  {
   "cell_type": "code",
   "execution_count": 86,
   "metadata": {
    "scrolled": true
   },
   "outputs": [],
   "source": [
    "def findAllAudioFilePaths():\n",
    "    audioFilesPaths = [y for x in os.walk(\"Dataset/Youtube Speech Dataset/Dataset\") for y in glob(os.path.join(x[0], '*.wav'))]\n",
    "    return audioFilesPaths"
   ]
  },
  {
   "cell_type": "code",
   "execution_count": 87,
   "metadata": {
    "scrolled": true
   },
   "outputs": [],
   "source": [
    "def speakerToLabel(speakerName):\n",
    "    index = speakers.index(speakerName)\n",
    "    \n",
    "    if(index == -1):\n",
    "        print(\"Speaker not found: {}\".format(speakerName))\n",
    "    \n",
    "    return index"
   ]
  },
  {
   "cell_type": "code",
   "execution_count": 88,
   "metadata": {
    "scrolled": true
   },
   "outputs": [],
   "source": [
    "def getSpeakerAndAudio(audioPaths):\n",
    "    audio_Paths = []\n",
    "    labels = []\n",
    "    uniqueSpeakers = {}\n",
    "\n",
    "    for audioPath in audioPaths:\n",
    "        speakerName = audioPath.split(\"/\")[3]\n",
    "\n",
    "        audioLength = librosa.get_duration(filename=audioPath)\n",
    "        \n",
    "        if audioLength == 1.0:\n",
    "            audio_Paths.append(audioPath)\n",
    "            labels.append(speakerToLabel(speakerName))\n",
    "            uniqueSpeakers[speakerName] = uniqueSpeakers.get(speakerName, 0) + 1\n",
    "        else:\n",
    "            print(\"Audio clip discarded, actual length = {}\".format(audioLength))\n",
    "    \n",
    "    return audio_Paths, labels, uniqueSpeakers"
   ]
  },
  {
   "cell_type": "code",
   "execution_count": 89,
   "metadata": {
    "scrolled": true
   },
   "outputs": [],
   "source": [
    " #https://towardsdatascience.com/how-i-understood-what-features-to-consider-while-training-audio-files-eedfb6e9002b\n",
    "        \n",
    "def getFeatures(audio_Paths):\n",
    "    \n",
    "    data_X = []\n",
    "    \n",
    "    for path in audio_Paths:\n",
    "        \n",
    "        audioFeatureArray = []        \n",
    "        y, sr = librosa.load(path)\n",
    "        \n",
    "        #mfcc\n",
    "        mfccArray = librosa.feature.mfcc(y=y, sr=sr)\n",
    "        audioFeatureArray.append(mfccArray.flatten())\n",
    "        audioFeatureNumpyArray = np.array(audioFeatureArray)\n",
    "        \n",
    "        #zero_crossing_rate\n",
    "        zeroCrossingArray = librosa.feature.zero_crossing_rate(y=y)\n",
    "        np.append(audioFeatureNumpyArray, zeroCrossingArray.flatten())\n",
    "        \n",
    "        #spectral_rolloff\n",
    "        spectralRollOffArray = librosa.feature.spectral_rolloff(y=y, sr=sr)\n",
    "        np.append(audioFeatureNumpyArray, spectralRollOffArray.flatten())\n",
    "        \n",
    "        #pitch and magnitude\n",
    "        pitchArray, magnitudeArray = librosa.piptrack(y=y, sr=sr)\n",
    "        np.append(audioFeatureNumpyArray, pitchArray.flatten())\n",
    "        np.append(audioFeatureNumpyArray, magnitudeArray.flatten())\n",
    "        \n",
    "        \n",
    "        data_X.append(audioFeatureNumpyArray.flatten())\n",
    "        \n",
    "        \n",
    "    return data_X"
   ]
  },
  {
   "cell_type": "code",
   "execution_count": 90,
   "metadata": {
    "scrolled": true
   },
   "outputs": [],
   "source": [
    "%%script false --no-raise-error #makes this code not run\n",
    "print(\"This code cell should not run\")\n",
    "\n",
    "\n",
    "audioPaths = findAllAudioFilePaths()\n",
    "audio_Paths, labels, uniqueSpeakers = getSpeakerAndAudio(audioPaths)\n",
    " \n",
    "\n",
    "print(\"\")\n",
    "print(\"-------------------------\")\n",
    "for speaker in uniqueSpeakers: \n",
    "    print(\"Speaker: {}, length: {} minutes\".format(speaker, int(uniqueSpeakers[speaker])/60 )) \n",
    "print(\"-------------------------\")\n",
    "print(\"\")\n",
    "\n",
    "\n",
    "print(\"Total Dataset size: {}\".format(len(audio_Paths)))\n",
    "\n",
    "startTime = time.time()\n",
    "data_X = getFeatures(audio_Paths)\n",
    "endTime = time.time()\n",
    "\n",
    "print(\"Time to extract Features {} minutes\".format( (endTime-startTime)/60))\n",
    "\n",
    "print(\"X data: {}\".format(len(data_X)))\n",
    "print(\"Y data: {}\".format(len(labels)))\n",
    "\n",
    "\n",
    "############\n",
    "print(\"\")\n",
    "\n",
    "print(\"Creating Dataset X pickel\")\n",
    "pickle_dataX = open(\"dataX.pickle\",\"wb\")\n",
    "pickle.dump(data_X, pickle_dataX)\n",
    "pickle_dataX.close()\n",
    "\n",
    "print(\"Creating Dataset Y pickel\")\n",
    "pickle_dataY = open(\"dataY.pickle\",\"wb\")\n",
    "pickle.dump(labels, pickle_dataY)\n",
    "pickle_dataY.close()\n",
    "############"
   ]
  },
  {
   "cell_type": "code",
   "execution_count": 91,
   "metadata": {
    "scrolled": true
   },
   "outputs": [
    {
     "name": "stdout",
     "output_type": "stream",
     "text": [
      "Loading Dataset X from pickel\n",
      "Loading Dataset Y from pickel\n"
     ]
    }
   ],
   "source": [
    "#######\n",
    "print(\"Loading Dataset X from pickel\")\n",
    "pickle_dataX = open(\"dataX.pickle\",\"rb\")\n",
    "data_X = pickle.load(pickle_dataX)\n",
    "\n",
    "print(\"Loading Dataset Y from pickel\")\n",
    "pickle_dataY = open(\"dataY.pickle\",\"rb\")\n",
    "labels = pickle.load(pickle_dataY)\n",
    "#######\n",
    "\n",
    "\n",
    "train_X, test_X, train_Y, test_Y = train_test_split(data_X, labels, test_size=0.2)\n",
    "\n",
    "train_x = np.array(train_X)\n",
    "train_y = np.array(train_Y)\n",
    "test_x = np.array(test_X)\n",
    "test_y = np.array(test_Y)\n",
    "\n",
    "train_y = tf.keras.utils.to_categorical(train_y)\n",
    "test_y = tf.keras.utils.to_categorical(test_y)\n"
   ]
  },
  {
   "cell_type": "code",
   "execution_count": 98,
   "metadata": {
    "scrolled": true
   },
   "outputs": [],
   "source": [
    "# create a model\n",
    "\n",
    "def create_model():\n",
    "\n",
    "    model = Sequential()\n",
    "    \n",
    "    model.add(Dense(12, input_shape= train_x.shape, activation='relu'))\n",
    "    model.add(Dense(8, activation='relu'))\n",
    "    model.add(Dense(len(speakers), activation=\"softmax\"))\n",
    "                          \n",
    "    model.compile(optimizer = keras.optimizers.Adam(lr=3e-4)\n",
    "            , loss = \"categorical_crossentropy\"\n",
    "            , metrics = [\"accuracy\"])\n",
    "                          \n",
    "    \n",
    "    \n",
    "    return model"
   ]
  },
  {
   "cell_type": "code",
   "execution_count": 99,
   "metadata": {
    "scrolled": false
   },
   "outputs": [
    {
     "name": "stdout",
     "output_type": "stream",
     "text": [
      "Epoch 1/50\n",
      "WARNING:tensorflow:Model was constructed with shape (None, 3532, 880) for input Tensor(\"dense_25_input:0\", shape=(None, 3532, 880), dtype=float32), but it was called on an input with incompatible shape (None, 880).\n",
      "WARNING:tensorflow:Model was constructed with shape (None, 3532, 880) for input Tensor(\"dense_25_input:0\", shape=(None, 3532, 880), dtype=float32), but it was called on an input with incompatible shape (None, 880).\n",
      "110/111 [============================>.] - ETA: 0s - loss: 10.3678 - accuracy: 0.4401WARNING:tensorflow:Model was constructed with shape (None, 3532, 880) for input Tensor(\"dense_25_input:0\", shape=(None, 3532, 880), dtype=float32), but it was called on an input with incompatible shape (None, 880).\n",
      "111/111 [==============================] - 0s 3ms/step - loss: 10.3418 - accuracy: 0.4405 - val_loss: 2.8617 - val_accuracy: 0.5441\n",
      "Epoch 2/50\n",
      "111/111 [==============================] - 0s 2ms/step - loss: 2.8035 - accuracy: 0.5405 - val_loss: 2.7796 - val_accuracy: 0.5441\n",
      "Epoch 3/50\n",
      "111/111 [==============================] - 0s 1ms/step - loss: 2.7159 - accuracy: 0.5405 - val_loss: 2.7288 - val_accuracy: 0.5441\n",
      "Epoch 4/50\n",
      "111/111 [==============================] - 0s 1ms/step - loss: 2.6816 - accuracy: 0.5405 - val_loss: 2.6973 - val_accuracy: 0.5441\n",
      "Epoch 5/50\n",
      "111/111 [==============================] - 0s 1ms/step - loss: 2.6535 - accuracy: 0.5408 - val_loss: 2.6722 - val_accuracy: 0.5441\n",
      "Epoch 6/50\n",
      "111/111 [==============================] - 0s 1ms/step - loss: 2.6258 - accuracy: 0.5411 - val_loss: 2.6495 - val_accuracy: 0.5441\n",
      "Epoch 7/50\n",
      "111/111 [==============================] - 0s 2ms/step - loss: 2.6004 - accuracy: 0.5411 - val_loss: 2.6189 - val_accuracy: 0.5441\n",
      "Epoch 8/50\n",
      "111/111 [==============================] - 0s 2ms/step - loss: 2.5787 - accuracy: 0.5408 - val_loss: 2.5970 - val_accuracy: 0.5441\n",
      "Epoch 9/50\n",
      "111/111 [==============================] - 0s 2ms/step - loss: 2.5490 - accuracy: 0.5413 - val_loss: 2.5700 - val_accuracy: 0.5441\n",
      "Epoch 10/50\n",
      "111/111 [==============================] - 0s 2ms/step - loss: 2.5241 - accuracy: 0.5413 - val_loss: 2.5458 - val_accuracy: 0.5441\n",
      "Epoch 11/50\n",
      "111/111 [==============================] - 0s 1ms/step - loss: 2.4997 - accuracy: 0.5413 - val_loss: 2.5222 - val_accuracy: 0.5441\n",
      "Epoch 12/50\n",
      "111/111 [==============================] - 0s 1ms/step - loss: 2.4777 - accuracy: 0.5419 - val_loss: 2.4992 - val_accuracy: 0.5441\n",
      "Epoch 13/50\n",
      "111/111 [==============================] - 0s 2ms/step - loss: 2.4510 - accuracy: 0.5422 - val_loss: 2.4794 - val_accuracy: 0.5441\n",
      "Epoch 14/50\n",
      "111/111 [==============================] - 0s 1ms/step - loss: 2.4277 - accuracy: 0.5425 - val_loss: 2.4581 - val_accuracy: 0.5441\n",
      "Epoch 15/50\n",
      "111/111 [==============================] - 0s 1ms/step - loss: 2.4049 - accuracy: 0.5428 - val_loss: 2.4406 - val_accuracy: 0.5441\n",
      "Epoch 16/50\n",
      "111/111 [==============================] - 0s 2ms/step - loss: 2.3827 - accuracy: 0.5428 - val_loss: 2.4114 - val_accuracy: 0.5441\n",
      "Epoch 17/50\n",
      "111/111 [==============================] - 0s 2ms/step - loss: 2.3606 - accuracy: 0.5428 - val_loss: 2.3921 - val_accuracy: 0.5441\n",
      "Epoch 18/50\n",
      "111/111 [==============================] - 0s 2ms/step - loss: 2.3441 - accuracy: 0.5399 - val_loss: 2.3672 - val_accuracy: 0.2726\n",
      "Epoch 19/50\n",
      "111/111 [==============================] - 0s 2ms/step - loss: 2.3211 - accuracy: 0.5391 - val_loss: 2.3264 - val_accuracy: 0.5486\n",
      "Epoch 20/50\n",
      "111/111 [==============================] - 0s 2ms/step - loss: 2.2937 - accuracy: 0.5453 - val_loss: 2.3015 - val_accuracy: 0.5475\n",
      "Epoch 21/50\n",
      "111/111 [==============================] - 0s 1ms/step - loss: 2.2264 - accuracy: 0.5626 - val_loss: 2.2420 - val_accuracy: 0.5758\n",
      "Epoch 22/50\n",
      "111/111 [==============================] - 0s 1ms/step - loss: 2.1669 - accuracy: 0.5478 - val_loss: 2.1921 - val_accuracy: 0.5577\n",
      "Epoch 23/50\n",
      "111/111 [==============================] - 0s 2ms/step - loss: 2.0519 - accuracy: 0.5127 - val_loss: 2.0661 - val_accuracy: 0.4400\n",
      "Epoch 24/50\n",
      "111/111 [==============================] - 0s 1ms/step - loss: 1.7944 - accuracy: 0.5476 - val_loss: 1.6277 - val_accuracy: 0.5486\n",
      "Epoch 25/50\n",
      "111/111 [==============================] - 0s 1ms/step - loss: 1.5730 - accuracy: 0.5450 - val_loss: 1.5631 - val_accuracy: 0.5464\n",
      "Epoch 26/50\n",
      "111/111 [==============================] - 0s 2ms/step - loss: 1.5346 - accuracy: 0.5461 - val_loss: 1.5415 - val_accuracy: 0.5532\n",
      "Epoch 27/50\n",
      "111/111 [==============================] - 0s 2ms/step - loss: 1.5454 - accuracy: 0.5459 - val_loss: 1.5283 - val_accuracy: 0.5464\n",
      "Epoch 28/50\n",
      "111/111 [==============================] - 0s 1ms/step - loss: 1.5271 - accuracy: 0.5464 - val_loss: 1.5474 - val_accuracy: 0.5486\n",
      "Epoch 29/50\n",
      "111/111 [==============================] - 0s 2ms/step - loss: 1.5160 - accuracy: 0.5473 - val_loss: 1.5471 - val_accuracy: 0.5486\n",
      "Epoch 30/50\n",
      "111/111 [==============================] - 0s 2ms/step - loss: 1.5129 - accuracy: 0.5470 - val_loss: 1.5481 - val_accuracy: 0.5475\n",
      "Epoch 31/50\n",
      "111/111 [==============================] - 0s 1ms/step - loss: 1.5116 - accuracy: 0.5504 - val_loss: 1.5249 - val_accuracy: 0.5452\n",
      "Epoch 32/50\n",
      "111/111 [==============================] - 0s 2ms/step - loss: 1.5057 - accuracy: 0.5493 - val_loss: 1.4993 - val_accuracy: 0.5520\n",
      "Epoch 33/50\n",
      "111/111 [==============================] - 0s 2ms/step - loss: 1.5102 - accuracy: 0.5476 - val_loss: 1.5150 - val_accuracy: 0.5520\n",
      "Epoch 34/50\n",
      "111/111 [==============================] - 0s 1ms/step - loss: 1.4953 - accuracy: 0.5498 - val_loss: 1.5344 - val_accuracy: 0.5520\n",
      "Epoch 35/50\n",
      "111/111 [==============================] - 0s 2ms/step - loss: 1.4978 - accuracy: 0.5510 - val_loss: 1.4785 - val_accuracy: 0.5588\n",
      "Epoch 36/50\n",
      "111/111 [==============================] - 0s 2ms/step - loss: 1.4825 - accuracy: 0.5549 - val_loss: 1.5299 - val_accuracy: 0.5633\n",
      "Epoch 37/50\n",
      "111/111 [==============================] - 0s 1ms/step - loss: 1.4787 - accuracy: 0.5569 - val_loss: 1.4877 - val_accuracy: 0.5622\n",
      "Epoch 38/50\n",
      "111/111 [==============================] - 0s 2ms/step - loss: 1.4702 - accuracy: 0.5583 - val_loss: 1.4937 - val_accuracy: 0.5645\n",
      "Epoch 39/50\n",
      "111/111 [==============================] - 0s 2ms/step - loss: 1.4690 - accuracy: 0.5589 - val_loss: 1.5146 - val_accuracy: 0.5633\n",
      "Epoch 40/50\n",
      "111/111 [==============================] - 0s 1ms/step - loss: 1.4547 - accuracy: 0.5603 - val_loss: 1.4635 - val_accuracy: 0.5656\n",
      "Epoch 41/50\n",
      "111/111 [==============================] - 0s 1ms/step - loss: 1.4555 - accuracy: 0.5600 - val_loss: 1.4752 - val_accuracy: 0.5588\n",
      "Epoch 42/50\n",
      "111/111 [==============================] - 0s 2ms/step - loss: 1.4504 - accuracy: 0.5614 - val_loss: 1.4828 - val_accuracy: 0.5611\n",
      "Epoch 43/50\n",
      "111/111 [==============================] - 0s 1ms/step - loss: 1.4497 - accuracy: 0.5614 - val_loss: 1.4628 - val_accuracy: 0.5645\n",
      "Epoch 44/50\n",
      "111/111 [==============================] - 0s 1ms/step - loss: 1.4417 - accuracy: 0.5631 - val_loss: 1.4577 - val_accuracy: 0.5679\n",
      "Epoch 45/50\n",
      "111/111 [==============================] - 0s 2ms/step - loss: 1.4302 - accuracy: 0.5637 - val_loss: 1.4794 - val_accuracy: 0.5611\n",
      "Epoch 46/50\n",
      "111/111 [==============================] - 0s 2ms/step - loss: 1.4257 - accuracy: 0.5660 - val_loss: 1.4928 - val_accuracy: 0.5713\n",
      "Epoch 47/50\n",
      "111/111 [==============================] - 0s 1ms/step - loss: 1.4211 - accuracy: 0.5648 - val_loss: 1.4645 - val_accuracy: 0.5656\n",
      "Epoch 48/50\n",
      "111/111 [==============================] - 0s 1ms/step - loss: 1.4113 - accuracy: 0.5665 - val_loss: 1.4987 - val_accuracy: 0.5667\n",
      "Epoch 49/50\n",
      "111/111 [==============================] - 0s 2ms/step - loss: 1.4254 - accuracy: 0.5668 - val_loss: 1.5006 - val_accuracy: 0.5667\n",
      "Epoch 50/50\n",
      "111/111 [==============================] - 0s 1ms/step - loss: 1.4061 - accuracy: 0.5660 - val_loss: 1.4767 - val_accuracy: 0.5690\n"
     ]
    },
    {
     "data": {
      "image/png": "[encoded data removed]",
      "text/plain": [
       "<Figure size 432x288 with 1 Axes>"
      ]
     },
     "metadata": {
      "needs_background": "light"
     },
     "output_type": "display_data"
    },
    {
     "data": {
      "image/png": "[encoded data removed]",
      "text/plain": [
       "<Figure size 432x288 with 1 Axes>"
      ]
     },
     "metadata": {
      "needs_background": "light"
     },
     "output_type": "display_data"
    }
   ],
   "source": [
    "model = create_model()\n",
    "\n",
    "model.fit(x=train_x, y=train_y, epochs=50, verbose=1,  validation_data=(test_x, test_y))\n",
    "\n",
    "\n",
    "# Plot history: Loss\n",
    "plt.plot(model.history.history['loss'], label=\"train\")\n",
    "plt.plot(model.history.history['val_loss'], label=\"test\")\n",
    "plt.title('Validation loss history')\n",
    "plt.ylabel('Loss value')\n",
    "plt.xlabel('No. epoch')\n",
    "plt.legend(loc=\"upper right\")\n",
    "plt.show()\n",
    "\n",
    "# Plot history: Accuracy\n",
    "plt.plot(model.history.history['accuracy'], label=\"train\")\n",
    "plt.plot(model.history.history['val_accuracy'], label=\"test\")\n",
    "plt.title('Validation accuracy history')\n",
    "plt.ylabel('Accuracy value (%)')\n",
    "plt.xlabel('No. epoch')\n",
    "plt.legend(loc=\"upper left\")\n",
    "plt.show()"
   ]
  },
  {
   "cell_type": "code",
   "execution_count": null,
   "metadata": {
    "scrolled": true
   },
   "outputs": [],
   "source": [
    "model.summary()"
   ]
  },
  {
   "cell_type": "code",
   "execution_count": null,
   "metadata": {
    "scrolled": true
   },
   "outputs": [],
   "source": [
    "#save the model t\n",
    "#model.save('Trained Model')"
   ]
  },
  {
   "cell_type": "code",
   "execution_count": null,
   "metadata": {
    "scrolled": true
   },
   "outputs": [],
   "source": []
  }
 ],
 "metadata": {
  "kernelspec": {
   "display_name": "Python 3",
   "language": "python",
   "name": "python3"
  },
  "language_info": {
   "codemirror_mode": {
    "name": "ipython",
    "version": 3
   },
   "file_extension": ".py",
   "mimetype": "text/x-python",
   "name": "python",
   "nbconvert_exporter": "python",
   "pygments_lexer": "ipython3",
   "version": "3.7.4"
  }
 },
 "nbformat": 4,
 "nbformat_minor": 4
}
