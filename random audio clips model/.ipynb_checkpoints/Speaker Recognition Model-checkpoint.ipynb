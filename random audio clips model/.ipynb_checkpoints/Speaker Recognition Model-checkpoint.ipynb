{
 "cells": [
  {
   "cell_type": "code",
   "execution_count": 8,
   "metadata": {
    "scrolled": true
   },
   "outputs": [],
   "source": [
    "#imports\n",
    "import numpy as np\n",
    "import matplotlib.pyplot as plt\n",
    "\n",
    "#audio\n",
    "from pydub import AudioSegment\n",
    "from pydub.utils import make_chunks\n",
    "\n",
    "#audio feature extraction library\n",
    "import librosa\n",
    "from librosa import feature\n",
    "\n",
    "#model\n",
    "import tensorflow as tf\n",
    "from sklearn.model_selection import train_test_split\n",
    "import soundfile as sf\n",
    "\n",
    "import keras\n",
    "from keras.layers import Dense\n",
    "from keras.models import Sequential\n",
    "from keras.layers import Dense\n",
    "from keras.layers import Flatten\n",
    "from keras.layers.embeddings import Embedding\n",
    "\n",
    "#Other\n",
    "import os\n",
    "from glob import glob\n",
    "import time\n",
    "import pickle\n"
   ]
  },
  {
   "cell_type": "code",
   "execution_count": 9,
   "metadata": {
    "scrolled": true
   },
   "outputs": [],
   "source": [
    "speakers = [\"No Speaker\"]\n",
    "numClips = 23\n",
    "\n",
    "\n",
    "for i in range(numClips):\n",
    "    speakers.append(str(i+1))\n",
    "\n"
   ]
  },
  {
   "cell_type": "code",
   "execution_count": 10,
   "metadata": {
    "scrolled": true
   },
   "outputs": [],
   "source": [
    "def findAllAudioFilePaths():\n",
    "    audioFilesPaths = [y for x in os.walk(\"Dataset/Youtube Speech Dataset/Dataset\") for y in glob(os.path.join(x[0], '*.wav'))]\n",
    "    return audioFilesPaths"
   ]
  },
  {
   "cell_type": "code",
   "execution_count": 11,
   "metadata": {
    "scrolled": true
   },
   "outputs": [],
   "source": [
    "def speakerToLabel(speakerName):\n",
    "    index = speakers.index(speakerName)\n",
    "    \n",
    "    if(index == -1):\n",
    "        print(\"Speaker not found: {}\".format(speakerName))\n",
    "    \n",
    "    return index"
   ]
  },
  {
   "cell_type": "code",
   "execution_count": 12,
   "metadata": {
    "scrolled": true
   },
   "outputs": [],
   "source": [
    "def getSpeakerAndAudio(audioPaths):\n",
    "    audio_Paths = []\n",
    "    labels = []\n",
    "    uniqueSpeakers = {}\n",
    "\n",
    "    for audioPath in audioPaths:\n",
    "        speakerName = audioPath.split(\"/\")[3]\n",
    "\n",
    "        audioLength = librosa.get_duration(filename=audioPath)\n",
    "        \n",
    "        if audioLength == 1.0:\n",
    "            audio_Paths.append(audioPath)\n",
    "            labels.append(speakerToLabel(speakerName))\n",
    "            uniqueSpeakers[speakerName] = uniqueSpeakers.get(speakerName, 0) + 1\n",
    "        else:\n",
    "            print(\"Audio clip discarded, actual length = {}\".format(audioLength))\n",
    "    \n",
    "    return audio_Paths, labels, uniqueSpeakers"
   ]
  },
  {
   "cell_type": "code",
   "execution_count": 13,
   "metadata": {
    "scrolled": true
   },
   "outputs": [],
   "source": [
    " #https://towardsdatascience.com/how-i-understood-what-features-to-consider-while-training-audio-files-eedfb6e9002b\n",
    "        \n",
    "def getFeatures(audio_Paths):\n",
    "    \n",
    "    data_X = []\n",
    "    \n",
    "    for path in audio_Paths:\n",
    "        \n",
    "        audioFeatureArray = []        \n",
    "        y, sr = librosa.load(path)\n",
    "        \n",
    "        #mfcc\n",
    "        mfccArray = librosa.feature.mfcc(y=y, sr=sr)\n",
    "        audioFeatureArray.append(mfccArray.flatten())\n",
    "        audioFeatureNumpyArray = np.array(audioFeatureArray)\n",
    "        \n",
    "        #zero_crossing_rate\n",
    "        zeroCrossingArray = librosa.feature.zero_crossing_rate(y=y)\n",
    "        np.append(audioFeatureNumpyArray, zeroCrossingArray.flatten())\n",
    "        \n",
    "        #spectral_rolloff\n",
    "        spectralRollOffArray = librosa.feature.spectral_rolloff(y=y, sr=sr)\n",
    "        np.append(audioFeatureNumpyArray, spectralRollOffArray.flatten())\n",
    "        \n",
    "        #pitch and magnitude\n",
    "        pitchArray, magnitudeArray = librosa.piptrack(y=y, sr=sr)\n",
    "        np.append(audioFeatureNumpyArray, pitchArray.flatten())\n",
    "        np.append(audioFeatureNumpyArray, magnitudeArray.flatten())\n",
    "        \n",
    "        \n",
    "        data_X.append(audioFeatureNumpyArray.flatten())\n",
    "        \n",
    "        \n",
    "    return data_X"
   ]
  },
  {
   "cell_type": "code",
   "execution_count": 14,
   "metadata": {
    "scrolled": true
   },
   "outputs": [],
   "source": [
    "%%script false --no-raise-error #makes this code not run\n",
    "#print(\"This code cell should not run\")\n",
    "\n",
    "\n",
    "audioPaths = findAllAudioFilePaths()\n",
    "audio_Paths, labels, uniqueSpeakers = getSpeakerAndAudio(audioPaths)\n",
    " \n",
    "\n",
    "print(\"\")\n",
    "print(\"-------------------------\")\n",
    "for speaker in uniqueSpeakers: \n",
    "    print(\"Speaker: {}, length: {} minutes\".format(speaker, int(uniqueSpeakers[speaker])/60 )) \n",
    "print(\"-------------------------\")\n",
    "print(\"\")\n",
    "\n",
    "\n",
    "print(\"Total Dataset size: {}\".format(len(audio_Paths)))\n",
    "\n",
    "startTime = time.time()\n",
    "data_X = getFeatures(audio_Paths)\n",
    "endTime = time.time()\n",
    "\n",
    "print(\"Time to extract Features {} minutes\".format( (endTime-startTime)/60))\n",
    "\n",
    "print(\"X data: {}\".format(len(data_X)))\n",
    "print(\"Y data: {}\".format(len(labels)))\n",
    "\n",
    "\n",
    "############\n",
    "print(\"\")\n",
    "\n",
    "print(\"Creating Dataset X pickel\")\n",
    "pickle_dataX = open(\"dataX.pickle\",\"wb\")\n",
    "pickle.dump(data_X, pickle_dataX)\n",
    "pickle_dataX.close()\n",
    "\n",
    "print(\"Creating Dataset Y pickel\")\n",
    "pickle_dataY = open(\"dataY.pickle\",\"wb\")\n",
    "pickle.dump(labels, pickle_dataY)\n",
    "pickle_dataY.close()\n",
    "############"
   ]
  },
  {
   "cell_type": "code",
   "execution_count": 15,
   "metadata": {
    "scrolled": true
   },
   "outputs": [
    {
     "name": "stdout",
     "output_type": "stream",
     "text": [
      "Loading Dataset X from pickel\n",
      "Loading Dataset Y from pickel\n"
     ]
    }
   ],
   "source": [
    "#######\n",
    "print(\"Loading Dataset X from pickel\")\n",
    "pickle_dataX = open(\"dataX.pickle\",\"rb\")\n",
    "data_X = pickle.load(pickle_dataX)\n",
    "\n",
    "print(\"Loading Dataset Y from pickel\")\n",
    "pickle_dataY = open(\"dataY.pickle\",\"rb\")\n",
    "labels = pickle.load(pickle_dataY)\n",
    "#######\n",
    "\n",
    "\n",
    "train_X, test_X, train_Y, test_Y = train_test_split(data_X, labels, test_size=0.2)\n",
    "\n",
    "train_x = np.array(train_X)\n",
    "train_y = np.array(train_Y)\n",
    "test_x = np.array(test_X)\n",
    "test_y = np.array(test_Y)\n",
    "\n",
    "train_y = tf.keras.utils.to_categorical(train_y)\n",
    "test_y = tf.keras.utils.to_categorical(test_y)\n"
   ]
  },
  {
   "cell_type": "code",
   "execution_count": 16,
   "metadata": {
    "scrolled": true
   },
   "outputs": [],
   "source": [
    "# create a model\n",
    "\n",
    "def create_model():\n",
    "\n",
    "    model = Sequential()\n",
    "    \n",
    "    \"\"\"\n",
    "    model.add(Dense(12, input_shape= train_x.shape, activation='relu'))\n",
    "    model.add(Dense(8, activation='relu'))\n",
    "    model.add(Dense(len(speakers), activation=\"softmax\"))\n",
    "    \"\"\"\n",
    "    \n",
    "    model.add(Dense(128, input_shape= train_x.shape, activation='relu'))\n",
    "    model.add(Dense(64, activation='relu'))\n",
    "    model.add(Dense(32, activation='relu'))\n",
    "    model.add(Dense(16, activation='relu'))\n",
    "    model.add(Dense(len(speakers), activation=\"softmax\"))\n",
    "    \n",
    "    \n",
    "    \n",
    "    \n",
    "    model.compile(optimizer = keras.optimizers.Adam(lr=3e-4)\n",
    "            , loss = \"categorical_crossentropy\"\n",
    "            , metrics = [\"accuracy\"])\n",
    "                          \n",
    "    \n",
    "    \n",
    "    return model"
   ]
  },
  {
   "cell_type": "code",
   "execution_count": 17,
   "metadata": {
    "scrolled": false
   },
   "outputs": [
    {
     "name": "stdout",
     "output_type": "stream",
     "text": [
      "Epoch 1/50\n",
      "WARNING:tensorflow:Model was constructed with shape (None, 4845, 880) for input Tensor(\"dense_input:0\", shape=(None, 4845, 880), dtype=float32), but it was called on an input with incompatible shape (None, 880).\n",
      "WARNING:tensorflow:Model was constructed with shape (None, 4845, 880) for input Tensor(\"dense_input:0\", shape=(None, 4845, 880), dtype=float32), but it was called on an input with incompatible shape (None, 880).\n",
      "142/152 [===========================>..] - ETA: 0s - loss: 5.7733 - accuracy: 0.2956WARNING:tensorflow:Model was constructed with shape (None, 4845, 880) for input Tensor(\"dense_input:0\", shape=(None, 4845, 880), dtype=float32), but it was called on an input with incompatible shape (None, 880).\n",
      "152/152 [==============================] - 0s 3ms/step - loss: 5.5445 - accuracy: 0.2997 - val_loss: 2.1876 - val_accuracy: 0.3614\n",
      "Epoch 2/50\n",
      "152/152 [==============================] - 0s 2ms/step - loss: 2.0341 - accuracy: 0.4064 - val_loss: 1.9515 - val_accuracy: 0.4546\n",
      "Epoch 3/50\n",
      "152/152 [==============================] - 0s 2ms/step - loss: 1.7900 - accuracy: 0.4603 - val_loss: 1.7291 - val_accuracy: 0.4752\n",
      "Epoch 4/50\n",
      "152/152 [==============================] - 0s 2ms/step - loss: 1.6275 - accuracy: 0.5110 - val_loss: 1.6083 - val_accuracy: 0.5908\n",
      "Epoch 5/50\n",
      "152/152 [==============================] - 0s 2ms/step - loss: 1.4384 - accuracy: 0.5647 - val_loss: 1.5286 - val_accuracy: 0.5281\n",
      "Epoch 6/50\n",
      "152/152 [==============================] - 0s 2ms/step - loss: 1.2979 - accuracy: 0.6025 - val_loss: 1.2635 - val_accuracy: 0.6733\n",
      "Epoch 7/50\n",
      "152/152 [==============================] - 0s 2ms/step - loss: 1.0568 - accuracy: 0.6960 - val_loss: 1.1587 - val_accuracy: 0.6832\n",
      "Epoch 8/50\n",
      "152/152 [==============================] - 0s 2ms/step - loss: 0.9277 - accuracy: 0.7286 - val_loss: 0.9788 - val_accuracy: 0.7170\n",
      "Epoch 9/50\n",
      "152/152 [==============================] - 0s 2ms/step - loss: 0.8547 - accuracy: 0.7529 - val_loss: 0.8716 - val_accuracy: 0.7475\n",
      "Epoch 10/50\n",
      "152/152 [==============================] - 0s 2ms/step - loss: 0.7700 - accuracy: 0.7796 - val_loss: 0.8733 - val_accuracy: 0.7533\n",
      "Epoch 11/50\n",
      "152/152 [==============================] - 0s 2ms/step - loss: 0.7054 - accuracy: 0.7986 - val_loss: 0.8100 - val_accuracy: 0.7698\n",
      "Epoch 12/50\n",
      "152/152 [==============================] - 0s 2ms/step - loss: 0.7076 - accuracy: 0.7988 - val_loss: 0.8107 - val_accuracy: 0.7789\n",
      "Epoch 13/50\n",
      "152/152 [==============================] - 0s 2ms/step - loss: 0.6038 - accuracy: 0.8256 - val_loss: 0.7636 - val_accuracy: 0.7987\n",
      "Epoch 14/50\n",
      "152/152 [==============================] - 0s 2ms/step - loss: 0.5698 - accuracy: 0.8386 - val_loss: 0.7202 - val_accuracy: 0.8003\n",
      "Epoch 15/50\n",
      "152/152 [==============================] - 0s 2ms/step - loss: 0.5402 - accuracy: 0.8448 - val_loss: 0.7084 - val_accuracy: 0.8193\n",
      "Epoch 16/50\n",
      "152/152 [==============================] - 0s 2ms/step - loss: 0.5224 - accuracy: 0.8607 - val_loss: 0.7281 - val_accuracy: 0.8045\n",
      "Epoch 17/50\n",
      "152/152 [==============================] - 0s 2ms/step - loss: 0.4708 - accuracy: 0.8753 - val_loss: 0.7040 - val_accuracy: 0.8144\n",
      "Epoch 18/50\n",
      "152/152 [==============================] - 0s 2ms/step - loss: 0.4197 - accuracy: 0.8885 - val_loss: 0.6597 - val_accuracy: 0.8375\n",
      "Epoch 19/50\n",
      "152/152 [==============================] - 0s 2ms/step - loss: 0.3684 - accuracy: 0.9069 - val_loss: 0.6313 - val_accuracy: 0.8391\n",
      "Epoch 20/50\n",
      "152/152 [==============================] - 0s 2ms/step - loss: 0.3623 - accuracy: 0.9108 - val_loss: 0.6396 - val_accuracy: 0.8490\n",
      "Epoch 21/50\n",
      "152/152 [==============================] - 0s 2ms/step - loss: 0.3761 - accuracy: 0.9030 - val_loss: 0.7988 - val_accuracy: 0.8094\n",
      "Epoch 22/50\n",
      "152/152 [==============================] - 0s 2ms/step - loss: 0.3318 - accuracy: 0.9170 - val_loss: 0.6412 - val_accuracy: 0.8432\n",
      "Epoch 23/50\n",
      "152/152 [==============================] - 0s 2ms/step - loss: 0.2982 - accuracy: 0.9307 - val_loss: 0.7149 - val_accuracy: 0.8432\n",
      "Epoch 24/50\n",
      "152/152 [==============================] - 0s 2ms/step - loss: 0.3329 - accuracy: 0.9170 - val_loss: 0.6469 - val_accuracy: 0.8540\n",
      "Epoch 25/50\n",
      "152/152 [==============================] - 0s 2ms/step - loss: 0.3575 - accuracy: 0.9071 - val_loss: 0.7257 - val_accuracy: 0.8540\n",
      "Epoch 26/50\n",
      "152/152 [==============================] - 0s 2ms/step - loss: 0.2853 - accuracy: 0.9323 - val_loss: 0.6643 - val_accuracy: 0.8507\n",
      "Epoch 27/50\n",
      "152/152 [==============================] - 0s 2ms/step - loss: 0.2565 - accuracy: 0.9412 - val_loss: 0.6081 - val_accuracy: 0.8729\n",
      "Epoch 28/50\n",
      "152/152 [==============================] - 0s 2ms/step - loss: 0.2317 - accuracy: 0.9486 - val_loss: 0.6648 - val_accuracy: 0.8597\n",
      "Epoch 29/50\n",
      "152/152 [==============================] - 0s 2ms/step - loss: 0.2241 - accuracy: 0.9507 - val_loss: 0.5781 - val_accuracy: 0.8721\n",
      "Epoch 30/50\n",
      "152/152 [==============================] - 0s 2ms/step - loss: 0.2277 - accuracy: 0.9513 - val_loss: 0.5702 - val_accuracy: 0.8713\n",
      "Epoch 31/50\n",
      "152/152 [==============================] - 0s 2ms/step - loss: 0.2131 - accuracy: 0.9591 - val_loss: 0.5830 - val_accuracy: 0.8738\n",
      "Epoch 32/50\n",
      "152/152 [==============================] - 0s 2ms/step - loss: 0.2312 - accuracy: 0.9540 - val_loss: 0.6718 - val_accuracy: 0.8581\n",
      "Epoch 33/50\n",
      "152/152 [==============================] - 0s 2ms/step - loss: 0.2154 - accuracy: 0.9544 - val_loss: 0.6424 - val_accuracy: 0.8540\n",
      "Epoch 34/50\n",
      "152/152 [==============================] - 0s 2ms/step - loss: 0.2225 - accuracy: 0.9519 - val_loss: 0.5385 - val_accuracy: 0.8795\n",
      "Epoch 35/50\n",
      "152/152 [==============================] - 0s 2ms/step - loss: 0.2107 - accuracy: 0.9554 - val_loss: 0.5719 - val_accuracy: 0.8812\n",
      "Epoch 36/50\n",
      "152/152 [==============================] - 0s 2ms/step - loss: 0.2405 - accuracy: 0.9467 - val_loss: 0.6374 - val_accuracy: 0.8721\n",
      "Epoch 37/50\n",
      "152/152 [==============================] - 0s 2ms/step - loss: 0.2118 - accuracy: 0.9604 - val_loss: 0.6799 - val_accuracy: 0.8771\n",
      "Epoch 38/50\n",
      "152/152 [==============================] - 0s 2ms/step - loss: 0.2176 - accuracy: 0.9558 - val_loss: 0.5315 - val_accuracy: 0.8820\n",
      "Epoch 39/50\n",
      "152/152 [==============================] - 0s 2ms/step - loss: 0.1806 - accuracy: 0.9626 - val_loss: 0.6807 - val_accuracy: 0.8713\n",
      "Epoch 40/50\n",
      "152/152 [==============================] - 0s 2ms/step - loss: 0.1770 - accuracy: 0.9631 - val_loss: 0.5116 - val_accuracy: 0.8779\n",
      "Epoch 41/50\n",
      "152/152 [==============================] - 0s 2ms/step - loss: 0.1735 - accuracy: 0.9639 - val_loss: 0.6531 - val_accuracy: 0.8630\n",
      "Epoch 42/50\n",
      "152/152 [==============================] - 0s 2ms/step - loss: 0.1797 - accuracy: 0.9616 - val_loss: 0.6839 - val_accuracy: 0.8696\n",
      "Epoch 43/50\n",
      "152/152 [==============================] - 0s 2ms/step - loss: 0.1886 - accuracy: 0.9517 - val_loss: 0.5178 - val_accuracy: 0.8927\n",
      "Epoch 44/50\n",
      "152/152 [==============================] - 0s 2ms/step - loss: 0.1813 - accuracy: 0.9529 - val_loss: 0.6372 - val_accuracy: 0.8911\n",
      "Epoch 45/50\n",
      "152/152 [==============================] - 0s 2ms/step - loss: 0.1544 - accuracy: 0.9622 - val_loss: 0.5518 - val_accuracy: 0.8894\n",
      "Epoch 46/50\n",
      "152/152 [==============================] - 0s 2ms/step - loss: 0.1359 - accuracy: 0.9697 - val_loss: 0.5517 - val_accuracy: 0.8878\n",
      "Epoch 47/50\n",
      "152/152 [==============================] - 0s 2ms/step - loss: 0.1254 - accuracy: 0.9723 - val_loss: 0.5458 - val_accuracy: 0.8936\n",
      "Epoch 48/50\n",
      "152/152 [==============================] - 0s 2ms/step - loss: 0.1137 - accuracy: 0.9715 - val_loss: 0.5216 - val_accuracy: 0.8903\n",
      "Epoch 49/50\n",
      "152/152 [==============================] - 0s 2ms/step - loss: 0.1260 - accuracy: 0.9703 - val_loss: 0.6524 - val_accuracy: 0.8672\n",
      "Epoch 50/50\n",
      "152/152 [==============================] - 0s 2ms/step - loss: 0.1515 - accuracy: 0.9628 - val_loss: 0.6172 - val_accuracy: 0.8812\n"
     ]
    },
    {
     "data": {
      "image/png": "[encoded data removed]",
      "text/plain": [
       "<Figure size 432x288 with 1 Axes>"
      ]
     },
     "metadata": {
      "needs_background": "light"
     },
     "output_type": "display_data"
    },
    {
     "data": {
      "image/png": "[encoded data removed]",
      "text/plain": [
       "<Figure size 432x288 with 1 Axes>"
      ]
     },
     "metadata": {
      "needs_background": "light"
     },
     "output_type": "display_data"
    }
   ],
   "source": [
    "model = create_model()\n",
    "\n",
    "model.fit(x=train_x, y=train_y, epochs=50, verbose=1,  validation_data=(test_x, test_y))\n",
    "\n",
    "\n",
    "# Plot history: Loss\n",
    "plt.plot(model.history.history['loss'], label=\"train\")\n",
    "plt.plot(model.history.history['val_loss'], label=\"test\")\n",
    "plt.title('Validation loss history')\n",
    "plt.ylabel('Loss value')\n",
    "plt.xlabel('No. epoch')\n",
    "plt.legend(loc=\"upper right\")\n",
    "plt.show()\n",
    "\n",
    "# Plot history: Accuracy\n",
    "plt.plot(model.history.history['accuracy'], label=\"train\")\n",
    "plt.plot(model.history.history['val_accuracy'], label=\"test\")\n",
    "plt.title('Validation accuracy history')\n",
    "plt.ylabel('Accuracy value (%)')\n",
    "plt.xlabel('No. epoch')\n",
    "plt.legend(loc=\"upper left\")\n",
    "plt.show()"
   ]
  },
  {
   "cell_type": "code",
   "execution_count": 18,
   "metadata": {
    "scrolled": true
   },
   "outputs": [
    {
     "name": "stdout",
     "output_type": "stream",
     "text": [
      "Model: \"sequential\"\n",
      "_________________________________________________________________\n",
      "Layer (type)                 Output Shape              Param #   \n",
      "=================================================================\n",
      "dense (Dense)                (None, 4845, 128)         112768    \n",
      "_________________________________________________________________\n",
      "dense_1 (Dense)              (None, 4845, 64)          8256      \n",
      "_________________________________________________________________\n",
      "dense_2 (Dense)              (None, 4845, 32)          2080      \n",
      "_________________________________________________________________\n",
      "dense_3 (Dense)              (None, 4845, 16)          528       \n",
      "_________________________________________________________________\n",
      "dense_4 (Dense)              (None, 4845, 24)          408       \n",
      "=================================================================\n",
      "Total params: 124,040\n",
      "Trainable params: 124,040\n",
      "Non-trainable params: 0\n",
      "_________________________________________________________________\n"
     ]
    }
   ],
   "source": [
    "model.summary()"
   ]
  },
  {
   "cell_type": "code",
   "execution_count": 20,
   "metadata": {
    "scrolled": true
   },
   "outputs": [
    {
     "name": "stdout",
     "output_type": "stream",
     "text": [
      "WARNING:tensorflow:From /Users/thivakkarmahendran/opt/anaconda3/lib/python3.7/site-packages/tensorflow/python/training/tracking/tracking.py:111: Model.state_updates (from tensorflow.python.keras.engine.training) is deprecated and will be removed in a future version.\n",
      "Instructions for updating:\n",
      "This property should not be used in TensorFlow 2.0, as updates are applied automatically.\n",
      "WARNING:tensorflow:From /Users/thivakkarmahendran/opt/anaconda3/lib/python3.7/site-packages/tensorflow/python/training/tracking/tracking.py:111: Layer.updates (from tensorflow.python.keras.engine.base_layer) is deprecated and will be removed in a future version.\n",
      "Instructions for updating:\n",
      "This property should not be used in TensorFlow 2.0, as updates are applied automatically.\n",
      "INFO:tensorflow:Assets written to: Trained Model/assets\n"
     ]
    }
   ],
   "source": [
    "#save the model t\n",
    "model.save('Trained Model')"
   ]
  },
  {
   "cell_type": "code",
   "execution_count": null,
   "metadata": {
    "scrolled": true
   },
   "outputs": [],
   "source": []
  }
 ],
 "metadata": {
  "kernelspec": {
   "display_name": "Python 3",
   "language": "python",
   "name": "python3"
  },
  "language_info": {
   "codemirror_mode": {
    "name": "ipython",
    "version": 3
   },
   "file_extension": ".py",
   "mimetype": "text/x-python",
   "name": "python",
   "nbconvert_exporter": "python",
   "pygments_lexer": "ipython3",
   "version": "3.7.4"
  }
 },
 "nbformat": 4,
 "nbformat_minor": 4
}
