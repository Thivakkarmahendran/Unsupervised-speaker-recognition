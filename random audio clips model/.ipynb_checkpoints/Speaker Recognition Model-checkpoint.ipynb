{
 "cells": [
  {
   "cell_type": "code",
   "execution_count": 20,
   "metadata": {
    "scrolled": true
   },
   "outputs": [],
   "source": [
    "#imports\n",
    "import numpy as np\n",
    "import matplotlib.pyplot as plt\n",
    "\n",
    "#audio\n",
    "from pydub import AudioSegment\n",
    "from pydub.utils import make_chunks\n",
    "\n",
    "#audio feature extraction library\n",
    "import librosa\n",
    "from librosa import feature\n",
    "\n",
    "#model\n",
    "import tensorflow as tf\n",
    "from sklearn.model_selection import train_test_split\n",
    "import soundfile as sf\n",
    "\n",
    "import keras\n",
    "from keras.layers import Dense\n",
    "from keras.models import Sequential\n",
    "from keras.layers import Flatten\n",
    "from keras.layers.embeddings import Embedding\n",
    "\n",
    "#Other\n",
    "import os\n",
    "from glob import glob\n",
    "import time\n",
    "import pickle\n"
   ]
  },
  {
   "cell_type": "code",
   "execution_count": 21,
   "metadata": {
    "scrolled": true
   },
   "outputs": [],
   "source": [
    "speakers = [\"No Speaker\"]\n",
    "numClips = 15\n",
    "\n",
    "\n",
    "for i in range(numClips):\n",
    "    speakers.append(str(i+1))\n",
    "\n"
   ]
  },
  {
   "cell_type": "code",
   "execution_count": 22,
   "metadata": {
    "scrolled": true
   },
   "outputs": [],
   "source": [
    "def findAllAudioFilePaths():\n",
    "    audioFilesPaths = [y for x in os.walk(\"Dataset/Youtube Speech Dataset/Dataset\") for y in glob(os.path.join(x[0], '*.wav'))]\n",
    "    return audioFilesPaths"
   ]
  },
  {
   "cell_type": "code",
   "execution_count": 23,
   "metadata": {
    "scrolled": true
   },
   "outputs": [],
   "source": [
    "def speakerToLabel(speakerName):\n",
    "    index = speakers.index(speakerName)\n",
    "    \n",
    "    if(index == -1):\n",
    "        print(\"Speaker not found: {}\".format(speakerName))\n",
    "    \n",
    "    return index"
   ]
  },
  {
   "cell_type": "code",
   "execution_count": 24,
   "metadata": {
    "scrolled": true
   },
   "outputs": [],
   "source": [
    "def getSpeakerAndAudio(audioPaths):\n",
    "    audio_Paths = []\n",
    "    labels = []\n",
    "    uniqueSpeakers = {}\n",
    "\n",
    "    for audioPath in audioPaths:\n",
    "        speakerName = audioPath.split(\"/\")[3]\n",
    "\n",
    "        audioLength = librosa.get_duration(filename=audioPath)\n",
    "        \n",
    "        if audioLength == 1.0:\n",
    "            audio_Paths.append(audioPath)\n",
    "            labels.append(speakerToLabel(speakerName))\n",
    "            uniqueSpeakers[speakerName] = uniqueSpeakers.get(speakerName, 0) + 1\n",
    "        else:\n",
    "            print(\"Audio clip discarded, actual length = {}\".format(audioLength))\n",
    "    \n",
    "    return audio_Paths, labels, uniqueSpeakers"
   ]
  },
  {
   "cell_type": "code",
   "execution_count": 25,
   "metadata": {
    "scrolled": true
   },
   "outputs": [],
   "source": [
    " #https://towardsdatascience.com/how-i-understood-what-features-to-consider-while-training-audio-files-eedfb6e9002b\n",
    "        \n",
    "def getFeatures(audio_Paths):\n",
    "    \n",
    "    data_X = []\n",
    "    \n",
    "    for path in audio_Paths:\n",
    "        \n",
    "        audioFeatureArray = []        \n",
    "        y, sr = librosa.load(path)\n",
    "        \n",
    "        #mfcc\n",
    "        mfccArray = librosa.feature.mfcc(y=y, sr=sr)\n",
    "        audioFeatureArray.append(mfccArray.flatten())\n",
    "        audioFeatureNumpyArray = np.array(audioFeatureArray)\n",
    "        \n",
    "        #zero_crossing_rate\n",
    "        zeroCrossingArray = librosa.feature.zero_crossing_rate(y=y)\n",
    "        np.append(audioFeatureNumpyArray, zeroCrossingArray.flatten())\n",
    "        \n",
    "        #spectral_rolloff\n",
    "        spectralRollOffArray = librosa.feature.spectral_rolloff(y=y, sr=sr)\n",
    "        np.append(audioFeatureNumpyArray, spectralRollOffArray.flatten())\n",
    "        \n",
    "        #pitch and magnitude\n",
    "        pitchArray, magnitudeArray = librosa.piptrack(y=y, sr=sr)\n",
    "        np.append(audioFeatureNumpyArray, pitchArray.flatten())\n",
    "        np.append(audioFeatureNumpyArray, magnitudeArray.flatten())\n",
    "        \n",
    "        \n",
    "        data_X.append(audioFeatureNumpyArray.flatten())\n",
    "        \n",
    "        \n",
    "    return data_X"
   ]
  },
  {
   "cell_type": "code",
   "execution_count": 26,
   "metadata": {
    "scrolled": true
   },
   "outputs": [],
   "source": [
    "%%script false --no-raise-error #makes this code not run\n",
    "print(\"This code cell should not run\")\n",
    "\n",
    "\n",
    "audioPaths = findAllAudioFilePaths()\n",
    "audio_Paths, labels, uniqueSpeakers = getSpeakerAndAudio(audioPaths)\n",
    " \n",
    "\n",
    "print(\"\")\n",
    "print(\"-------------------------\")\n",
    "for speaker in uniqueSpeakers: \n",
    "    print(\"Speaker: {}, length: {} minutes\".format(speaker, int(uniqueSpeakers[speaker])/60 )) \n",
    "print(\"-------------------------\")\n",
    "print(\"\")\n",
    "\n",
    "\n",
    "print(\"Total Dataset size: {}\".format(len(audio_Paths)))\n",
    "\n",
    "startTime = time.time()\n",
    "data_X = getFeatures(audio_Paths)\n",
    "endTime = time.time()\n",
    "\n",
    "print(\"Time to extract Features {} minutes\".format( (endTime-startTime)/60))\n",
    "\n",
    "print(\"X data: {}\".format(len(data_X)))\n",
    "print(\"Y data: {}\".format(len(labels)))\n",
    "\n",
    "\n",
    "############\n",
    "print(\"\")\n",
    "\n",
    "print(\"Creating Dataset X pickel\")\n",
    "pickle_dataX = open(\"dataX.pickle\",\"wb\")\n",
    "pickle.dump(data_X, pickle_dataX)\n",
    "pickle_dataX.close()\n",
    "\n",
    "print(\"Creating Dataset Y pickel\")\n",
    "pickle_dataY = open(\"dataY.pickle\",\"wb\")\n",
    "pickle.dump(labels, pickle_dataY)\n",
    "pickle_dataY.close()\n",
    "############"
   ]
  },
  {
   "cell_type": "code",
   "execution_count": 27,
   "metadata": {
    "scrolled": true
   },
   "outputs": [
    {
     "name": "stdout",
     "output_type": "stream",
     "text": [
      "Loading Dataset X from pickel\n",
      "Loading Dataset Y from pickel\n"
     ]
    }
   ],
   "source": [
    "#######\n",
    "print(\"Loading Dataset X from pickel\")\n",
    "pickle_dataX = open(\"dataX.pickle\",\"rb\")\n",
    "data_X = pickle.load(pickle_dataX)\n",
    "\n",
    "print(\"Loading Dataset Y from pickel\")\n",
    "pickle_dataY = open(\"dataY.pickle\",\"rb\")\n",
    "labels = pickle.load(pickle_dataY)\n",
    "#######\n",
    "\n",
    "\n",
    "train_X, test_X, train_Y, test_Y = train_test_split(data_X, labels, test_size=0.2)\n",
    "\n",
    "train_x = np.array(train_X)\n",
    "train_y = np.array(train_Y)\n",
    "test_x = np.array(test_X)\n",
    "test_y = np.array(test_Y)\n",
    "\n",
    "train_y = tf.keras.utils.to_categorical(train_y)\n",
    "test_y = tf.keras.utils.to_categorical(test_y)\n"
   ]
  },
  {
   "cell_type": "code",
   "execution_count": 28,
   "metadata": {
    "scrolled": true
   },
   "outputs": [],
   "source": [
    "# create a model\n",
    "\n",
    "def create_model():\n",
    "\n",
    "    model = Sequential()\n",
    "    \n",
    "    \"\"\"\n",
    "    model.add(Dense(12, input_shape= train_x.shape, activation='relu'))\n",
    "    model.add(Dense(8, activation='relu'))\n",
    "    model.add(Dense(len(speakers), activation=\"softmax\"))\n",
    "    \"\"\"\n",
    "    \n",
    "    model.add(Dense(128, input_shape= train_x.shape, activation='relu'))\n",
    "    model.add(Dense(64, activation='relu'))\n",
    "    model.add(Dense(32, activation='relu'))\n",
    "    model.add(Dense(16, activation='relu'))\n",
    "    model.add(Dense(len(speakers), activation=\"softmax\"))\n",
    "    \n",
    "    \n",
    "    \n",
    "    \n",
    "    model.compile(optimizer = keras.optimizers.Adam(lr=3e-4)\n",
    "            , loss = \"categorical_crossentropy\"\n",
    "            , metrics = [\"accuracy\"])\n",
    "                          \n",
    "    \n",
    "    \n",
    "    return model"
   ]
  },
  {
   "cell_type": "code",
   "execution_count": 29,
   "metadata": {
    "scrolled": false
   },
   "outputs": [
    {
     "name": "stdout",
     "output_type": "stream",
     "text": [
      "Epoch 1/50\n",
      "WARNING:tensorflow:Model was constructed with shape (None, 3532, 880) for input Tensor(\"dense_5_input:0\", shape=(None, 3532, 880), dtype=float32), but it was called on an input with incompatible shape (None, 880).\n",
      "WARNING:tensorflow:Model was constructed with shape (None, 3532, 880) for input Tensor(\"dense_5_input:0\", shape=(None, 3532, 880), dtype=float32), but it was called on an input with incompatible shape (None, 880).\n",
      " 89/111 [=======================>......] - ETA: 0s - loss: 4.3581 - accuracy: 0.4730 WARNING:tensorflow:Model was constructed with shape (None, 3532, 880) for input Tensor(\"dense_5_input:0\", shape=(None, 3532, 880), dtype=float32), but it was called on an input with incompatible shape (None, 880).\n",
      "111/111 [==============================] - 0s 4ms/step - loss: 3.7869 - accuracy: 0.4958 - val_loss: 1.3640 - val_accuracy: 0.6256\n",
      "Epoch 2/50\n",
      "111/111 [==============================] - 0s 2ms/step - loss: 1.2626 - accuracy: 0.6427 - val_loss: 1.2317 - val_accuracy: 0.6516\n",
      "Epoch 3/50\n",
      "111/111 [==============================] - 0s 2ms/step - loss: 1.1133 - accuracy: 0.6772 - val_loss: 1.1079 - val_accuracy: 0.6765\n",
      "Epoch 4/50\n",
      "111/111 [==============================] - 0s 2ms/step - loss: 1.0033 - accuracy: 0.7016 - val_loss: 1.0433 - val_accuracy: 0.6934\n",
      "Epoch 5/50\n",
      "111/111 [==============================] - 0s 2ms/step - loss: 0.9461 - accuracy: 0.7106 - val_loss: 0.9821 - val_accuracy: 0.7172\n",
      "Epoch 6/50\n",
      "111/111 [==============================] - 0s 2ms/step - loss: 0.8794 - accuracy: 0.7305 - val_loss: 0.9381 - val_accuracy: 0.7217\n",
      "Epoch 7/50\n",
      "111/111 [==============================] - 0s 2ms/step - loss: 0.8456 - accuracy: 0.7438 - val_loss: 0.9124 - val_accuracy: 0.7262\n",
      "Epoch 8/50\n",
      "111/111 [==============================] - 0s 2ms/step - loss: 0.7940 - accuracy: 0.7619 - val_loss: 0.9890 - val_accuracy: 0.7387\n",
      "Epoch 9/50\n",
      "111/111 [==============================] - 0s 2ms/step - loss: 0.7810 - accuracy: 0.7715 - val_loss: 0.8084 - val_accuracy: 0.7466\n",
      "Epoch 10/50\n",
      "111/111 [==============================] - 0s 2ms/step - loss: 0.7103 - accuracy: 0.7913 - val_loss: 0.8150 - val_accuracy: 0.7590\n",
      "Epoch 11/50\n",
      "111/111 [==============================] - 0s 2ms/step - loss: 0.6389 - accuracy: 0.8117 - val_loss: 0.8532 - val_accuracy: 0.7873\n",
      "Epoch 12/50\n",
      "111/111 [==============================] - 0s 2ms/step - loss: 0.6341 - accuracy: 0.8310 - val_loss: 0.7037 - val_accuracy: 0.8326\n",
      "Epoch 13/50\n",
      "111/111 [==============================] - 0s 2ms/step - loss: 0.5538 - accuracy: 0.8550 - val_loss: 0.8304 - val_accuracy: 0.8247\n",
      "Epoch 14/50\n",
      "111/111 [==============================] - 0s 2ms/step - loss: 0.5876 - accuracy: 0.8171 - val_loss: 0.8887 - val_accuracy: 0.7229\n",
      "Epoch 15/50\n",
      "111/111 [==============================] - 0s 2ms/step - loss: 0.5317 - accuracy: 0.8454 - val_loss: 0.7332 - val_accuracy: 0.8473\n",
      "Epoch 16/50\n",
      "111/111 [==============================] - 0s 2ms/step - loss: 0.5307 - accuracy: 0.8398 - val_loss: 0.7265 - val_accuracy: 0.8541\n",
      "Epoch 17/50\n",
      "111/111 [==============================] - 0s 3ms/step - loss: 0.4336 - accuracy: 0.8904 - val_loss: 0.5700 - val_accuracy: 0.8778\n",
      "Epoch 18/50\n",
      "111/111 [==============================] - 0s 3ms/step - loss: 0.4428 - accuracy: 0.8950 - val_loss: 0.6246 - val_accuracy: 0.8733\n",
      "Epoch 19/50\n",
      "111/111 [==============================] - 0s 2ms/step - loss: 0.3801 - accuracy: 0.9052 - val_loss: 0.5983 - val_accuracy: 0.8733\n",
      "Epoch 20/50\n",
      "111/111 [==============================] - 0s 2ms/step - loss: 0.3520 - accuracy: 0.9241 - val_loss: 0.6155 - val_accuracy: 0.8699\n",
      "Epoch 21/50\n",
      "111/111 [==============================] - 0s 2ms/step - loss: 0.3124 - accuracy: 0.9349 - val_loss: 0.5032 - val_accuracy: 0.8925\n",
      "Epoch 22/50\n",
      "111/111 [==============================] - 0s 2ms/step - loss: 0.3002 - accuracy: 0.9383 - val_loss: 0.5037 - val_accuracy: 0.8982\n",
      "Epoch 23/50\n",
      "111/111 [==============================] - 0s 2ms/step - loss: 0.3948 - accuracy: 0.9097 - val_loss: 0.5429 - val_accuracy: 0.8880\n",
      "Epoch 24/50\n",
      "111/111 [==============================] - 0s 2ms/step - loss: 0.2801 - accuracy: 0.9397 - val_loss: 0.5462 - val_accuracy: 0.8903\n",
      "Epoch 25/50\n",
      "111/111 [==============================] - 0s 3ms/step - loss: 0.2461 - accuracy: 0.9505 - val_loss: 0.4796 - val_accuracy: 0.9016\n",
      "Epoch 26/50\n",
      "111/111 [==============================] - 0s 2ms/step - loss: 0.2373 - accuracy: 0.9555 - val_loss: 0.4688 - val_accuracy: 0.9129\n",
      "Epoch 27/50\n",
      "111/111 [==============================] - 0s 2ms/step - loss: 0.2308 - accuracy: 0.9567 - val_loss: 0.5108 - val_accuracy: 0.9084\n",
      "Epoch 28/50\n",
      "111/111 [==============================] - 0s 2ms/step - loss: 0.2134 - accuracy: 0.9587 - val_loss: 0.6324 - val_accuracy: 0.9027\n",
      "Epoch 29/50\n",
      "111/111 [==============================] - 0s 2ms/step - loss: 0.2278 - accuracy: 0.9623 - val_loss: 0.4135 - val_accuracy: 0.9140\n",
      "Epoch 30/50\n",
      "111/111 [==============================] - 0s 2ms/step - loss: 0.1997 - accuracy: 0.9646 - val_loss: 0.3823 - val_accuracy: 0.9219\n",
      "Epoch 31/50\n",
      "111/111 [==============================] - 0s 2ms/step - loss: 0.1965 - accuracy: 0.9638 - val_loss: 0.4986 - val_accuracy: 0.9174\n",
      "Epoch 32/50\n",
      "111/111 [==============================] - 0s 2ms/step - loss: 0.1926 - accuracy: 0.9703 - val_loss: 0.4832 - val_accuracy: 0.9106\n",
      "Epoch 33/50\n",
      "111/111 [==============================] - 0s 2ms/step - loss: 0.1881 - accuracy: 0.9677 - val_loss: 0.4209 - val_accuracy: 0.9276\n",
      "Epoch 34/50\n",
      "111/111 [==============================] - 0s 2ms/step - loss: 0.1869 - accuracy: 0.9706 - val_loss: 0.4273 - val_accuracy: 0.9186\n",
      "Epoch 35/50\n",
      "111/111 [==============================] - 0s 2ms/step - loss: 0.1980 - accuracy: 0.9629 - val_loss: 0.4763 - val_accuracy: 0.9027\n",
      "Epoch 36/50\n",
      "111/111 [==============================] - 0s 3ms/step - loss: 0.2238 - accuracy: 0.9524 - val_loss: 0.3829 - val_accuracy: 0.9174\n",
      "Epoch 37/50\n",
      "111/111 [==============================] - 0s 2ms/step - loss: 0.5076 - accuracy: 0.8298 - val_loss: 0.6515 - val_accuracy: 0.7919\n",
      "Epoch 38/50\n",
      "111/111 [==============================] - 0s 2ms/step - loss: 0.4694 - accuracy: 0.8403 - val_loss: 0.6929 - val_accuracy: 0.7941\n",
      "Epoch 39/50\n",
      "111/111 [==============================] - 0s 2ms/step - loss: 0.4157 - accuracy: 0.8935 - val_loss: 0.4621 - val_accuracy: 0.9152\n",
      "Epoch 40/50\n",
      "111/111 [==============================] - 0s 2ms/step - loss: 0.1735 - accuracy: 0.9663 - val_loss: 0.4554 - val_accuracy: 0.9106\n",
      "Epoch 41/50\n",
      "111/111 [==============================] - 0s 2ms/step - loss: 0.1412 - accuracy: 0.9723 - val_loss: 0.3578 - val_accuracy: 0.9276\n",
      "Epoch 42/50\n",
      "111/111 [==============================] - 0s 2ms/step - loss: 0.1241 - accuracy: 0.9773 - val_loss: 0.3651 - val_accuracy: 0.9333\n",
      "Epoch 43/50\n",
      "111/111 [==============================] - 0s 2ms/step - loss: 0.1284 - accuracy: 0.9748 - val_loss: 0.4706 - val_accuracy: 0.9152\n",
      "Epoch 44/50\n",
      "111/111 [==============================] - 0s 2ms/step - loss: 0.1077 - accuracy: 0.9788 - val_loss: 0.4368 - val_accuracy: 0.9287\n",
      "Epoch 45/50\n",
      "111/111 [==============================] - 0s 2ms/step - loss: 0.1045 - accuracy: 0.9813 - val_loss: 0.4459 - val_accuracy: 0.9287\n",
      "Epoch 46/50\n",
      "111/111 [==============================] - 0s 2ms/step - loss: 0.1007 - accuracy: 0.9822 - val_loss: 0.3910 - val_accuracy: 0.9287\n",
      "Epoch 47/50\n",
      "111/111 [==============================] - 0s 2ms/step - loss: 0.1161 - accuracy: 0.9762 - val_loss: 0.4115 - val_accuracy: 0.9253\n",
      "Epoch 48/50\n",
      "111/111 [==============================] - 0s 2ms/step - loss: 0.1072 - accuracy: 0.9810 - val_loss: 0.6703 - val_accuracy: 0.9129\n",
      "Epoch 49/50\n",
      "111/111 [==============================] - 0s 2ms/step - loss: 0.0887 - accuracy: 0.9856 - val_loss: 0.3998 - val_accuracy: 0.9355\n",
      "Epoch 50/50\n",
      "111/111 [==============================] - 0s 2ms/step - loss: 0.0871 - accuracy: 0.9861 - val_loss: 0.4969 - val_accuracy: 0.9253\n"
     ]
    },
    {
     "data": {
      "image/png": "[encoded data removed]",
      "text/plain": [
       "<Figure size 432x288 with 1 Axes>"
      ]
     },
     "metadata": {
      "needs_background": "light"
     },
     "output_type": "display_data"
    },
    {
     "data": {
      "image/png": "[encoded data removed]",
      "text/plain": [
       "<Figure size 432x288 with 1 Axes>"
      ]
     },
     "metadata": {
      "needs_background": "light"
     },
     "output_type": "display_data"
    }
   ],
   "source": [
    "model = create_model()\n",
    "\n",
    "model.fit(x=train_x, y=train_y, epochs=50, verbose=1,  validation_data=(test_x, test_y))\n",
    "\n",
    "\n",
    "# Plot history: Loss\n",
    "plt.plot(model.history.history['loss'], label=\"train\")\n",
    "plt.plot(model.history.history['val_loss'], label=\"test\")\n",
    "plt.title('Validation loss history')\n",
    "plt.ylabel('Loss value')\n",
    "plt.xlabel('No. epoch')\n",
    "plt.legend(loc=\"upper right\")\n",
    "plt.show()\n",
    "\n",
    "# Plot history: Accuracy\n",
    "plt.plot(model.history.history['accuracy'], label=\"train\")\n",
    "plt.plot(model.history.history['val_accuracy'], label=\"test\")\n",
    "plt.title('Validation accuracy history')\n",
    "plt.ylabel('Accuracy value (%)')\n",
    "plt.xlabel('No. epoch')\n",
    "plt.legend(loc=\"upper left\")\n",
    "plt.show()"
   ]
  },
  {
   "cell_type": "code",
   "execution_count": 30,
   "metadata": {
    "scrolled": true
   },
   "outputs": [
    {
     "name": "stdout",
     "output_type": "stream",
     "text": [
      "Model: \"sequential_1\"\n",
      "_________________________________________________________________\n",
      "Layer (type)                 Output Shape              Param #   \n",
      "=================================================================\n",
      "dense_5 (Dense)              (None, 3532, 128)         112768    \n",
      "_________________________________________________________________\n",
      "dense_6 (Dense)              (None, 3532, 64)          8256      \n",
      "_________________________________________________________________\n",
      "dense_7 (Dense)              (None, 3532, 32)          2080      \n",
      "_________________________________________________________________\n",
      "dense_8 (Dense)              (None, 3532, 16)          528       \n",
      "_________________________________________________________________\n",
      "dense_9 (Dense)              (None, 3532, 16)          272       \n",
      "=================================================================\n",
      "Total params: 123,904\n",
      "Trainable params: 123,904\n",
      "Non-trainable params: 0\n",
      "_________________________________________________________________\n"
     ]
    }
   ],
   "source": [
    "model.summary()"
   ]
  },
  {
   "cell_type": "code",
   "execution_count": 32,
   "metadata": {
    "scrolled": true
   },
   "outputs": [
    {
     "name": "stdout",
     "output_type": "stream",
     "text": [
      "INFO:tensorflow:Assets written to: Trained Model/assets\n"
     ]
    }
   ],
   "source": [
    "#save the model t\n",
    "#model.save('Trained Model')"
   ]
  },
  {
   "cell_type": "code",
   "execution_count": null,
   "metadata": {
    "scrolled": true
   },
   "outputs": [],
   "source": []
  }
 ],
 "metadata": {
  "kernelspec": {
   "display_name": "Python 3",
   "language": "python",
   "name": "python3"
  },
  "language_info": {
   "codemirror_mode": {
    "name": "ipython",
    "version": 3
   },
   "file_extension": ".py",
   "mimetype": "text/x-python",
   "name": "python",
   "nbconvert_exporter": "python",
   "pygments_lexer": "ipython3",
   "version": "3.7.4"
  }
 },
 "nbformat": 4,
 "nbformat_minor": 4
}
