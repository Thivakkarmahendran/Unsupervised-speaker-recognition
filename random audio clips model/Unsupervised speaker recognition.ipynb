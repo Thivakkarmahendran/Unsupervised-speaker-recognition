{
 "cells": [
  {
   "cell_type": "code",
   "execution_count": 10,
   "metadata": {},
   "outputs": [],
   "source": [
    "from tensorflow import keras\n",
    "import numpy as np\n",
    "import pyaudio\n",
    "import time\n",
    "import librosa\n",
    "import os\n",
    "from glob import glob\n",
    "import scipy.cluster.hierarchy as hcluster\n",
    "import matplotlib.pyplot as plt"
   ]
  },
  {
   "cell_type": "code",
   "execution_count": 11,
   "metadata": {},
   "outputs": [],
   "source": [
    "#load model\n",
    "model = keras.models.load_model('Trained Model')\n",
    "\n",
    "#get embedding layer\n",
    "model.pop()"
   ]
  },
  {
   "cell_type": "code",
   "execution_count": 12,
   "metadata": {},
   "outputs": [],
   "source": [
    "speakers = [\"No Speaker\"]\n",
    "numClips = 23\n",
    "\n",
    "\n",
    "for i in range(numClips):\n",
    "    speakers.append(str(i+1))"
   ]
  },
  {
   "cell_type": "code",
   "execution_count": 13,
   "metadata": {},
   "outputs": [],
   "source": [
    "def getFeatures(audio_Paths):\n",
    "    \n",
    "    data_X = []\n",
    "    \n",
    "    for path in audio_Paths:\n",
    "        \n",
    "        audioLength = librosa.get_duration(filename=path)\n",
    "        \n",
    "        if audioLength != 1.0:\n",
    "            continue\n",
    "        \n",
    "        audioFeatureArray = []        \n",
    "        y, sr = librosa.load(path)\n",
    "        \n",
    "        #mfcc\n",
    "        mfccArray = librosa.feature.mfcc(y=y, sr=sr)\n",
    "        audioFeatureArray.append(mfccArray.flatten())\n",
    "        audioFeatureNumpyArray = np.array(audioFeatureArray)\n",
    "        \n",
    "        #zero_crossing_rate\n",
    "        zeroCrossingArray = librosa.feature.zero_crossing_rate(y=y)\n",
    "        np.append(audioFeatureNumpyArray, zeroCrossingArray.flatten())\n",
    "        \n",
    "        #spectral_rolloff\n",
    "        spectralRollOffArray = librosa.feature.spectral_rolloff(y=y, sr=sr)\n",
    "        np.append(audioFeatureNumpyArray, spectralRollOffArray.flatten())\n",
    "        \n",
    "        data_X.append(audioFeatureNumpyArray.flatten())\n",
    "        \n",
    "    return data_X"
   ]
  },
  {
   "cell_type": "code",
   "execution_count": 14,
   "metadata": {},
   "outputs": [],
   "source": [
    "def findAllAudioFilePaths(speaker):\n",
    "    audioFilesPaths = [y for x in os.walk(\"Dataset/Youtube Speech Dataset/Dataset/{}\".format(speaker)) for y in glob(os.path.join(x[0], '*.wav'))]\n",
    "    return audioFilesPaths"
   ]
  },
  {
   "cell_type": "code",
   "execution_count": 15,
   "metadata": {},
   "outputs": [],
   "source": [
    "def getdata(file):\n",
    "    \n",
    "    audio_Paths = findAllAudioFilePaths(file)\n",
    "\n",
    "    onePath = []\n",
    "    onePath.append(audio_Paths[0])\n",
    "    \n",
    "    audioFeatureArray = getFeatures(audio_Paths) \n",
    "    validation_x = np.array(audioFeatureArray)\n",
    "    \n",
    "    embeddingScore = model.predict(validation_x)        \n",
    "\n",
    "    return embeddingScore"
   ]
  },
  {
   "cell_type": "code",
   "execution_count": 19,
   "metadata": {},
   "outputs": [
    {
     "name": "stdout",
     "output_type": "stream",
     "text": [
      "***------\n",
      "(124, 16)\n",
      "[ 0.        0.        0.        0.        0.       78.55986   0.\n",
      "  0.        0.        0.        0.        0.        0.        0.\n",
      "  0.       28.033657]\n",
      "[ 0.        0.        0.        0.        0.       53.745163  0.\n",
      "  0.       41.077858  0.        0.        0.        0.        0.\n",
      "  0.       33.880196]\n",
      "[ 0.        0.        0.        0.        0.       28.087034  0.\n",
      "  0.       20.831884  0.        0.        0.        0.        0.\n",
      "  0.       22.473051]\n",
      "[ 0.        0.        0.        0.        0.       45.467968  0.\n",
      "  0.       18.405972  0.        0.        0.        0.        0.\n",
      "  0.       29.711096]\n",
      "[ 0.        0.        0.        0.        0.       57.781567  0.\n",
      "  0.       44.595768  0.        0.       13.87579   0.        0.\n",
      "  0.       39.74966 ]\n",
      "[ 0.        0.        0.        0.        0.       53.216015  0.\n",
      "  0.       23.865799  0.        0.        0.        0.        0.\n",
      "  0.       22.290665]\n",
      "[ 0.        0.        0.        0.        0.       57.49935   0.\n",
      "  0.        8.215515  0.        0.        0.        0.        0.\n",
      "  0.       30.743914]\n",
      "[ 0.        0.        0.        0.        0.       72.86476   0.\n",
      "  0.        0.        0.        0.        0.        0.        0.\n",
      "  0.       20.066916]\n",
      "[ 0.        0.        0.        0.        0.       56.355217  0.\n",
      "  0.       53.951332  0.        0.        0.        0.        0.\n",
      "  0.       32.871674]\n",
      "[ 0.         0.         0.         0.         0.        60.49191\n",
      "  0.         0.         7.9148746  0.         0.         0.\n",
      "  0.         0.         0.        42.718815 ]\n"
     ]
    }
   ],
   "source": [
    "predictScor = []\n",
    "\n",
    "numSpeaker = 1\n",
    "\n",
    "for speaker in range(numSpeaker): #speakers:\n",
    "    \n",
    "    if(speaker == 0):\n",
    "        predictScor = getdata(str(speaker+1))\n",
    "        predictScore = np.array(predictScor)\n",
    "    else:\n",
    "        \n",
    "        data = getdata(str(speaker+1))\n",
    "        predictScore = np.append(predictScore, data, axis=0)\n",
    "\n",
    "print(\"***------\")\n",
    "print(predictScore.shape)\n",
    "\n",
    "for i in range(10):\n",
    "    print(predictScore[i])\n"
   ]
  },
  {
   "cell_type": "code",
   "execution_count": 17,
   "metadata": {},
   "outputs": [
    {
     "name": "stdout",
     "output_type": "stream",
     "text": [
      "threshold: 60.000000, number of clusters: 4\n",
      "threshold: 61.000000, number of clusters: 4\n",
      "threshold: 62.000000, number of clusters: 4\n",
      "threshold: 63.000000, number of clusters: 4\n",
      "threshold: 64.000000, number of clusters: 4\n",
      "threshold: 65.000000, number of clusters: 3\n",
      "threshold: 66.000000, number of clusters: 3\n",
      "threshold: 67.000000, number of clusters: 3\n",
      "threshold: 68.000000, number of clusters: 3\n",
      "threshold: 69.000000, number of clusters: 3\n",
      "threshold: 70.000000, number of clusters: 2\n",
      "threshold: 71.000000, number of clusters: 2\n",
      "threshold: 72.000000, number of clusters: 2\n",
      "threshold: 73.000000, number of clusters: 2\n",
      "threshold: 74.000000, number of clusters: 2\n",
      "threshold: 75.000000, number of clusters: 2\n",
      "threshold: 76.000000, number of clusters: 2\n",
      "threshold: 77.000000, number of clusters: 2\n",
      "threshold: 78.000000, number of clusters: 2\n",
      "threshold: 79.000000, number of clusters: 2\n",
      "threshold: 80.000000, number of clusters: 2\n",
      "threshold: 81.000000, number of clusters: 2\n",
      "threshold: 82.000000, number of clusters: 2\n",
      "threshold: 83.000000, number of clusters: 2\n",
      "threshold: 84.000000, number of clusters: 2\n",
      "threshold: 85.000000, number of clusters: 2\n"
     ]
    }
   ],
   "source": [
    "correctThreshold = 0\n",
    "\n",
    "for i in range(60, 100):\n",
    "    thresh = i\n",
    "    clusters = hcluster.fclusterdata(predictScore, thresh, criterion=\"distance\", metric='euclidean', method='centroid')\n",
    "\n",
    "    if(len(set(clusters)) == numSpeaker):\n",
    "        correctThreshold = i\n",
    "        break\n",
    "    \n",
    "    print(\"threshold: %f, number of clusters: %d\" % (thresh, len(set(clusters))))\n",
    "  "
   ]
  },
  {
   "cell_type": "code",
   "execution_count": 18,
   "metadata": {},
   "outputs": [
    {
     "name": "stdout",
     "output_type": "stream",
     "text": [
      "Threshold: 86\n",
      "[1 1 1 1 1 1 1 1 1 1 1 1 1 1 1 1 1 1 1 1 1 1 1 1 1 1 1 1 1 1 1 1 1 1 1 1 1\n",
      " 1 1 1 1 1 1 1 1 1 1 1 1 1 1 1 1 1 1 1 1 1 1 1 1 1 1 1 1 1 1 1 1 1 1 1 1 1\n",
      " 1 1 1 1 1 1 1 1 1 1 1 1 1 1 1 1 1 1 1 1 1 1 1 1 1 1 1 1 1 1 1 1 1 1 1 1 1\n",
      " 1 1 1 1 1 1 1 1 1 1 1 1 1]\n"
     ]
    }
   ],
   "source": [
    "print(\"Threshold: {}\".format(correctThreshold))\n",
    "\n",
    "clusters = hcluster.fclusterdata(predictScore, thresh, criterion=\"distance\", metric='euclidean', method='centroid')\n",
    "print(clusters)"
   ]
  },
  {
   "cell_type": "code",
   "execution_count": null,
   "metadata": {},
   "outputs": [],
   "source": []
  }
 ],
 "metadata": {
  "kernelspec": {
   "display_name": "Python 3",
   "language": "python",
   "name": "python3"
  },
  "language_info": {
   "codemirror_mode": {
    "name": "ipython",
    "version": 3
   },
   "file_extension": ".py",
   "mimetype": "text/x-python",
   "name": "python",
   "nbconvert_exporter": "python",
   "pygments_lexer": "ipython3",
   "version": "3.7.4"
  }
 },
 "nbformat": 4,
 "nbformat_minor": 4
}
