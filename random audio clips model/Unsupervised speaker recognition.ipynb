{
 "cells": [
  {
   "cell_type": "code",
   "execution_count": 73,
   "metadata": {},
   "outputs": [],
   "source": [
    "from tensorflow import keras\n",
    "import numpy as np\n",
    "import pyaudio\n",
    "import time\n",
    "import librosa\n",
    "import os\n",
    "from glob import glob\n",
    "import scipy.cluster.hierarchy as hcluster\n",
    "import matplotlib.pyplot as plt"
   ]
  },
  {
   "cell_type": "code",
   "execution_count": 74,
   "metadata": {},
   "outputs": [],
   "source": [
    "#load model\n",
    "model = keras.models.load_model('Trained Model')\n",
    "\n",
    "#get embedding layer\n",
    "model.pop()"
   ]
  },
  {
   "cell_type": "code",
   "execution_count": 75,
   "metadata": {},
   "outputs": [],
   "source": [
    "speakers = [\"No Speaker\"]\n",
    "numClips = 15\n",
    "\n",
    "\n",
    "for i in range(numClips):\n",
    "    speakers.append(str(i+1))"
   ]
  },
  {
   "cell_type": "code",
   "execution_count": 76,
   "metadata": {},
   "outputs": [],
   "source": [
    "def getFeatures(audio_Paths):\n",
    "    \n",
    "    data_X = []\n",
    "    \n",
    "    for path in audio_Paths:\n",
    "        \n",
    "        audioLength = librosa.get_duration(filename=path)\n",
    "        \n",
    "        if audioLength != 1.0:\n",
    "            continue\n",
    "        \n",
    "        audioFeatureArray = []        \n",
    "        y, sr = librosa.load(path)\n",
    "        \n",
    "        #mfcc\n",
    "        mfccArray = librosa.feature.mfcc(y=y, sr=sr)\n",
    "        audioFeatureArray.append(mfccArray.flatten())\n",
    "        audioFeatureNumpyArray = np.array(audioFeatureArray)\n",
    "        \n",
    "        #zero_crossing_rate\n",
    "        zeroCrossingArray = librosa.feature.zero_crossing_rate(y=y)\n",
    "        np.append(audioFeatureNumpyArray, zeroCrossingArray.flatten())\n",
    "        \n",
    "        #spectral_rolloff\n",
    "        spectralRollOffArray = librosa.feature.spectral_rolloff(y=y, sr=sr)\n",
    "        np.append(audioFeatureNumpyArray, spectralRollOffArray.flatten())\n",
    "        \n",
    "        data_X.append(audioFeatureNumpyArray.flatten())\n",
    "        \n",
    "    return data_X"
   ]
  },
  {
   "cell_type": "code",
   "execution_count": 77,
   "metadata": {},
   "outputs": [],
   "source": [
    "def findAllAudioFilePaths(speaker):\n",
    "    audioFilesPaths = [y for x in os.walk(\"Dataset/Youtube Speech Dataset/Dataset/{}\".format(speaker)) for y in glob(os.path.join(x[0], '*.wav'))]\n",
    "    return audioFilesPaths"
   ]
  },
  {
   "cell_type": "code",
   "execution_count": 78,
   "metadata": {},
   "outputs": [],
   "source": [
    "def getdata(file):\n",
    "    \n",
    "    audio_Paths = findAllAudioFilePaths(file)\n",
    "\n",
    "    onePath = []\n",
    "    onePath.append(audio_Paths[0])\n",
    "    \n",
    "    audioFeatureArray = getFeatures(audio_Paths) \n",
    "    validation_x = np.array(audioFeatureArray)\n",
    "    \n",
    "    embeddingScore = model.predict(validation_x)        \n",
    "\n",
    "    return embeddingScore"
   ]
  },
  {
   "cell_type": "code",
   "execution_count": 79,
   "metadata": {},
   "outputs": [
    {
     "name": "stdout",
     "output_type": "stream",
     "text": [
      "WARNING:tensorflow:Model was constructed with shape (None, 3532, 880) for input Tensor(\"dense_5_input_6:0\", shape=(None, 3532, 880), dtype=float32), but it was called on an input with incompatible shape (None, 880).\n",
      "WARNING:tensorflow:Model was constructed with shape (None, 3532, 880) for input Tensor(\"dense_5_input_6:0\", shape=(None, 3532, 880), dtype=float32), but it was called on an input with incompatible shape (32, 880).\n",
      "***------\n",
      "(2086, 16)\n"
     ]
    }
   ],
   "source": [
    "predictScor = []\n",
    "\n",
    "numSpeaker = 4\n",
    "\n",
    "for speaker in range(4, 8):#numSpeaker): #speakers:\n",
    "    \n",
    "    if(speaker == 0):\n",
    "        predictScor = getdata(str(speaker+1))\n",
    "        predictScore = np.array(predictScor)\n",
    "    else:\n",
    "        \n",
    "        data = getdata(str(speaker+1))\n",
    "        predictScore = np.append(predictScore, data, axis=0)\n",
    "\n",
    "print(\"***------\")\n",
    "print(predictScore.shape)\n",
    "\n",
    "\n"
   ]
  },
  {
   "cell_type": "code",
   "execution_count": 80,
   "metadata": {},
   "outputs": [
    {
     "name": "stdout",
     "output_type": "stream",
     "text": [
      "threshold: 25.000000, number of clusters: 116\n",
      "threshold: 26.000000, number of clusters: 108\n",
      "threshold: 27.000000, number of clusters: 102\n",
      "threshold: 28.000000, number of clusters: 97\n",
      "threshold: 29.000000, number of clusters: 89\n",
      "threshold: 30.000000, number of clusters: 81\n",
      "threshold: 31.000000, number of clusters: 77\n",
      "threshold: 32.000000, number of clusters: 67\n",
      "threshold: 33.000000, number of clusters: 63\n",
      "threshold: 34.000000, number of clusters: 56\n",
      "threshold: 35.000000, number of clusters: 54\n",
      "threshold: 36.000000, number of clusters: 52\n",
      "threshold: 37.000000, number of clusters: 49\n",
      "threshold: 38.000000, number of clusters: 44\n",
      "threshold: 39.000000, number of clusters: 42\n",
      "threshold: 40.000000, number of clusters: 38\n",
      "threshold: 41.000000, number of clusters: 37\n",
      "threshold: 42.000000, number of clusters: 36\n",
      "threshold: 43.000000, number of clusters: 34\n",
      "threshold: 44.000000, number of clusters: 31\n",
      "threshold: 45.000000, number of clusters: 30\n",
      "threshold: 46.000000, number of clusters: 26\n",
      "threshold: 47.000000, number of clusters: 24\n",
      "threshold: 48.000000, number of clusters: 23\n",
      "threshold: 49.000000, number of clusters: 23\n",
      "threshold: 50.000000, number of clusters: 20\n",
      "threshold: 51.000000, number of clusters: 20\n",
      "threshold: 52.000000, number of clusters: 19\n",
      "threshold: 53.000000, number of clusters: 19\n",
      "threshold: 54.000000, number of clusters: 19\n",
      "threshold: 55.000000, number of clusters: 19\n",
      "threshold: 56.000000, number of clusters: 18\n",
      "threshold: 57.000000, number of clusters: 18\n",
      "threshold: 58.000000, number of clusters: 17\n",
      "threshold: 59.000000, number of clusters: 17\n",
      "threshold: 60.000000, number of clusters: 17\n",
      "threshold: 61.000000, number of clusters: 17\n",
      "threshold: 62.000000, number of clusters: 15\n",
      "threshold: 63.000000, number of clusters: 14\n",
      "threshold: 64.000000, number of clusters: 13\n",
      "threshold: 65.000000, number of clusters: 13\n",
      "threshold: 66.000000, number of clusters: 13\n",
      "threshold: 67.000000, number of clusters: 13\n",
      "threshold: 68.000000, number of clusters: 13\n",
      "threshold: 69.000000, number of clusters: 12\n",
      "threshold: 70.000000, number of clusters: 12\n",
      "threshold: 71.000000, number of clusters: 12\n",
      "threshold: 72.000000, number of clusters: 11\n",
      "threshold: 73.000000, number of clusters: 11\n",
      "threshold: 74.000000, number of clusters: 9\n",
      "threshold: 75.000000, number of clusters: 9\n",
      "threshold: 76.000000, number of clusters: 8\n",
      "threshold: 77.000000, number of clusters: 8\n",
      "threshold: 78.000000, number of clusters: 7\n",
      "threshold: 79.000000, number of clusters: 7\n",
      "threshold: 80.000000, number of clusters: 6\n",
      "threshold: 81.000000, number of clusters: 5\n",
      "threshold: 82.000000, number of clusters: 5\n",
      "threshold: 83.000000, number of clusters: 5\n",
      "threshold: 84.000000, number of clusters: 5\n",
      "threshold: 85.000000, number of clusters: 5\n",
      "threshold: 86.000000, number of clusters: 5\n",
      "threshold: 87.000000, number of clusters: 5\n",
      "threshold: 88.000000, number of clusters: 5\n",
      "threshold: 89.000000, number of clusters: 5\n",
      "threshold: 90.000000, number of clusters: 5\n"
     ]
    }
   ],
   "source": [
    "correctThreshold = 0\n",
    "\n",
    "for i in range(25, 100):\n",
    "    thresh = i\n",
    "    clusters = hcluster.fclusterdata(predictScore, thresh, criterion=\"distance\", metric='euclidean', method='centroid')\n",
    "\n",
    "    if(len(set(clusters)) <= numSpeaker):\n",
    "        correctThreshold = i\n",
    "        break\n",
    "    \n",
    "    print(\"threshold: %f, number of clusters: %d\" % (thresh, len(set(clusters))))\n",
    "  "
   ]
  },
  {
   "cell_type": "code",
   "execution_count": 87,
   "metadata": {},
   "outputs": [
    {
     "name": "stdout",
     "output_type": "stream",
     "text": [
      "Threshold: 91\n",
      "[4 4 4 4 4 4 4 4 4 4 4 4 4 4 4 4 4 2 4 4 4 4 4 4 4 4 4 4 4 2 4 4 4 2 4 4 4\n",
      " 4 4 4 4 4 4 4 4 4 4 4 4 4 4 4 4 4 4 4 4 4 4 4 4 4 4 4 4 4 4 4 4 4 4 4 4 2\n",
      " 4 4 4 4 4 4 4 4 4 4 4 4 4 4 4 4 4 4 4 4 4 4 4 4 4 4 4 4 4 4 4 4 4 4 4 4 4\n",
      " 4 4 4 4 4 4 4 4 4 4 4 4 4 2 2 2 2 2 2 2 2 2 2 2 2 2 2 2 2 2 2 2 2 2 2 2 2\n",
      " 2 2 2 2 2 2 2 2 2 2 2 2 2 2 2 2 2 2 2 2 2 2 2 2 2 2 2 2 2 2 2 2 2 2 2 2 2\n",
      " 2 2 2 2 2 2 2 2 2 2 2 2 2 2 2 2 2 2 2 2 2 2 2 2 2 2 2 2 2 2 2 2 2 2 2 2 2\n",
      " 2 2 2 2 2 2 2 2 2 2 2 2 2 2 2 2 2 2 2 2 2 2 2 2 2 2 2 2 2 2 2 2 2 2 2 2 2\n",
      " 2 2 2 2 2 2 2 2 2 2 2 2 2 2 2 2 3 3 3 3 3 3 3 3 3 3 3 3 3 3 3 3 3 3 3 3 3\n",
      " 3 3 3 3 3 3 3 3 3 3 3 3 3 3 2 3 3 3 3 3 3 3 3 3 3 3 3 3 3 3 3 3 3 3 3 3 3\n",
      " 3 3 3 3 3 3 3 3 3 3 3 3 3 3 3 3 3 3 3 3 3 3 2 3 3 3 3 3 3 3 3 3 3 3 3 3 3\n",
      " 2 3 3 3 3 3 3 3 3 3 3 3 3 3 3 3 3 3 2 3 3 3 3 3 2 3 3 3 3 3 2 3 3 3 3 3 3\n",
      " 3 3 3 3 2 3 3 3 3 3 3 3 3 3 3 3 3 3 3 2 3 3 3 3 3 3 3 3 3 3 3 3 3 3 3 3 3\n",
      " 3 3 3 3 3 3 3 3 3 3 3 3 3 3 3 3 3 3 3 3 3 3 3 3 3 3 3 3 3 3 3 3 3 3 3 3 3\n",
      " 3 3 3 3 3 3 4 4 4 4 4 4 4 4 4 4 4 4 4 4 4 4 4 4 4 4 4 4 4 4 4 4 4 4 4 4 4\n",
      " 4 4 4 4 4 4 4 4 4 4 4 4 4 4 4 4 4 4 4 4 4 4 4 4 4 4 4 4 4 4 4 4 4 4 4 4 4\n",
      " 4 4 4 4 4 4 4 4 4 4 4 4 4 4 4 4 4 4 4 4 4 4 4 4 4 4 4 4 4 4 4 4 4 4 4 4 4\n",
      " 4 4 4 4 4 4 4 4 4 4 4 4 4 4 4 4 4 4 4 4 4 4 4 4 4 4 4 4 4 4 4 4 4 4 4 4 4\n",
      " 4 4 4 4 4 4 4 4 4 4 4 4 4 4 4 4 4 4 4 4 4 4 4 4 4 4 4 4 4 4 4 4 4 4 4 4 4\n",
      " 4 4 4 4 4 4 4 4 4 4 4 4 4 4 4 4 4 4 4 4 4 4 4 4 4 4 4 4 4 4 4 4 4 4 4 4 4\n",
      " 4 4 4 4 4 4 4 4 4 4 4 4 4 4 4 4 4 4 4 4 4 4 4 4 4 4 4 4 4 4 4 4 4 4 4 4 4\n",
      " 4 4 4 4 4 4 4 4 4 4 4 4 4 4 4 1 1 1 2 2 1 1 1 1 1 2 1 1 1 1 1 2 1 1 1 1 1\n",
      " 1 2 1 1 1 1 2 1 1 1 1 1 1 1 1 1 1 1 1 1 1 1 1 1 1 1 1 1 1 1 1 1 1 1 1 2 1\n",
      " 1 1 1 1 1 1 1 1 1 1 1 2 2 2 1 1 1 1 1 1 1 1 1 1 1 2 2 1 1 1 1 1 1 1 1 2 1\n",
      " 1 1 1 1 1 1 1 2 1 1 1 2 1 1 1 1 1 2 2 2 1 1 1 1 1 1 1 1 1 1 1 1 1 2 1 2 1\n",
      " 1 1 1 1 1 1 1 1 1 1 1 1 1 2 2 2 2 2 1 1 1 1 1 1 1 1 1 1 1 1 1 2 1 2 1 1 1\n",
      " 1 1 1 1 1 1 1 1 2 1 1 1 1 2 1 1 1 1 1 1 1 2 2 2 1 1 1 1 2 4 2 1 1 1 1 1 1\n",
      " 1 1 1 1 3 2 1 1 1 1 1 1 2 1 1 1 1 1 1 2 2 1 1 1 2 2 2 2 2 2 2 2 2 2 2 2 2\n",
      " 2]\n"
     ]
    }
   ],
   "source": [
    "print(\"Threshold: {}\".format(correctThreshold))\n",
    "\n",
    "clusters = hcluster.fclusterdata(predictScore, thresh, criterion=\"distance\", metric='euclidean', method='centroid')\n",
    "\n",
    "import sys\n",
    "np.set_printoptions(threshold=sys.maxsize)\n",
    "\n",
    "print(clusters[0:1000])"
   ]
  },
  {
   "cell_type": "code",
   "execution_count": null,
   "metadata": {},
   "outputs": [],
   "source": []
  }
 ],
 "metadata": {
  "kernelspec": {
   "display_name": "Python 3",
   "language": "python",
   "name": "python3"
  },
  "language_info": {
   "codemirror_mode": {
    "name": "ipython",
    "version": 3
   },
   "file_extension": ".py",
   "mimetype": "text/x-python",
   "name": "python",
   "nbconvert_exporter": "python",
   "pygments_lexer": "ipython3",
   "version": "3.7.4"
  }
 },
 "nbformat": 4,
 "nbformat_minor": 4
}
