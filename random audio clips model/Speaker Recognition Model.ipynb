{
 "cells": [
  {
   "cell_type": "code",
   "execution_count": 1,
   "metadata": {
    "scrolled": true
   },
   "outputs": [],
   "source": [
    "#imports\n",
    "import numpy as np\n",
    "import matplotlib.pyplot as plt\n",
    "\n",
    "#audio\n",
    "from pydub import AudioSegment\n",
    "from pydub.utils import make_chunks\n",
    "\n",
    "#audio feature extraction library\n",
    "import librosa\n",
    "from librosa import feature\n",
    "\n",
    "#model\n",
    "import tensorflow as tf\n",
    "from sklearn.model_selection import train_test_split\n",
    "import soundfile as sf\n",
    "\n",
    "import keras\n",
    "from keras.layers import Dense\n",
    "from keras.models import Sequential\n",
    "from keras.layers import Dense\n",
    "from keras.layers import Flatten\n",
    "from keras.layers.embeddings import Embedding\n",
    "\n",
    "#Other\n",
    "import os\n",
    "from glob import glob\n",
    "import time\n",
    "import pickle\n"
   ]
  },
  {
   "cell_type": "code",
   "execution_count": 2,
   "metadata": {
    "scrolled": true
   },
   "outputs": [],
   "source": [
    "speakers = [\"No Speaker\"]\n",
    "numClips = 15\n",
    "\n",
    "\n",
    "for i in range(numClips):\n",
    "    speakers.append(str(i+1))\n",
    "\n"
   ]
  },
  {
   "cell_type": "code",
   "execution_count": 3,
   "metadata": {
    "scrolled": true
   },
   "outputs": [],
   "source": [
    "def findAllAudioFilePaths():\n",
    "    audioFilesPaths = [y for x in os.walk(\"Dataset/Youtube Speech Dataset/Dataset\") for y in glob(os.path.join(x[0], '*.wav'))]\n",
    "    return audioFilesPaths"
   ]
  },
  {
   "cell_type": "code",
   "execution_count": 4,
   "metadata": {
    "scrolled": true
   },
   "outputs": [],
   "source": [
    "def speakerToLabel(speakerName):\n",
    "    index = speakers.index(speakerName)\n",
    "    \n",
    "    if(index == -1):\n",
    "        print(\"Speaker not found: {}\".format(speakerName))\n",
    "    \n",
    "    return index"
   ]
  },
  {
   "cell_type": "code",
   "execution_count": 5,
   "metadata": {
    "scrolled": true
   },
   "outputs": [],
   "source": [
    "def getSpeakerAndAudio(audioPaths):\n",
    "    audio_Paths = []\n",
    "    labels = []\n",
    "    uniqueSpeakers = {}\n",
    "\n",
    "    for audioPath in audioPaths:\n",
    "        speakerName = audioPath.split(\"/\")[3]\n",
    "\n",
    "        audioLength = librosa.get_duration(filename=audioPath)\n",
    "        \n",
    "        if audioLength == 1.0:\n",
    "            audio_Paths.append(audioPath)\n",
    "            labels.append(speakerToLabel(speakerName))\n",
    "            uniqueSpeakers[speakerName] = uniqueSpeakers.get(speakerName, 0) + 1\n",
    "        else:\n",
    "            print(\"Audio clip discarded, actual length = {}\".format(audioLength))\n",
    "    \n",
    "    return audio_Paths, labels, uniqueSpeakers"
   ]
  },
  {
   "cell_type": "code",
   "execution_count": 6,
   "metadata": {
    "scrolled": true
   },
   "outputs": [],
   "source": [
    " #https://towardsdatascience.com/how-i-understood-what-features-to-consider-while-training-audio-files-eedfb6e9002b\n",
    "        \n",
    "def getFeatures(audio_Paths):\n",
    "    \n",
    "    data_X = []\n",
    "    \n",
    "    for path in audio_Paths:\n",
    "        \n",
    "        audioFeatureArray = []        \n",
    "        y, sr = librosa.load(path)\n",
    "        \n",
    "        #mfcc\n",
    "        mfccArray = librosa.feature.mfcc(y=y, sr=sr)\n",
    "        audioFeatureArray.append(mfccArray.flatten())\n",
    "        audioFeatureNumpyArray = np.array(audioFeatureArray)\n",
    "        \n",
    "        #zero_crossing_rate\n",
    "        zeroCrossingArray = librosa.feature.zero_crossing_rate(y=y)\n",
    "        np.append(audioFeatureNumpyArray, zeroCrossingArray.flatten())\n",
    "        \n",
    "        #spectral_rolloff\n",
    "        spectralRollOffArray = librosa.feature.spectral_rolloff(y=y, sr=sr)\n",
    "        np.append(audioFeatureNumpyArray, spectralRollOffArray.flatten())\n",
    "        \n",
    "        #pitch and magnitude\n",
    "        pitchArray, magnitudeArray = librosa.piptrack(y=y, sr=sr)\n",
    "        np.append(audioFeatureNumpyArray, pitchArray.flatten())\n",
    "        np.append(audioFeatureNumpyArray, magnitudeArray.flatten())\n",
    "        \n",
    "        \n",
    "        data_X.append(audioFeatureNumpyArray.flatten())\n",
    "        \n",
    "        \n",
    "    return data_X"
   ]
  },
  {
   "cell_type": "code",
   "execution_count": 7,
   "metadata": {
    "scrolled": true
   },
   "outputs": [],
   "source": [
    "%%script false --no-raise-error #makes this code not run\n",
    "print(\"This code cell should not run\")\n",
    "\n",
    "\n",
    "audioPaths = findAllAudioFilePaths()\n",
    "audio_Paths, labels, uniqueSpeakers = getSpeakerAndAudio(audioPaths)\n",
    " \n",
    "\n",
    "print(\"\")\n",
    "print(\"-------------------------\")\n",
    "for speaker in uniqueSpeakers: \n",
    "    print(\"Speaker: {}, length: {} minutes\".format(speaker, int(uniqueSpeakers[speaker])/60 )) \n",
    "print(\"-------------------------\")\n",
    "print(\"\")\n",
    "\n",
    "\n",
    "print(\"Total Dataset size: {}\".format(len(audio_Paths)))\n",
    "\n",
    "startTime = time.time()\n",
    "data_X = getFeatures(audio_Paths)\n",
    "endTime = time.time()\n",
    "\n",
    "print(\"Time to extract Features {} minutes\".format( (endTime-startTime)/60))\n",
    "\n",
    "print(\"X data: {}\".format(len(data_X)))\n",
    "print(\"Y data: {}\".format(len(labels)))\n",
    "\n",
    "\n",
    "############\n",
    "print(\"\")\n",
    "\n",
    "print(\"Creating Dataset X pickel\")\n",
    "pickle_dataX = open(\"dataX.pickle\",\"wb\")\n",
    "pickle.dump(data_X, pickle_dataX)\n",
    "pickle_dataX.close()\n",
    "\n",
    "print(\"Creating Dataset Y pickel\")\n",
    "pickle_dataY = open(\"dataY.pickle\",\"wb\")\n",
    "pickle.dump(labels, pickle_dataY)\n",
    "pickle_dataY.close()\n",
    "############"
   ]
  },
  {
   "cell_type": "code",
   "execution_count": 8,
   "metadata": {
    "scrolled": true
   },
   "outputs": [
    {
     "name": "stdout",
     "output_type": "stream",
     "text": [
      "Loading Dataset X from pickel\n",
      "Loading Dataset Y from pickel\n"
     ]
    }
   ],
   "source": [
    "#######\n",
    "print(\"Loading Dataset X from pickel\")\n",
    "pickle_dataX = open(\"dataX.pickle\",\"rb\")\n",
    "data_X = pickle.load(pickle_dataX)\n",
    "\n",
    "print(\"Loading Dataset Y from pickel\")\n",
    "pickle_dataY = open(\"dataY.pickle\",\"rb\")\n",
    "labels = pickle.load(pickle_dataY)\n",
    "#######\n",
    "\n",
    "\n",
    "train_X, test_X, train_Y, test_Y = train_test_split(data_X, labels, test_size=0.2)\n",
    "\n",
    "train_x = np.array(train_X)\n",
    "train_y = np.array(train_Y)\n",
    "test_x = np.array(test_X)\n",
    "test_y = np.array(test_Y)\n",
    "\n",
    "train_y = tf.keras.utils.to_categorical(train_y)\n",
    "test_y = tf.keras.utils.to_categorical(test_y)\n"
   ]
  },
  {
   "cell_type": "code",
   "execution_count": 9,
   "metadata": {
    "scrolled": true
   },
   "outputs": [],
   "source": [
    "# create a model\n",
    "\n",
    "def create_model():\n",
    "\n",
    "    model = Sequential()\n",
    "    \n",
    "    \"\"\"\n",
    "    model.add(Dense(12, input_shape= train_x.shape, activation='relu'))\n",
    "    model.add(Dense(8, activation='relu'))\n",
    "    model.add(Dense(len(speakers), activation=\"softmax\"))\n",
    "    \"\"\"\n",
    "    \n",
    "    model.add(Dense(128, input_shape= train_x.shape, activation='relu'))\n",
    "    model.add(Dense(64, activation='relu'))\n",
    "    model.add(Dense(32, activation='relu'))\n",
    "    model.add(Dense(16, activation='relu'))\n",
    "    model.add(Dense(len(speakers), activation=\"softmax\"))\n",
    "    \n",
    "    \n",
    "    \n",
    "    \n",
    "    model.compile(optimizer = keras.optimizers.Adam(lr=3e-4)\n",
    "            , loss = \"categorical_crossentropy\"\n",
    "            , metrics = [\"accuracy\"])\n",
    "                          \n",
    "    \n",
    "    \n",
    "    return model"
   ]
  },
  {
   "cell_type": "code",
   "execution_count": 10,
   "metadata": {
    "scrolled": false
   },
   "outputs": [
    {
     "name": "stdout",
     "output_type": "stream",
     "text": [
      "Epoch 1/50\n",
      "WARNING:tensorflow:Model was constructed with shape (None, 3532, 880) for input Tensor(\"dense_input:0\", shape=(None, 3532, 880), dtype=float32), but it was called on an input with incompatible shape (None, 880).\n",
      "WARNING:tensorflow:Model was constructed with shape (None, 3532, 880) for input Tensor(\"dense_input:0\", shape=(None, 3532, 880), dtype=float32), but it was called on an input with incompatible shape (None, 880).\n",
      "104/111 [===========================>..] - ETA: 0s - loss: 7.1675 - accuracy: 0.4165WARNING:tensorflow:Model was constructed with shape (None, 3532, 880) for input Tensor(\"dense_input:0\", shape=(None, 3532, 880), dtype=float32), but it was called on an input with incompatible shape (None, 880).\n",
      "111/111 [==============================] - 0s 4ms/step - loss: 6.8547 - accuracy: 0.4199 - val_loss: 1.6332 - val_accuracy: 0.4717\n",
      "Epoch 2/50\n",
      "111/111 [==============================] - 0s 2ms/step - loss: 1.5523 - accuracy: 0.4892 - val_loss: 1.4718 - val_accuracy: 0.4966\n",
      "Epoch 3/50\n",
      "111/111 [==============================] - 0s 2ms/step - loss: 1.4399 - accuracy: 0.5303 - val_loss: 1.5634 - val_accuracy: 0.5124\n",
      "Epoch 4/50\n",
      "111/111 [==============================] - 0s 2ms/step - loss: 1.4439 - accuracy: 0.5691 - val_loss: 1.4474 - val_accuracy: 0.6482\n",
      "Epoch 5/50\n",
      "111/111 [==============================] - 0s 2ms/step - loss: 1.3364 - accuracy: 0.6546 - val_loss: 1.3647 - val_accuracy: 0.6618\n",
      "Epoch 6/50\n",
      "111/111 [==============================] - 0s 3ms/step - loss: 1.2398 - accuracy: 0.6767 - val_loss: 1.3354 - val_accuracy: 0.6697\n",
      "Epoch 7/50\n",
      "111/111 [==============================] - 0s 3ms/step - loss: 1.1681 - accuracy: 0.6999 - val_loss: 1.2639 - val_accuracy: 0.6957\n",
      "Epoch 8/50\n",
      "111/111 [==============================] - 0s 2ms/step - loss: 1.0839 - accuracy: 0.7273 - val_loss: 1.2451 - val_accuracy: 0.7183\n",
      "Epoch 9/50\n",
      "111/111 [==============================] - 0s 2ms/step - loss: 1.0241 - accuracy: 0.7463 - val_loss: 1.2075 - val_accuracy: 0.7262\n",
      "Epoch 10/50\n",
      "111/111 [==============================] - 0s 2ms/step - loss: 0.9701 - accuracy: 0.7687 - val_loss: 1.2129 - val_accuracy: 0.7477\n",
      "Epoch 11/50\n",
      "111/111 [==============================] - 0s 2ms/step - loss: 0.9129 - accuracy: 0.7947 - val_loss: 1.1109 - val_accuracy: 0.7726\n",
      "Epoch 12/50\n",
      "111/111 [==============================] - 0s 2ms/step - loss: 0.8658 - accuracy: 0.8058 - val_loss: 1.0142 - val_accuracy: 0.7986\n",
      "Epoch 13/50\n",
      "111/111 [==============================] - 0s 2ms/step - loss: 0.7928 - accuracy: 0.8321 - val_loss: 1.2030 - val_accuracy: 0.6584\n",
      "Epoch 14/50\n",
      "111/111 [==============================] - 0s 3ms/step - loss: 0.6904 - accuracy: 0.8225 - val_loss: 0.8038 - val_accuracy: 0.8156\n",
      "Epoch 15/50\n",
      "111/111 [==============================] - 0s 2ms/step - loss: 0.6382 - accuracy: 0.8528 - val_loss: 0.9624 - val_accuracy: 0.8314\n",
      "Epoch 16/50\n",
      "111/111 [==============================] - 0s 2ms/step - loss: 0.6613 - accuracy: 0.8692 - val_loss: 0.9202 - val_accuracy: 0.8360\n",
      "Epoch 17/50\n",
      "111/111 [==============================] - 0s 2ms/step - loss: 0.5519 - accuracy: 0.8647 - val_loss: 0.8297 - val_accuracy: 0.8156\n",
      "Epoch 18/50\n",
      "111/111 [==============================] - 0s 2ms/step - loss: 0.4513 - accuracy: 0.8859 - val_loss: 0.7053 - val_accuracy: 0.8247\n",
      "Epoch 19/50\n",
      "111/111 [==============================] - 0s 2ms/step - loss: 0.5614 - accuracy: 0.8845 - val_loss: 0.6291 - val_accuracy: 0.8348\n",
      "Epoch 20/50\n",
      "111/111 [==============================] - 0s 2ms/step - loss: 0.3689 - accuracy: 0.9117 - val_loss: 0.5453 - val_accuracy: 0.8722\n",
      "Epoch 21/50\n",
      "111/111 [==============================] - 0s 3ms/step - loss: 0.4308 - accuracy: 0.9148 - val_loss: 0.7881 - val_accuracy: 0.8835\n",
      "Epoch 22/50\n",
      "111/111 [==============================] - 0s 2ms/step - loss: 0.4710 - accuracy: 0.9323 - val_loss: 0.8127 - val_accuracy: 0.8812\n",
      "Epoch 23/50\n",
      "111/111 [==============================] - 0s 2ms/step - loss: 0.4449 - accuracy: 0.9408 - val_loss: 0.6970 - val_accuracy: 0.8891\n",
      "Epoch 24/50\n",
      "111/111 [==============================] - 0s 3ms/step - loss: 0.4152 - accuracy: 0.9513 - val_loss: 0.6590 - val_accuracy: 0.9084\n",
      "Epoch 25/50\n",
      "111/111 [==============================] - 0s 3ms/step - loss: 0.2882 - accuracy: 0.9584 - val_loss: 0.8501 - val_accuracy: 0.7432\n",
      "Epoch 26/50\n",
      "111/111 [==============================] - 0s 2ms/step - loss: 0.3218 - accuracy: 0.9462 - val_loss: 0.6510 - val_accuracy: 0.9061\n",
      "Epoch 27/50\n",
      "111/111 [==============================] - 0s 2ms/step - loss: 0.3049 - accuracy: 0.9612 - val_loss: 0.7795 - val_accuracy: 0.8925\n",
      "Epoch 28/50\n",
      "111/111 [==============================] - 0s 2ms/step - loss: 0.2391 - accuracy: 0.9609 - val_loss: 0.4847 - val_accuracy: 0.9186\n",
      "Epoch 29/50\n",
      "111/111 [==============================] - 0s 2ms/step - loss: 0.1787 - accuracy: 0.9765 - val_loss: 0.4186 - val_accuracy: 0.9310\n",
      "Epoch 30/50\n",
      "111/111 [==============================] - 0s 2ms/step - loss: 0.1404 - accuracy: 0.9856 - val_loss: 0.4163 - val_accuracy: 0.9208\n",
      "Epoch 31/50\n",
      "111/111 [==============================] - 0s 2ms/step - loss: 0.1553 - accuracy: 0.9796 - val_loss: 0.5421 - val_accuracy: 0.9140\n",
      "Epoch 32/50\n",
      "111/111 [==============================] - 0s 3ms/step - loss: 0.2004 - accuracy: 0.9592 - val_loss: 0.4661 - val_accuracy: 0.9027\n",
      "Epoch 33/50\n",
      "111/111 [==============================] - 0s 2ms/step - loss: 0.1803 - accuracy: 0.9674 - val_loss: 0.4546 - val_accuracy: 0.9163\n",
      "Epoch 34/50\n",
      "111/111 [==============================] - 0s 2ms/step - loss: 0.1492 - accuracy: 0.9782 - val_loss: 0.4022 - val_accuracy: 0.9344\n",
      "Epoch 35/50\n",
      "111/111 [==============================] - 0s 2ms/step - loss: 0.2872 - accuracy: 0.9802 - val_loss: 0.3924 - val_accuracy: 0.9310\n",
      "Epoch 36/50\n",
      "111/111 [==============================] - 0s 3ms/step - loss: 0.1624 - accuracy: 0.9782 - val_loss: 0.3809 - val_accuracy: 0.9378\n",
      "Epoch 37/50\n",
      "111/111 [==============================] - 0s 2ms/step - loss: 0.1105 - accuracy: 0.9853 - val_loss: 0.3160 - val_accuracy: 0.9389\n",
      "Epoch 38/50\n",
      "111/111 [==============================] - 0s 2ms/step - loss: 0.1082 - accuracy: 0.9904 - val_loss: 0.4084 - val_accuracy: 0.9299\n",
      "Epoch 39/50\n",
      "111/111 [==============================] - 0s 2ms/step - loss: 0.0959 - accuracy: 0.9890 - val_loss: 0.3412 - val_accuracy: 0.9457\n",
      "Epoch 40/50\n",
      "111/111 [==============================] - 0s 2ms/step - loss: 0.0938 - accuracy: 0.9904 - val_loss: 0.3342 - val_accuracy: 0.9333\n",
      "Epoch 41/50\n",
      "111/111 [==============================] - 0s 2ms/step - loss: 0.0877 - accuracy: 0.9918 - val_loss: 0.3342 - val_accuracy: 0.9457\n",
      "Epoch 42/50\n",
      "111/111 [==============================] - 0s 2ms/step - loss: 0.0842 - accuracy: 0.9929 - val_loss: 0.3140 - val_accuracy: 0.9468\n",
      "Epoch 43/50\n",
      "111/111 [==============================] - 0s 2ms/step - loss: 0.0799 - accuracy: 0.9926 - val_loss: 0.3168 - val_accuracy: 0.9446\n",
      "Epoch 44/50\n",
      "111/111 [==============================] - 0s 2ms/step - loss: 0.0716 - accuracy: 0.9929 - val_loss: 0.3429 - val_accuracy: 0.9412\n",
      "Epoch 45/50\n",
      "111/111 [==============================] - 0s 2ms/step - loss: 0.0736 - accuracy: 0.9924 - val_loss: 0.3041 - val_accuracy: 0.9423\n",
      "Epoch 46/50\n",
      "111/111 [==============================] - 0s 2ms/step - loss: 0.0953 - accuracy: 0.9898 - val_loss: 0.4228 - val_accuracy: 0.9265\n",
      "Epoch 47/50\n",
      "111/111 [==============================] - 0s 2ms/step - loss: 0.1200 - accuracy: 0.9864 - val_loss: 0.3466 - val_accuracy: 0.9321\n",
      "Epoch 48/50\n",
      "111/111 [==============================] - 0s 2ms/step - loss: 0.1220 - accuracy: 0.9890 - val_loss: 0.3613 - val_accuracy: 0.9378\n",
      "Epoch 49/50\n",
      "111/111 [==============================] - 0s 2ms/step - loss: 0.0802 - accuracy: 0.9915 - val_loss: 0.3130 - val_accuracy: 0.9412\n",
      "Epoch 50/50\n",
      "111/111 [==============================] - 0s 2ms/step - loss: 0.0792 - accuracy: 0.9926 - val_loss: 0.3166 - val_accuracy: 0.9423\n"
     ]
    },
    {
     "data": {
      "image/png": "[encoded data removed]",
      "text/plain": [
       "<Figure size 432x288 with 1 Axes>"
      ]
     },
     "metadata": {
      "needs_background": "light"
     },
     "output_type": "display_data"
    },
    {
     "data": {
      "image/png": "[encoded data removed]",
      "text/plain": [
       "<Figure size 432x288 with 1 Axes>"
      ]
     },
     "metadata": {
      "needs_background": "light"
     },
     "output_type": "display_data"
    }
   ],
   "source": [
    "model = create_model()\n",
    "\n",
    "model.fit(x=train_x, y=train_y, epochs=50, verbose=1,  validation_data=(test_x, test_y))\n",
    "\n",
    "\n",
    "# Plot history: Loss\n",
    "plt.plot(model.history.history['loss'], label=\"train\")\n",
    "plt.plot(model.history.history['val_loss'], label=\"test\")\n",
    "plt.title('Validation loss history')\n",
    "plt.ylabel('Loss value')\n",
    "plt.xlabel('No. epoch')\n",
    "plt.legend(loc=\"upper right\")\n",
    "plt.show()\n",
    "\n",
    "# Plot history: Accuracy\n",
    "plt.plot(model.history.history['accuracy'], label=\"train\")\n",
    "plt.plot(model.history.history['val_accuracy'], label=\"test\")\n",
    "plt.title('Validation accuracy history')\n",
    "plt.ylabel('Accuracy value (%)')\n",
    "plt.xlabel('No. epoch')\n",
    "plt.legend(loc=\"upper left\")\n",
    "plt.show()"
   ]
  },
  {
   "cell_type": "code",
   "execution_count": 11,
   "metadata": {
    "scrolled": true
   },
   "outputs": [
    {
     "name": "stdout",
     "output_type": "stream",
     "text": [
      "Model: \"sequential\"\n",
      "_________________________________________________________________\n",
      "Layer (type)                 Output Shape              Param #   \n",
      "=================================================================\n",
      "dense (Dense)                (None, 3532, 128)         112768    \n",
      "_________________________________________________________________\n",
      "dense_1 (Dense)              (None, 3532, 64)          8256      \n",
      "_________________________________________________________________\n",
      "dense_2 (Dense)              (None, 3532, 32)          2080      \n",
      "_________________________________________________________________\n",
      "dense_3 (Dense)              (None, 3532, 16)          528       \n",
      "_________________________________________________________________\n",
      "dense_4 (Dense)              (None, 3532, 16)          272       \n",
      "=================================================================\n",
      "Total params: 123,904\n",
      "Trainable params: 123,904\n",
      "Non-trainable params: 0\n",
      "_________________________________________________________________\n"
     ]
    }
   ],
   "source": [
    "model.summary()"
   ]
  },
  {
   "cell_type": "code",
   "execution_count": 13,
   "metadata": {
    "scrolled": true
   },
   "outputs": [
    {
     "name": "stdout",
     "output_type": "stream",
     "text": [
      "WARNING:tensorflow:From /Users/thivakkarmahendran/opt/anaconda3/lib/python3.7/site-packages/tensorflow/python/training/tracking/tracking.py:111: Model.state_updates (from tensorflow.python.keras.engine.training) is deprecated and will be removed in a future version.\n",
      "Instructions for updating:\n",
      "This property should not be used in TensorFlow 2.0, as updates are applied automatically.\n",
      "WARNING:tensorflow:From /Users/thivakkarmahendran/opt/anaconda3/lib/python3.7/site-packages/tensorflow/python/training/tracking/tracking.py:111: Layer.updates (from tensorflow.python.keras.engine.base_layer) is deprecated and will be removed in a future version.\n",
      "Instructions for updating:\n",
      "This property should not be used in TensorFlow 2.0, as updates are applied automatically.\n",
      "INFO:tensorflow:Assets written to: Trained Model/assets\n"
     ]
    }
   ],
   "source": [
    "#save the model t\n",
    "model.save('Trained Model')"
   ]
  },
  {
   "cell_type": "code",
   "execution_count": null,
   "metadata": {
    "scrolled": true
   },
   "outputs": [],
   "source": []
  }
 ],
 "metadata": {
  "kernelspec": {
   "display_name": "Python 3",
   "language": "python",
   "name": "python3"
  },
  "language_info": {
   "codemirror_mode": {
    "name": "ipython",
    "version": 3
   },
   "file_extension": ".py",
   "mimetype": "text/x-python",
   "name": "python",
   "nbconvert_exporter": "python",
   "pygments_lexer": "ipython3",
   "version": "3.7.4"
  }
 },
 "nbformat": 4,
 "nbformat_minor": 4
}
